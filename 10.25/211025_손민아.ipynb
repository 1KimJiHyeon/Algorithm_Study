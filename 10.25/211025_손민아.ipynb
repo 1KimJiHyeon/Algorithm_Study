{
 "cells": [
  {
   "cell_type": "markdown",
   "metadata": {},
   "source": [
    "# 11404번 플로이드\n",
    "- https://www.acmicpc.net/problem/11404"
   ]
  },
  {
   "cell_type": "code",
   "execution_count": null,
   "metadata": {},
   "outputs": [],
   "source": [
    "n = int(input())\n",
    "m = int(input())\n",
    "inf = 100000000\n",
    "s = [[inf] * n for i in range(n)]\n",
    "for i in range(m):\n",
    "    a, b, c = map(int, input().split())\n",
    "    if s[a - 1][b - 1] > c:\n",
    "        s[a - 1][b - 1] = c\n",
    "for k in range(n):\n",
    "    for i in range(n):\n",
    "        for j in range(n):\n",
    "            if i != j and s[i][j] > s[i][k] + s[k][j]:\n",
    "                s[i][j] = s[i][k] + s[k][j]\n",
    "for i in s:\n",
    "    for j in i:\n",
    "        if j == inf:\n",
    "            print(0, end=' ')\n",
    "        else:\n",
    "            print(j, end=' ')\n",
    "    print()"
   ]
  }
 ],
 "metadata": {
  "language_info": {
   "name": "python"
  },
  "orig_nbformat": 4
 },
 "nbformat": 4,
 "nbformat_minor": 2
}
