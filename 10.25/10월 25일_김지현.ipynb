{
 "cells": [
  {
   "cell_type": "markdown",
   "id": "b42ec1c8",
   "metadata": {},
   "source": [
    "### 1753번 최단경로\n",
    "#### https://www.acmicpc.net/problem/1753"
   ]
  },
  {
   "cell_type": "code",
   "execution_count": 1,
   "id": "5e758af7",
   "metadata": {},
   "outputs": [
    {
     "name": "stdout",
     "output_type": "stream",
     "text": [
      "5 6\n",
      "1\n",
      "5 1 1\n",
      "1 2 2\n",
      "1 3 3\n",
      "2 3 4\n",
      "2 4 5\n",
      "3 4 6\n",
      "0\n",
      "2\n",
      "3\n",
      "7\n",
      "INF\n"
     ]
    }
   ],
   "source": [
    "# 1753번\n",
    "\n",
    "import math\n",
    "import heapq\n",
    "\n",
    "v, e = map(int, input().split())\n",
    "k = int(input())  # 시작점\n",
    "dist = [math.inf] * (v + 1)  # 거리 테이블\n",
    "heap = []\n",
    "graph = [[] for _ in range(v + 1)]\n",
    "\n",
    "for _ in range(e):  # 그래프 초기화\n",
    "    start, end, w = map(int, input().split())\n",
    "    graph[start].append((w, end))\n",
    "\n",
    "\n",
    "def dijkstra(start):\n",
    "    dist[start] = 0  # 시작 가중치 = 0\n",
    "    heapq.heappush(heap, (dist[start], start))  # 시작점 우선순위 큐에 넣음 (가중치가 맨앞으로)\n",
    "\n",
    "    while heap:  # 큐에 아무것도 없을때 까지\n",
    "        current_weight, current = heapq.heappop(heap)  # 큐에서 가장 작은 거리 pop\n",
    "\n",
    "        if dist[current] < current_weight:  # pop한 노드의 가중치가 이미 저장된 가중치보다 크면 패스\n",
    "            continue\n",
    "\n",
    "        for graph_next_weight, next in graph[current]:\n",
    "            next_weight = current_weight + graph_next_weight  # 이전 노드에서 다음 노드로 가느 가중치\n",
    "\n",
    "            if next_weight < dist[next]:  # 계산된 가중치 < 다음 노드의 가중치\n",
    "                dist[next] = next_weight\n",
    "                heapq.heappush(heap, (next_weight, next))  # 큐에 다음 노드랑 게산된 가중치 넣음\n",
    "\n",
    "\n",
    "dijkstra(k)\n",
    "for i in range(1, v + 1):\n",
    "    if dist[i] == math.inf:\n",
    "        print(\"INF\")\n",
    "    else:\n",
    "        print(dist[i])"
   ]
  },
  {
   "cell_type": "markdown",
   "id": "a6195d9c",
   "metadata": {},
   "source": [
    "### 11404번 플로이드\n",
    "#### https://www.acmicpc.net/problem/11404"
   ]
  },
  {
   "cell_type": "code",
   "execution_count": 1,
   "id": "c34f30fd",
   "metadata": {},
   "outputs": [
    {
     "name": "stdout",
     "output_type": "stream",
     "text": [
      "5\n",
      "14\n",
      "1 2 2\n",
      "1 3 3\n",
      "1 4 1\n",
      "1 5 10\n",
      "2 4 2\n",
      "3 4 1\n",
      "3 5 1\n",
      "4 5 3\n",
      "3 5 10\n",
      "3 1 8\n",
      "1 4 2\n",
      "5 1 7\n",
      "3 4 2\n",
      "5 2 4\n",
      "0 2 3 1 4 \n",
      "12 0 15 2 5 \n",
      "8 5 0 1 1 \n",
      "10 7 13 0 3 \n",
      "7 4 10 6 0 \n"
     ]
    }
   ],
   "source": [
    "# 11404번\n",
    "\n",
    "INF = int(1e9) # 무한을 의미하는 값으로 10억을 설정\n",
    "\n",
    "# 노드의 개수 및 간선의 개수를 입력받기\n",
    "n = int(input())\n",
    "m = int(input())\n",
    "\n",
    "# 2차원 리스트(그래프 표현)를 만들고, 모든 값을 무한으로 초기화\n",
    "graph = [[INF] * (n + 1) for _ in range(n + 1)]\n",
    "\n",
    "# 자기 자신에서 자기 자신으로 가는 비용은 0으로 초기화\n",
    "for a in range(1, n + 1):\n",
    "    for b in range(1, n + 1):\n",
    "        if a == b:\n",
    "            graph[a][b] = 0\n",
    "\n",
    "# 각 간선에 대한 정보를 입력 받아, 그 값으로 초기화\n",
    "for _ in range(m):\n",
    "    # A에서 B로 가는 비용은 C라고 설정\n",
    "    a, b, c = map(int, input().split())\n",
    "    if graph[a][b] > c:\n",
    "        graph[a][b] = c\n",
    "\n",
    "# 점화식에 따라 플로이드 워셜 알고리즘을 수행\n",
    "for k in range(1, n + 1):\n",
    "    for a in range(1, n + 1):\n",
    "        for b in range(1, n + 1):\n",
    "            if a == b:\n",
    "                graph[a][b] = 0\n",
    "            else:\n",
    "                graph[a][b] = min(graph[a][b], graph[a][k] + graph[k][b])\n",
    "\n",
    "# 수행된 결과를 출력\n",
    "for a in range(1, n + 1):\n",
    "    for b in range(1, n + 1):\n",
    "        # 도달할 수 없는 경우, 무한(INFINITY)이라고 출력\n",
    "        if graph[a][b] == 1e9:\n",
    "            print(0, end=\" \")\n",
    "        # 도달할 수 있는 경우 거리를 출력\n",
    "        else:\n",
    "            print(graph[a][b], end=\" \")\n",
    "    print()"
   ]
  }
 ],
 "metadata": {
  "kernelspec": {
   "display_name": "Python 3 (ipykernel)",
   "language": "python",
   "name": "python3"
  },
  "language_info": {
   "codemirror_mode": {
    "name": "ipython",
    "version": 3
   },
   "file_extension": ".py",
   "mimetype": "text/x-python",
   "name": "python",
   "nbconvert_exporter": "python",
   "pygments_lexer": "ipython3",
   "version": "3.8.11"
  }
 },
 "nbformat": 4,
 "nbformat_minor": 5
}
