{
 "cells": [
  {
   "cell_type": "markdown",
   "id": "cb0a0511",
   "metadata": {},
   "source": [
    "* **작성자** : 김종원\n",
    "* 작성일지 : 2021.10.25\n",
    "\n",
    "\n",
    "## 최단경로 1753번\n",
    "\n",
    "* https://www.acmicpc.net/problem/1753\n"
   ]
  },
  {
   "cell_type": "markdown",
   "id": "8c422f83",
   "metadata": {},
   "source": [
    "* 1. 다익스트라 알고리즘  사용하기"
   ]
  },
  {
   "cell_type": "code",
   "execution_count": 2,
   "id": "30967f40",
   "metadata": {},
   "outputs": [
    {
     "name": "stdout",
     "output_type": "stream",
     "text": [
      "5 6\n",
      "1\n",
      "5 1 1\n",
      "1 2 2\n",
      "1 3 3\n",
      "2 3 4\n",
      "2 4 5\n",
      "3 4 6\n",
      "Dist :  0  Now :  1\n",
      "그래프 Now 정보 :  [(2, 2), (3, 3)]\n",
      "cost :  2 i[0] :  2\n",
      "cost :  3 i[0] :  3\n",
      "Dist :  2  Now :  2\n",
      "그래프 Now 정보 :  [(3, 4), (4, 5)]\n",
      "cost :  7 i[0] :  4\n",
      "Dist :  3  Now :  3\n",
      "그래프 Now 정보 :  [(4, 6)]\n",
      "Dist :  7  Now :  4\n",
      "그래프 Now 정보 :  []\n",
      "0\n",
      "2\n",
      "3\n",
      "7\n",
      "INF\n"
     ]
    }
   ],
   "source": [
    "import heapq\n",
    "\n",
    "INF = int(1e9)\n",
    "node, edges = map(int,input().split())\n",
    "\n",
    "start_node_number = int(input())\n",
    "\n",
    "# 각 노드에 연결되어 있는 녿으ㅔ 대한 정보를 담는 리스트\n",
    "graph = [[] for i in range(node + 1)]\n",
    "\n",
    "# 최단 거리 테이블을 모두 무한으로 초기화\n",
    "distance = [INF] * (node + 1)\n",
    "\n",
    "# 모든 간선 정보 입력 받기\n",
    "for _ in range(edges):\n",
    "    u, v, w = map(int, input().split())\n",
    "    graph[u].append((v, w))\n",
    "\n",
    "def dijkstra(start_node_number):\n",
    "    q = []\n",
    "    heapq.heappush(q, (0,start_node_number))\n",
    "    # 초기 startNumber 정보를 0으로 초기화\n",
    "    distance[start_node_number] = 0\n",
    "    # q가 비어있지 않을동안 쭉 반복한다.\n",
    "    while q:\n",
    "        dist,now = heapq.heappop(q)\n",
    "        print(\"Dist : \",dist,\" Now : \",now)\n",
    "        # 현재 노드와 연결된 다른 인접한 노드를 확인\n",
    "        if distance[now] < dist:\n",
    "            continue\n",
    "        # 현재 노드와 연결된 다른 인접한 노드들을 확인\n",
    "        print(\"그래프 Now 정보 : \",graph[now])\n",
    "        for i in graph[now]:\n",
    "            # 노드들의 거리 정보를 합산\n",
    "            cost = dist + i[1]\n",
    "            if cost < distance[i[0]]:\n",
    "                distance[i[0]] = cost\n",
    "                print(\"cost : \",cost, \"i[0] : \",i[0])\n",
    "                heapq.heappush(q,(cost,i[0]))\n",
    "\n",
    "dijkstra(start_node_number)\n",
    "\n",
    "# 모든 노드로 가기 위한 최단 거리를 출력\n",
    "for i in range(1, node+1):\n",
    "    # 도달할 수 ㅇ벗는 거리일 경우 무한대 라고 출력\n",
    "    if distance[i] == INF:\n",
    "        print(\"INF\")\n",
    "    # 도달할 수 있는 경우 거리를 출력\n",
    "    else:\n",
    "        print(distance[i])              "
   ]
  },
  {
   "cell_type": "markdown",
   "id": "e84cf3b3",
   "metadata": {},
   "source": [
    "### 플로이드 위셜 알고리즘  11404번\n",
    "\n",
    "* https://www.acmicpc.net/problem/11404\n",
    "\n",
    "점화식\n",
    "```\n",
    "    Dab = min(Dab, Dak+Dbk)\n",
    "```\n",
    "\n",
    "2차행렬료 그래프를 표현하기 즉, 인접 행렬로 나타내기"
   ]
  },
  {
   "cell_type": "code",
   "execution_count": 44,
   "id": "1c475f7d",
   "metadata": {},
   "outputs": [
    {
     "name": "stdout",
     "output_type": "stream",
     "text": [
      "5 14\n"
     ]
    }
   ],
   "source": [
    "INF = int(1e9)\n",
    "node,edges = map(int,input().split())"
   ]
  },
  {
   "cell_type": "markdown",
   "id": "2d6210f5",
   "metadata": {},
   "source": [
    "그래프 문제는 항상 graph라는 변수를 생성한다. \n",
    "* 다익스타라 알고리즘은 일차배열\n",
    "* 플로이드 위셜 알고리즘은 2차 배열\n",
    "    - 단위 행렬 범위의 값은 모두 0으로 변환한다.(단 0.0은 제외)"
   ]
  },
  {
   "cell_type": "code",
   "execution_count": 55,
   "id": "7cb5b8aa",
   "metadata": {},
   "outputs": [
    {
     "data": {
      "text/plain": [
       "[[1000000000, 1000000000, 1000000000, 1000000000, 1000000000, 1000000000],\n",
       " [1000000000, 1000000000, 1000000000, 1000000000, 1000000000, 1000000000],\n",
       " [1000000000, 1000000000, 1000000000, 1000000000, 1000000000, 1000000000],\n",
       " [1000000000, 1000000000, 1000000000, 1000000000, 1000000000, 1000000000],\n",
       " [1000000000, 1000000000, 1000000000, 1000000000, 1000000000, 1000000000],\n",
       " [1000000000, 1000000000, 1000000000, 1000000000, 1000000000, 1000000000]]"
      ]
     },
     "execution_count": 55,
     "metadata": {},
     "output_type": "execute_result"
    }
   ],
   "source": [
    "graph = [[INF]*(node + 1) for _ in range(node+1)]\n",
    "graph"
   ]
  },
  {
   "cell_type": "code",
   "execution_count": 56,
   "id": "e83acdca",
   "metadata": {},
   "outputs": [],
   "source": [
    "for a in range(1,node+1):\n",
    "    for b in range(1,node+1):\n",
    "        if a==b:\n",
    "            graph[a][b] = 0"
   ]
  },
  {
   "cell_type": "markdown",
   "id": "fbaa194b",
   "metadata": {},
   "source": [
    "간선에 대한 정보를 입력 받고 초기화 한다."
   ]
  },
  {
   "cell_type": "code",
   "execution_count": 57,
   "id": "feec3d1c",
   "metadata": {},
   "outputs": [
    {
     "name": "stdout",
     "output_type": "stream",
     "text": [
      "1 2 2\n",
      "1 3 3\n",
      "1 4 1\n",
      "1 5 10\n",
      "2 4 2\n",
      "3 4 1\n",
      "3 5 1\n",
      "4 5 3\n",
      "3 5 10\n",
      "3 1 8\n",
      "1 4 2\n",
      "5 1 7\n",
      "3 4 2\n",
      "5 2 4\n"
     ]
    }
   ],
   "source": [
    "for _ in range(edges):\n",
    "    # A 에서 B로 가는 비용을 C라고 설정.\n",
    "    a,b,c = map(int,input().split())\n",
    "    graph[a][b] = c"
   ]
  },
  {
   "cell_type": "markdown",
   "id": "ab130078",
   "metadata": {},
   "source": [
    "플로이드 와샹의 점화식을 적용."
   ]
  },
  {
   "cell_type": "code",
   "execution_count": 63,
   "id": "e1a64802",
   "metadata": {},
   "outputs": [],
   "source": [
    "for k in range(1, node+1):\n",
    "    for a in range(1, node+1):\n",
    "        for b in range(1, node+1):\n",
    "            graph[a][b] = min(graph[a][b],graph[a][k] + graph[k][b])"
   ]
  },
  {
   "cell_type": "code",
   "execution_count": 64,
   "id": "7098d78f",
   "metadata": {},
   "outputs": [
    {
     "name": "stdout",
     "output_type": "stream",
     "text": [
      "0 2 3 2 5 \n",
      "12 0 15 2 5 \n",
      "8 9 0 2 5 \n",
      "10 7 13 0 3 \n",
      "7 4 10 6 0 \n"
     ]
    }
   ],
   "source": [
    "for a in range(1,node+1):\n",
    "    for b in range(1,node+1):\n",
    "        if graph[a][b] == INF:\n",
    "            print(0,end=\" \")\n",
    "        else:\n",
    "            print(graph[a][b],end= \" \")\n",
    "    print()"
   ]
  },
  {
   "cell_type": "markdown",
   "id": "4a659178",
   "metadata": {},
   "source": [
    "## 저울 문제 10159번\n",
    "\n",
    "* https://www.acmicpc.net/problem/10159"
   ]
  },
  {
   "cell_type": "code",
   "execution_count": 65,
   "id": "f9e1a83a",
   "metadata": {},
   "outputs": [
    {
     "name": "stdout",
     "output_type": "stream",
     "text": [
      "6\n",
      "5\n"
     ]
    }
   ],
   "source": [
    "node = int(input())\n",
    "edges = int(input())\n",
    "\n",
    "INF = int(1e9)\n",
    "\n",
    "graph = [[INF] * (node + 1) for i in range(node +1)]\n",
    "\n",
    "for a in range(1, node+1):\n",
    "    for b in range(1, node+2):\n",
    "        if a==b:\n",
    "            graph[a][b] =0\n",
    "\n",
    "for _ in range(edges):\n",
    "    a,b  = map(int,input().split())\n",
    "    graph[a][b] = 1\n",
    "\n",
    "for k in range(1,node+1):\n",
    "    for a in range(1,node+1):\n",
    "        for b in range(1,node+1):\n",
    "            graph[a][b] = min(graph[a][b],graph[a][k] + graph[k][b])\n",
    "\n",
    "count = 0\n",
    "for a in range(1,node+1):\n",
    "    for b in range(1,node+1):\n",
    "        if graph[a][b] == INF and graph[b][a] == INF:\n",
    "            count+=1\n",
    "            pass\n",
    "    print(count)\n",
    "    count = 0"
   ]
  },
  {
   "cell_type": "code",
   "execution_count": 78,
   "id": "507185af",
   "metadata": {},
   "outputs": [
    {
     "data": {
      "text/plain": [
       "[[1000000000,\n",
       "  1000000000,\n",
       "  1000000000,\n",
       "  1000000000,\n",
       "  1000000000,\n",
       "  1000000000,\n",
       "  1000000000],\n",
       " [1000000000, 0, 1, 2, 3, 1000000000, 1000000000],\n",
       " [1000000000, 1000000000, 0, 1, 2, 1000000000, 1000000000],\n",
       " [1000000000, 1000000000, 1000000000, 0, 1, 1000000000, 1000000000],\n",
       " [1000000000, 1000000000, 1000000000, 1000000000, 0, 1000000000, 1000000000],\n",
       " [1000000000, 1000000000, 1000000000, 1000000000, 1, 0, 1000000000],\n",
       " [1000000000, 1000000000, 1000000000, 1000000000, 2, 1, 0]]"
      ]
     },
     "execution_count": 78,
     "metadata": {},
     "output_type": "execute_result"
    }
   ],
   "source": [
    "graph"
   ]
  },
  {
   "cell_type": "code",
   "execution_count": null,
   "id": "a534ebd2",
   "metadata": {},
   "outputs": [],
   "source": []
  }
 ],
 "metadata": {
  "kernelspec": {
   "display_name": "Python 3 (ipykernel)",
   "language": "python",
   "name": "python3"
  },
  "language_info": {
   "codemirror_mode": {
    "name": "ipython",
    "version": 3
   },
   "file_extension": ".py",
   "mimetype": "text/x-python",
   "name": "python",
   "nbconvert_exporter": "python",
   "pygments_lexer": "ipython3",
   "version": "3.8.11"
  }
 },
 "nbformat": 4,
 "nbformat_minor": 5
}
