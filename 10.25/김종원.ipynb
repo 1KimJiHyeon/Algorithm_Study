{
 "cells": [
  {
   "cell_type": "markdown",
   "id": "cb0a0511",
   "metadata": {},
   "source": [
    "* **작성자** : 김종원\n",
    "* 작성일지 : 2021.10.25\n",
    "\n",
    "\n",
    "## 최단경로\n",
    "\n",
    "### 문제\n",
    "방향그래프가 주어지면 주어진 시작점에서 다른 모든 정점으로의 최단 경로를 구하는 프로그램을 작성하시오. 단, 모든 간선의 가중치는 10 이하의 자연수이다.\n",
    "\n",
    "### 입력\n",
    "첫째 줄에 정점의 개수 V와 간선의 개수 E가 주어진다. (1 ≤ V ≤ 20,000, 1 ≤ E ≤ 300,000) 모든 정점에는 1부터 V까지 번호가 매겨져 있다고 가정한다. 둘째 줄에는 시작 정점의 번호 K(1 ≤ K ≤ V)가 주어진다. 셋째 줄부터 E개의 줄에 걸쳐 각 간선을 나타내는 세 개의 정수 (u, v, w)가 순서대로 주어진다. 이는 u에서 v로 가는 가중치 w인 간선이 존재한다는 뜻이다. u와 v는 서로 다르며 w는 10 이하의 자연수이다. 서로 다른 두 정점 사이에 여러 개의 간선이 존재할 수도 있음에 유의한다.\n",
    "\n",
    "### 출력\n",
    "첫째 줄부터 V개의 줄에 걸쳐, i번째 줄에 i번 정점으로의 최단 경로의 경로값을 출력한다. 시작점 자신은 0으로 출력하고, 경로가 존재하지 않는 경우에는 INF를 출력하면 된다."
   ]
  },
  {
   "cell_type": "markdown",
   "id": "8c422f83",
   "metadata": {},
   "source": [
    "* 1. 다익스트라 알고리즘  사용하기"
   ]
  },
  {
   "cell_type": "code",
   "execution_count": 1,
   "id": "30967f40",
   "metadata": {},
   "outputs": [],
   "source": [
    "import heapq\n",
    "\n",
    "INF = int(1e9)\n",
    "node, edges = map(int,input().split())\n",
    "\n",
    "start_node_number = int(input())\n",
    "\n",
    "# 각 노드에 연결되어 있는 녿으ㅔ 대한 정보를 담는 리스트\n",
    "graph = [[] for i in range(node + 1)]\n",
    "graphaph\n",
    "\n",
    "# 최단 거리 테이블을 모두 무한으로 초기화\n",
    "distance = [INF] * (node + 1)\n",
    "distance\n",
    "\n",
    "# 모든 간선 정보 입력 받기\n",
    "for _ in range(edges):\n",
    "    u, v, w = map(int, input().split())\n",
    "    graph[u].append((v, w))\n",
    "\n",
    "def dijkstra(start_node_number):\n",
    "    q = []\n",
    "    heapq.heappush(q, (0,start_node_number))\n",
    "    # 초기 startNumber 정보를 0으로 초기화\n",
    "    distance[start_node_number] = 0\n",
    "    # q가 비어있지 않을동안 쭉 반복한다.\n",
    "    while q:\n",
    "        dist,now = heapq.heappop(q)\n",
    "        print(\"Dist : \",dist,\" Now : \",now)\n",
    "        # 현재 노드와 연결된 다른 인접한 노드를 확인\n",
    "        if distance[now] < dist:\n",
    "            continue\n",
    "        # 현재 노드와 연결된 다른 인접한 노드들을 확인\n",
    "        print(\"그래프 Now 정보 : \",graph[now])\n",
    "        for i in graph[now]:\n",
    "            # 노드들의 거리 정보를 합산\n",
    "            cost = dist + i[1]\n",
    "            if cost < distance[i[0]]:\n",
    "                distance[i[0]] = cost\n",
    "                print(\"cost : \",cost, \"i[0] : \",i[0])\n",
    "                heapq.heappush(q,(cost,i[0]))\n",
    "\n",
    "dijkstra(start_node_number)\n",
    "\n",
    "# 모든 노드로 가기 위한 최단 거리를 출력\n",
    "for i in range(1, node+1):\n",
    "    # 도달할 수 ㅇ벗는 거리일 경우 무한대 라고 출력\n",
    "    if distance[i] == INF:\n",
    "        print(\"INF\")\n",
    "    # 도달할 수 있는 경우 거리를 출력\n",
    "    else:\n",
    "        print(distance[i])              "
   ]
  },
  {
   "cell_type": "markdown",
   "id": "e84cf3b3",
   "metadata": {},
   "source": [
    "### 플로이드 위셜 알고리즘 방법으로 풀어보기\n",
    "\n",
    "점화식\n",
    "```\n",
    "    Dab = min(Dab, Dak+Dbk)\n",
    "```\n",
    "\n",
    "2차행렬료 그래프를 표현하기 즉, 인접 행렬로 나타내기"
   ]
  },
  {
   "cell_type": "code",
   "execution_count": 44,
   "id": "1c475f7d",
   "metadata": {},
   "outputs": [
    {
     "name": "stdout",
     "output_type": "stream",
     "text": [
      "5 14\n"
     ]
    }
   ],
   "source": [
    "INF = int(1e9)\n",
    "node,edges = map(int,input().split())"
   ]
  },
  {
   "cell_type": "markdown",
   "id": "2d6210f5",
   "metadata": {},
   "source": [
    "그래프 문제는 항상 graph라는 변수를 생성한다. \n",
    "* 다익스타라 알고리즘은 일차배열\n",
    "* 플로이드 위셜 알고리즘은 2차 배열\n",
    "    - 단위 행렬 범위의 값은 모두 0으로 변환한다.(단 0.0은 제외)"
   ]
  },
  {
   "cell_type": "code",
   "execution_count": 55,
   "id": "7cb5b8aa",
   "metadata": {},
   "outputs": [
    {
     "data": {
      "text/plain": [
       "[[1000000000, 1000000000, 1000000000, 1000000000, 1000000000, 1000000000],\n",
       " [1000000000, 1000000000, 1000000000, 1000000000, 1000000000, 1000000000],\n",
       " [1000000000, 1000000000, 1000000000, 1000000000, 1000000000, 1000000000],\n",
       " [1000000000, 1000000000, 1000000000, 1000000000, 1000000000, 1000000000],\n",
       " [1000000000, 1000000000, 1000000000, 1000000000, 1000000000, 1000000000],\n",
       " [1000000000, 1000000000, 1000000000, 1000000000, 1000000000, 1000000000]]"
      ]
     },
     "execution_count": 55,
     "metadata": {},
     "output_type": "execute_result"
    }
   ],
   "source": [
    "graph = [[INF]*(node + 1) for _ in range(node+1)]\n",
    "graph"
   ]
  },
  {
   "cell_type": "code",
   "execution_count": 56,
   "id": "e83acdca",
   "metadata": {},
   "outputs": [],
   "source": [
    "for a in range(1,node+1):\n",
    "    for b in range(1,node+1):\n",
    "        if a==b:\n",
    "            graph[a][b] = 0"
   ]
  },
  {
   "cell_type": "markdown",
   "id": "fbaa194b",
   "metadata": {},
   "source": [
    "간선에 대한 정보를 입력 받고 초기화 한다."
   ]
  },
  {
   "cell_type": "code",
   "execution_count": 57,
   "id": "feec3d1c",
   "metadata": {},
   "outputs": [
    {
     "name": "stdout",
     "output_type": "stream",
     "text": [
      "1 2 2\n",
      "1 3 3\n",
      "1 4 1\n",
      "1 5 10\n",
      "2 4 2\n",
      "3 4 1\n",
      "3 5 1\n",
      "4 5 3\n",
      "3 5 10\n",
      "3 1 8\n",
      "1 4 2\n",
      "5 1 7\n",
      "3 4 2\n",
      "5 2 4\n"
     ]
    }
   ],
   "source": [
    "for _ in range(edges):\n",
    "    # A 에서 B로 가는 비용을 C라고 설정.\n",
    "    a,b,c = map(int,input().split())\n",
    "    graph[a][b] = c"
   ]
  },
  {
   "cell_type": "markdown",
   "id": "ab130078",
   "metadata": {},
   "source": [
    "플로이드 와샹의 점화식을 적용."
   ]
  },
  {
   "cell_type": "code",
   "execution_count": 63,
   "id": "e1a64802",
   "metadata": {},
   "outputs": [],
   "source": [
    "for k in range(1, node+1):\n",
    "    for a in range(1, node+1):\n",
    "        for b in range(1, node+1):\n",
    "            graph[a][b] = min(graph[a][b],graph[a][k] + graph[k][b])"
   ]
  },
  {
   "cell_type": "code",
   "execution_count": 64,
   "id": "7098d78f",
   "metadata": {},
   "outputs": [
    {
     "name": "stdout",
     "output_type": "stream",
     "text": [
      "0 2 3 2 5 \n",
      "12 0 15 2 5 \n",
      "8 9 0 2 5 \n",
      "10 7 13 0 3 \n",
      "7 4 10 6 0 \n"
     ]
    }
   ],
   "source": [
    "for a in range(1,node+1):\n",
    "    for b in range(1,node+1):\n",
    "        if graph[a][b] == INF:\n",
    "            print(0,end=\" \")\n",
    "        else:\n",
    "            print(graph[a][b],end= \" \")\n",
    "    print()"
   ]
  },
  {
   "cell_type": "markdown",
   "id": "4a659178",
   "metadata": {},
   "source": [
    "## 저울 문제\n",
    "\n",
    "### 문제\n",
    "무게가 서로 다른 N 개의 물건이 있다. 각 물건은 1부터 N 까지 번호가 매겨져 있다. 우리는 일부 물건 쌍에 대해서 양팔 저울로 어떤 것이 무거운 것인지를 측정한 결과표를 가지고 있다. 이 결과표로부터 직접 측정하지 않은 물건 쌍의 비교 결과를 알아낼 수도 있고 알아내지 못할 수도 있다. 예를 들어, 총 6개의 물건이 있고, 다음 5개의 비교 결과가 주어졌다고 가정하자. ([1]은 1번 물건의 무게를 의미한다.)\n",
    "\n",
    "[1]>[2], [2]>[3], [3]>[4], [5]>[4], [6]>[5]\n",
    "\n",
    "우리는 [2]>[3], [3]>[4]로부터 [2]>[4]라는 것을 알 수 있다. 하지만, 물건 2와 물건 6을 비교하는 경우, 앞서의 결과만으로는 어느 것이 무거운지 알 수 없다. 이와 같이, 물건 2는 물건 1, 3, 4와의 비교 결과는 알 수 있지만, 물건 5, 6과의 비교 결과는 알 수 없다. 물건 4는 모든 다른 물건과의 비교 결과를 알 수 있다. \n",
    "\n",
    "비교 결과가 모순되는 입력은 없다고 가정한다. 위 예제의 기존 측정 결과에 [3]>[1]이 추가되었다고 가정하자. 이 경우 [1]>[2], [2]>[3]이므로 우리는 [1]>[3]이라는 것을 예측할 수 있는데, 이는 기존에 측정된 결과 [3]>[1]과 서로 모순이므로 이러한 입력은 가능하지 않다. \n",
    "\n",
    "물건의 개수 N 과 일부 물건 쌍의 비교 결과가 주어졌을 때, 각 물건에 대해서 그 물건과의 비교 결과를 알 수 없는 물건의 개수를 출력하는 프로그램을 작성하시오. \n",
    "\n",
    "### 입력\n",
    "첫 줄에는 물건의 개수 N 이 주어지고, 둘째 줄에는 미리 측정된 물건 쌍의 개수 M이 주어진다. 단, 5 ≤ N ≤ 100 이고, 0 ≤ M ≤ 2,000이다. 다음 M개의 줄에 미리 측정된 비교 결과가 한 줄에 하나씩 주어진다. 각 줄에는 측정된 물건 번호를 나타내는 두 개의 정수가 공백을 사이에 두고 주어지며, 앞의 물건이 뒤의 물건보다 더 무겁다.\n",
    "\n",
    "### 출력\n",
    "여러분은 N개의 줄에 결과를 출력해야 한다. i 번째 줄에는 물건 i 와 비교 결과를 알 수 없는 물건의 개수를 출력한다."
   ]
  },
  {
   "cell_type": "code",
   "execution_count": 65,
   "id": "f9e1a83a",
   "metadata": {},
   "outputs": [
    {
     "name": "stdout",
     "output_type": "stream",
     "text": [
      "6\n",
      "5\n"
     ]
    }
   ],
   "source": [
    "node = int(input())\n",
    "edges = int(input())\n",
    "\n",
    "INF = int(1e9)\n",
    "\n",
    "graph = [[INF] * (node + 1) for i in range(node +1)]\n",
    "\n",
    "for a in range(1, node+1):\n",
    "    for b in range(1, node+2):\n",
    "        if a==b:\n",
    "            graph[a][b] =0\n",
    "\n",
    "for _ in range(edges):\n",
    "    a,b  = map(int,input().split())\n",
    "    graph[a][b] = 1\n",
    "\n",
    "for k in range(1,node+1):\n",
    "    for a in range(1,node+1):\n",
    "        for b in range(1,node+1):\n",
    "            graph[a][b] = min(graph[a][b],graph[a][k] + graph[k][b])\n",
    "\n",
    "count = 0\n",
    "for a in range(1,node+1):\n",
    "    for b in range(1,node+1):\n",
    "        if graph[a][b] == INF and graph[b][a] == INF:\n",
    "            count+=1\n",
    "            pass\n",
    "    print(count)\n",
    "    count = 0"
   ]
  },
  {
   "cell_type": "code",
   "execution_count": 78,
   "id": "507185af",
   "metadata": {},
   "outputs": [
    {
     "data": {
      "text/plain": [
       "[[1000000000,\n",
       "  1000000000,\n",
       "  1000000000,\n",
       "  1000000000,\n",
       "  1000000000,\n",
       "  1000000000,\n",
       "  1000000000],\n",
       " [1000000000, 0, 1, 2, 3, 1000000000, 1000000000],\n",
       " [1000000000, 1000000000, 0, 1, 2, 1000000000, 1000000000],\n",
       " [1000000000, 1000000000, 1000000000, 0, 1, 1000000000, 1000000000],\n",
       " [1000000000, 1000000000, 1000000000, 1000000000, 0, 1000000000, 1000000000],\n",
       " [1000000000, 1000000000, 1000000000, 1000000000, 1, 0, 1000000000],\n",
       " [1000000000, 1000000000, 1000000000, 1000000000, 2, 1, 0]]"
      ]
     },
     "execution_count": 78,
     "metadata": {},
     "output_type": "execute_result"
    }
   ],
   "source": [
    "graph"
   ]
  },
  {
   "cell_type": "code",
   "execution_count": null,
   "id": "a534ebd2",
   "metadata": {},
   "outputs": [],
   "source": []
  }
 ],
 "metadata": {
  "kernelspec": {
   "display_name": "Python 3 (ipykernel)",
   "language": "python",
   "name": "python3"
  },
  "language_info": {
   "codemirror_mode": {
    "name": "ipython",
    "version": 3
   },
   "file_extension": ".py",
   "mimetype": "text/x-python",
   "name": "python",
   "nbconvert_exporter": "python",
   "pygments_lexer": "ipython3",
   "version": "3.8.11"
  }
 },
 "nbformat": 4,
 "nbformat_minor": 5
}
