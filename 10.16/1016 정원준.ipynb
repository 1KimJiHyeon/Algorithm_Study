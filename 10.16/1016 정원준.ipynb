{
 "cells": [
  {
   "cell_type": "code",
   "execution_count": 5,
   "id": "be61f8aa",
   "metadata": {},
   "outputs": [
    {
     "name": "stdout",
     "output_type": "stream",
     "text": [
      "5\n",
      "5\n",
      "2\n",
      "3\n",
      "4\n",
      "1\n",
      "1\n",
      "2\n",
      "3\n",
      "4\n",
      "5\n"
     ]
    }
   ],
   "source": [
    "n = int(input())\n",
    "data = []\n",
    "for i in range(n):\n",
    "    data.append(int(input()))\n",
    "\n",
    "def quickSort(start, end):\n",
    "    global data\n",
    "    if start >= end: return\n",
    "    pivot = start\n",
    "    i = start + 1\n",
    "    j = end\n",
    "\n",
    "    while i <= j:\n",
    "        while (i <= end and data[i] <= data[pivot] ):\n",
    "            i += 1\n",
    "            if i == end+1: break\n",
    "\n",
    "        while (data[j] >= data[pivot] and j > start):\n",
    "            j -= 1\n",
    "\n",
    "        if i > j: # 엇갈림\n",
    "            data[pivot], data[j] = data[j], data[pivot]\n",
    "\n",
    "\n",
    "        else:\n",
    "            data[i], data[j] = data[j], data[i]\n",
    "\n",
    "    quickSort(start, j-1)\n",
    "    quickSort(j+1, end)\n",
    "\n",
    "\n",
    "quickSort(0, n-1)\n",
    "for i in data:\n",
    "    print(i)\n"
   ]
  },
  {
   "cell_type": "code",
   "execution_count": 15,
   "id": "dd69944e",
   "metadata": {},
   "outputs": [],
   "source": [
    "def quickSort(start, end):\n",
    "    global data\n",
    "    if start >= end: return\n",
    "    pivot = start\n",
    "    i = start+1\n",
    "    j = end\n",
    "    \n",
    "    while i <=j:\n",
    "        while (i <= end and data[i] <= data[pivot] ):\n",
    "            i+=1\n",
    "            if i == end+1: break\n",
    "        while (data[j] >= data[pivot] and j > start):\n",
    "            j-=1\n",
    "            \n",
    "        if i > j: # 엇갈림\n",
    "            data[pivot], data[j] = data[j], data[pivot]\n",
    "        else:\n",
    "            data[i], data[j] = data[j], data[i]\n",
    "    quickSort(start, j-1)\n",
    "    quickSort(j+1, end)"
   ]
  },
  {
   "cell_type": "code",
   "execution_count": 17,
   "id": "bef1a4df",
   "metadata": {},
   "outputs": [
    {
     "name": "stdout",
     "output_type": "stream",
     "text": [
      "[2, 3, 4, 4, 4, 5, 6, 8]\n"
     ]
    }
   ],
   "source": [
    "data = [3,6,4,2,4,8,5,4]\n",
    "quickSort(0, len(data)-1)\n",
    "print(data)"
   ]
  },
  {
   "cell_type": "code",
   "execution_count": 2,
   "id": "81c4f455",
   "metadata": {},
   "outputs": [
    {
     "ename": "SyntaxError",
     "evalue": "invalid syntax (1760391707.py, line 7)",
     "output_type": "error",
     "traceback": [
      "\u001b[0;36m  File \u001b[0;32m\"/var/folders/st/8lydz3r17dn57k_gtcwrrc380000gn/T/ipykernel_2903/1760391707.py\"\u001b[0;36m, line \u001b[0;32m7\u001b[0m\n\u001b[0;31m    else:\u001b[0m\n\u001b[0m    ^\u001b[0m\n\u001b[0;31mSyntaxError\u001b[0m\u001b[0;31m:\u001b[0m invalid syntax\n"
     ]
    }
   ],
   "source": [
    "nums = []\n",
    "n = 1\n",
    "while n<6:\n",
    "    try:\n",
    "        num = int(input('input: '))\n",
    "        \n",
    "    else:\n",
    "        if num % 2 == 0:\n",
    "            nums.append(num)\n",
    "            n+=1\n",
    "        else:\n",
    "            print('입력한 수자는 홀수', end = '')\n",
    "            print('다시 입력')\n",
    "            continue\n",
    "            "
   ]
  },
  {
   "cell_type": "code",
   "execution_count": null,
   "id": "c185f620",
   "metadata": {},
   "outputs": [],
   "source": []
  }
 ],
 "metadata": {
  "kernelspec": {
   "display_name": "Python 3.8.11 64-bit ('ds_study': conda)",
   "language": "python",
   "name": "python3811jvsc74a57bd0a10808f447772974824511a6b5cb5e14477e09133452cf9a8171d160635b28f4"
  },
  "language_info": {
   "codemirror_mode": {
    "name": "ipython",
    "version": 3
   },
   "file_extension": ".py",
   "mimetype": "text/x-python",
   "name": "python",
   "nbconvert_exporter": "python",
   "pygments_lexer": "ipython3",
   "version": "3.8.11"
  }
 },
 "nbformat": 4,
 "nbformat_minor": 5
}
