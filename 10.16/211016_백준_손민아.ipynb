{
 "cells": [
  {
   "cell_type": "markdown",
   "metadata": {},
   "source": [
    "## 백준 문제 2750번 "
   ]
  },
  {
   "cell_type": "markdown",
   "metadata": {},
   "source": [
    "## 문제\n",
    "- N개의 수가 주어졌을 때, 이를 오름차순으로 정렬하는 프로그램을 작성하시오.\n",
    "\n",
    "## 입력\n",
    "- 첫째 줄에 수의 개수 N(1 ≤ N ≤ 1,000)이 주어진다. 둘째 줄부터 N개의 줄에는 수 주어진다. 이 수는 절댓값이 1,000보다 작거나 같은 정수이다. 수는 중복되지 않는다.\n",
    "\n",
    "## 출력\n",
    "- 첫째 줄부터 N개의 줄에 오름차순으로 정렬한 결과를 한 줄에 하나씩 출력한다."
   ]
  },
  {
   "cell_type": "code",
   "execution_count": null,
   "metadata": {},
   "outputs": [],
   "source": [
    "n = int(input())\n",
    "m = []\n",
    "for i in range(n):\n",
    "    m.append(int(input()))\n",
    "m  = sorted(m)\n",
    "for i in range(len(m)):\n",
    "    print(m[i]) \n",
    "    "
   ]
  },
  {
   "cell_type": "code",
   "execution_count": null,
   "metadata": {},
   "outputs": [],
   "source": [
    "# 버블정렬로 정렬\n",
    "n = int(input())\n",
    "m = []\n",
    "for i in range(n):\n",
    "    m.append(int(input()))\n",
    "for i in range(len(m)):\n",
    "    for j in range(len(m)):\n",
    "        if m[i] < m[j]:\n",
    "            m[i], m[j] = m[j], m[i]\n",
    "for b in m:\n",
    "    print(b)\n"
   ]
  },
  {
   "cell_type": "code",
   "execution_count": null,
   "metadata": {},
   "outputs": [],
   "source": [
    "# 삽입정렬\n",
    "n = int(input())\n",
    "m = []\n",
    "for i in range(n):\n",
    "    m.append(int(input()))\n",
    "\n",
    "#insert sort\n",
    "for i in range(1,len(m)):\n",
    "    while (i>0) & (m[i]<m[i-1]):\n",
    "        m[i],m[i-1] = m[i-1].m[i]\n",
    "        i-=1\n",
    "for j in m:\n",
    "    print(j) "
   ]
  },
  {
   "cell_type": "code",
   "execution_count": null,
   "metadata": {},
   "outputs": [],
   "source": [
    "# 내장 함수 quick sort로 돌아간다. "
   ]
  },
  {
   "cell_type": "markdown",
   "metadata": {},
   "source": [
    "## 11650번\n",
    "좌표 정렬하기\n",
    "문제\n",
    "2차원 평면 위의 점 N개가 주어진다. 좌표를 x좌표가 증가하는 순으로, x좌표가 같으면 y좌표가 증가하는 순서로 정렬한 다음 출력하는 프로그램을 작성하시오.\n",
    "\n",
    "입력\n",
    "첫째 줄에 점의 개수 N (1 ≤ N ≤ 100,000)이 주어진다. 둘째 줄부터 N개의 줄에는 i번점의 위치 xi와 yi가 주어진다. (-100,000 ≤ xi, yi ≤ 100,000) 좌표는 항상 정수이고, 위치가 같은 두 점은 없다.\n",
    "\n",
    "출력\n",
    "첫째 줄부터 N개의 줄에 점을 정렬한 결과를 출력한다."
   ]
  },
  {
   "cell_type": "code",
   "execution_count": null,
   "metadata": {},
   "outputs": [],
   "source": [
    "x = int(input())\n",
    "data = []\n",
    "\n",
    "for i in range(len(x)):\n",
    "    data.append(int(input()))\n",
    "   \n",
    "def merge_sort(arr):\n",
    "    global data \n",
    "    def sort(low, high):\n",
    "        if high - low < 2:\n",
    "            return\n",
    "        mid = (low + high) // 2\n",
    "        sort(low, mid)\n",
    "        sort(mid, high)\n",
    "        merge(low, mid, high)\n",
    "\n",
    "    def merge(low, mid, high):\n",
    "        temp = []\n",
    "        l, h = low, mid\n",
    "\n",
    "        while l < mid and h < high:\n",
    "            if arr[l] < arr[h]:\n",
    "                temp.append(arr[l])\n",
    "                l += 1\n",
    "            else:\n",
    "                temp.append(arr[h])\n",
    "                h += 1\n",
    "\n",
    "        while l < mid:\n",
    "            temp.append(arr[l])\n",
    "            l += 1\n",
    "        while h < high:\n",
    "            temp.append(arr[h])\n",
    "            h += 1\n",
    "\n",
    "        for i in range(low, high):\n",
    "            arr[i] = temp[i - low]\n",
    "\n",
    "    return sort(0, len(arr))"
   ]
  },
  {
   "cell_type": "markdown",
   "metadata": {},
   "source": [
    "## 10825번\n",
    "문제\n",
    "도현이네 반 학생 N명의 이름과 국어, 영어, 수학 점수가 주어진다. 이때, 다음과 같은 조건으로 학생의 성적을 정렬하는 프로그램을 작성하시오.\n",
    "\n",
    "국어 점수가 감소하는 순서로\n",
    "국어 점수가 같으면 영어 점수가 증가하는 순서로\n",
    "국어 점수와 영어 점수가 같으면 수학 점수가 감소하는 순서로\n",
    "모든 점수가 같으면 이름이 사전 순으로 증가하는 순서로 (단, 아스키 코드에서 대문자는 소문자보다 작으므로 사전순으로 앞에 온다.)\n",
    "입력\n",
    "첫째 줄에 도현이네 반의 학생의 수 N (1 ≤ N ≤ 100,000)이 주어진다. 둘째 줄부터 한 줄에 하나씩 각 학생의 이름, 국어, 영어, 수학 점수가 공백으로 구분해 주어진다. 점수는 1보다 크거나 같고, 100보다 작거나 같은 자연수이다. 이름은 알파벳 대소문자로 이루어진 문자열이고, 길이는 10자리를 넘지 않는다.\n",
    "\n",
    "출력\n",
    "문제에 나와있는 정렬 기준으로 정렬한 후 첫째 줄부터 N개의 줄에 걸쳐 각 학생의 이름을 출력한다."
   ]
  },
  {
   "cell_type": "code",
   "execution_count": null,
   "metadata": {},
   "outputs": [],
   "source": [
    "\n",
    "n = int(input('입력값 개수:'))\n",
    "list = []\n",
    "\n",
    "for i in range(n):\n",
    "    name, kor, eng, math = map(str, input().split())\n",
    "    list.append((name,int(kor),int(eng),int(math)))\n",
    "\n",
    "list.sort(key = lambda x: (-x[1],x[2],-x[3],x[0])) #국어,수학 감소 -\n",
    "\n",
    "\n",
    "for x in list:\n",
    "    print(x[0])"
   ]
  }
 ],
 "metadata": {
  "interpreter": {
   "hash": "838183ee7b8555b431a91736167a55b3c95bb59a44782dde488817f7776386cb"
  },
  "kernelspec": {
   "display_name": "Python 3.8.8 64-bit ('base': conda)",
   "name": "python3"
  },
  "language_info": {
   "codemirror_mode": {
    "name": "ipython",
    "version": 3
   },
   "file_extension": ".py",
   "mimetype": "text/x-python",
   "name": "python",
   "nbconvert_exporter": "python",
   "pygments_lexer": "ipython3",
   "version": "3.8.8"
  },
  "orig_nbformat": 4
 },
 "nbformat": 4,
 "nbformat_minor": 2
}
