{
 "cells": [
  {
   "cell_type": "markdown",
   "id": "ec30e9de",
   "metadata": {},
   "source": [
    "## 수 정렬하기\n",
    "\n",
    "### 문제\n",
    "N개의 수가 주어졌을 때, 이를 오름차순으로 정렬하는 프로그램을 작성하시오.\n",
    "\n",
    "### 입력\n",
    "첫째 줄에 수의 개수 N(1 ≤ N ≤ 1,000)이 주어진다. 둘째 줄부터 N개의 줄에는 수 주어진다. 이 수는 절댓값이 1,000보다 작거나 같은 정수이다. 수는 중복되지 않는다.\n",
    "\n",
    "### 출력\n",
    "첫째 줄부터 N개의 줄에 오름차순으로 정렬한 결과를 한 줄에 하나씩 출력한다."
   ]
  },
  {
   "cell_type": "code",
   "execution_count": null,
   "id": "e6622fdc",
   "metadata": {},
   "outputs": [],
   "source": [
    "5\n",
    "5\n",
    "2\n",
    "3\n",
    "4\n",
    "1"
   ]
  },
  {
   "cell_type": "code",
   "execution_count": 7,
   "id": "d161b069",
   "metadata": {},
   "outputs": [
    {
     "name": "stdout",
     "output_type": "stream",
     "text": [
      "N개의 정수 : 5\n",
      "정수 입력 : 5\n",
      "정수 입력 : 4\n",
      "정수 입력 : 3\n",
      "정수 입력 : 2\n",
      "정수 입력 : 1\n"
     ]
    }
   ],
   "source": [
    "N = int(input(\"N개의 정수 : \"))\n",
    "flag = True\n",
    "numbers = []\n",
    "while flag:\n",
    "    num = int(input(\"정수 입력 : \"))\n",
    "    numbers.append(num)\n",
    "    if len(numbers) == N:\n",
    "        flag = False"
   ]
  },
  {
   "cell_type": "code",
   "execution_count": 8,
   "id": "c5ef5da7",
   "metadata": {},
   "outputs": [
    {
     "data": {
      "text/plain": [
       "[5, 4, 3, 2, 1]"
      ]
     },
     "execution_count": 8,
     "metadata": {},
     "output_type": "execute_result"
    }
   ],
   "source": [
    "numbers"
   ]
  },
  {
   "cell_type": "code",
   "execution_count": 11,
   "id": "84a78846",
   "metadata": {},
   "outputs": [],
   "source": [
    "def q_sort(arr):\n",
    "    def sort(low,high):\n",
    "        if  high <=low:\n",
    "            return\n",
    "        mid = part(low,high)\n",
    "        sort(low,mid-1)\n",
    "        sort(mid,high)\n",
    "        \n",
    "        \n",
    "    def part(low,high):\n",
    "        s = low\n",
    "        pivot = arr[low]\n",
    "        print(pivot)\n",
    "        while low <=high:\n",
    "            while arr[low] < pivot:\n",
    "                low +=1\n",
    "            while arr[high] > pivot:\n",
    "                high -=1\n",
    "                \n",
    "            if low <= high:\n",
    "                arr[low],arr[high] = arr[high], arr[low]\n",
    "            else:\n",
    "                arr[low] , arr[s] = pivot, arr[low]\n",
    "                print(f\"변환 : {arr}\")\n",
    "                break\n",
    "        return low\n",
    "    return sort(0,len(arr)-1)"
   ]
  },
  {
   "cell_type": "code",
   "execution_count": 12,
   "id": "72cbe47a",
   "metadata": {},
   "outputs": [
    {
     "name": "stdout",
     "output_type": "stream",
     "text": [
      "1\n"
     ]
    },
    {
     "ename": "KeyboardInterrupt",
     "evalue": "",
     "output_type": "error",
     "traceback": [
      "\u001b[1;31m---------------------------------------------------------------------------\u001b[0m",
      "\u001b[1;31mKeyboardInterrupt\u001b[0m                         Traceback (most recent call last)",
      "\u001b[1;32m~\\AppData\\Local\\Temp/ipykernel_2444/3230780301.py\u001b[0m in \u001b[0;36m<module>\u001b[1;34m\u001b[0m\n\u001b[1;32m----> 1\u001b[1;33m \u001b[0mq_sort\u001b[0m\u001b[1;33m(\u001b[0m\u001b[0mnumbers\u001b[0m\u001b[1;33m)\u001b[0m\u001b[1;33m\u001b[0m\u001b[1;33m\u001b[0m\u001b[0m\n\u001b[0m",
      "\u001b[1;32m~\\AppData\\Local\\Temp/ipykernel_2444/2130302923.py\u001b[0m in \u001b[0;36mq_sort\u001b[1;34m(arr)\u001b[0m\n\u001b[0;32m     25\u001b[0m                 \u001b[1;32mbreak\u001b[0m\u001b[1;33m\u001b[0m\u001b[1;33m\u001b[0m\u001b[0m\n\u001b[0;32m     26\u001b[0m         \u001b[1;32mreturn\u001b[0m \u001b[0mlow\u001b[0m\u001b[1;33m\u001b[0m\u001b[1;33m\u001b[0m\u001b[0m\n\u001b[1;32m---> 27\u001b[1;33m     \u001b[1;32mreturn\u001b[0m \u001b[0msort\u001b[0m\u001b[1;33m(\u001b[0m\u001b[1;36m0\u001b[0m\u001b[1;33m,\u001b[0m\u001b[0mlen\u001b[0m\u001b[1;33m(\u001b[0m\u001b[0marr\u001b[0m\u001b[1;33m)\u001b[0m\u001b[1;33m-\u001b[0m\u001b[1;36m1\u001b[0m\u001b[1;33m)\u001b[0m\u001b[1;33m\u001b[0m\u001b[1;33m\u001b[0m\u001b[0m\n\u001b[0m",
      "\u001b[1;32m~\\AppData\\Local\\Temp/ipykernel_2444/2130302923.py\u001b[0m in \u001b[0;36msort\u001b[1;34m(low, high)\u001b[0m\n\u001b[0;32m      3\u001b[0m         \u001b[1;32mif\u001b[0m  \u001b[0mhigh\u001b[0m \u001b[1;33m<=\u001b[0m\u001b[0mlow\u001b[0m\u001b[1;33m:\u001b[0m\u001b[1;33m\u001b[0m\u001b[1;33m\u001b[0m\u001b[0m\n\u001b[0;32m      4\u001b[0m             \u001b[1;32mreturn\u001b[0m\u001b[1;33m\u001b[0m\u001b[1;33m\u001b[0m\u001b[0m\n\u001b[1;32m----> 5\u001b[1;33m         \u001b[0mmid\u001b[0m \u001b[1;33m=\u001b[0m \u001b[0mpart\u001b[0m\u001b[1;33m(\u001b[0m\u001b[0mlow\u001b[0m\u001b[1;33m,\u001b[0m\u001b[0mhigh\u001b[0m\u001b[1;33m)\u001b[0m\u001b[1;33m\u001b[0m\u001b[1;33m\u001b[0m\u001b[0m\n\u001b[0m\u001b[0;32m      6\u001b[0m         \u001b[0msort\u001b[0m\u001b[1;33m(\u001b[0m\u001b[0mlow\u001b[0m\u001b[1;33m,\u001b[0m\u001b[0mmid\u001b[0m\u001b[1;33m-\u001b[0m\u001b[1;36m1\u001b[0m\u001b[1;33m)\u001b[0m\u001b[1;33m\u001b[0m\u001b[1;33m\u001b[0m\u001b[0m\n\u001b[0;32m      7\u001b[0m         \u001b[0msort\u001b[0m\u001b[1;33m(\u001b[0m\u001b[0mmid\u001b[0m\u001b[1;33m,\u001b[0m\u001b[0mhigh\u001b[0m\u001b[1;33m)\u001b[0m\u001b[1;33m\u001b[0m\u001b[1;33m\u001b[0m\u001b[0m\n",
      "\u001b[1;32m~\\AppData\\Local\\Temp/ipykernel_2444/2130302923.py\u001b[0m in \u001b[0;36mpart\u001b[1;34m(low, high)\u001b[0m\n\u001b[0;32m     13\u001b[0m         \u001b[0mprint\u001b[0m\u001b[1;33m(\u001b[0m\u001b[0mpivot\u001b[0m\u001b[1;33m)\u001b[0m\u001b[1;33m\u001b[0m\u001b[1;33m\u001b[0m\u001b[0m\n\u001b[0;32m     14\u001b[0m         \u001b[1;32mwhile\u001b[0m \u001b[0mlow\u001b[0m \u001b[1;33m<=\u001b[0m\u001b[0mhigh\u001b[0m\u001b[1;33m:\u001b[0m\u001b[1;33m\u001b[0m\u001b[1;33m\u001b[0m\u001b[0m\n\u001b[1;32m---> 15\u001b[1;33m             \u001b[1;32mwhile\u001b[0m \u001b[0marr\u001b[0m\u001b[1;33m[\u001b[0m\u001b[0mlow\u001b[0m\u001b[1;33m]\u001b[0m \u001b[1;33m<\u001b[0m \u001b[0mpivot\u001b[0m\u001b[1;33m:\u001b[0m\u001b[1;33m\u001b[0m\u001b[1;33m\u001b[0m\u001b[0m\n\u001b[0m\u001b[0;32m     16\u001b[0m                 \u001b[0mlow\u001b[0m \u001b[1;33m+=\u001b[0m\u001b[1;36m1\u001b[0m\u001b[1;33m\u001b[0m\u001b[1;33m\u001b[0m\u001b[0m\n\u001b[0;32m     17\u001b[0m             \u001b[1;32mwhile\u001b[0m \u001b[0marr\u001b[0m\u001b[1;33m[\u001b[0m\u001b[0mhigh\u001b[0m\u001b[1;33m]\u001b[0m \u001b[1;33m>\u001b[0m \u001b[0mpivot\u001b[0m\u001b[1;33m:\u001b[0m\u001b[1;33m\u001b[0m\u001b[1;33m\u001b[0m\u001b[0m\n",
      "\u001b[1;31mKeyboardInterrupt\u001b[0m: "
     ]
    }
   ],
   "source": [
    "q_sort(numbers)"
   ]
  },
  {
   "cell_type": "code",
   "execution_count": 13,
   "id": "52014c62",
   "metadata": {},
   "outputs": [
    {
     "data": {
      "text/plain": [
       "[1, 4, 3, 2, 5]"
      ]
     },
     "execution_count": 13,
     "metadata": {},
     "output_type": "execute_result"
    }
   ],
   "source": [
    "numbers"
   ]
  },
  {
   "cell_type": "markdown",
   "id": "11fd30a0",
   "metadata": {},
   "source": [
    "## 좌표 정렬하기"
   ]
  },
  {
   "cell_type": "markdown",
   "id": "8b0e3580",
   "metadata": {},
   "source": [
    "### 문제\n",
    "2차원 평면 위의 점 N개가 주어진다. 좌표를 x좌표가 증가하는 순으로, x좌표가 같으면 y좌표가 증가하는 순서로 정렬한 다음 출력하는 프로그램을 작성하시오.\n",
    "\n",
    "### 입력\n",
    "첫째 줄에 점의 개수 N (1 ≤ N ≤ 100,000)이 주어진다. 둘째 줄부터 N개의 줄에는 i번점의 위치 xi와 yi가 주어진다. (-100,000 ≤ xi, yi ≤ 100,000) 좌표는 항상 정수이고, 위치가 같은 두 점은 없다.\n",
    "\n",
    "### 출력\n",
    "첫째 줄부터 N개의 줄에 점을 정렬한 결과를 출력한다."
   ]
  },
  {
   "cell_type": "code",
   "execution_count": 14,
   "id": "f93a8a15",
   "metadata": {},
   "outputs": [],
   "source": [
    "N = [[3 ,4],[1,1],[1,-1],[2,2],[3,3]]"
   ]
  },
  {
   "cell_type": "code",
   "execution_count": 19,
   "id": "99bcc88f",
   "metadata": {},
   "outputs": [],
   "source": [
    "import numpy as np"
   ]
  },
  {
   "cell_type": "code",
   "execution_count": 20,
   "id": "22cae7db",
   "metadata": {},
   "outputs": [],
   "source": [
    "N = np.array(N)"
   ]
  },
  {
   "cell_type": "code",
   "execution_count": 27,
   "id": "1a522829",
   "metadata": {},
   "outputs": [
    {
     "data": {
      "text/plain": [
       "array([[ 1,  1],\n",
       "       [ 1, -1],\n",
       "       [ 2,  2],\n",
       "       [ 3,  4],\n",
       "       [ 3,  3]])"
      ]
     },
     "execution_count": 27,
     "metadata": {},
     "output_type": "execute_result"
    }
   ],
   "source": [
    "N = N[np.argsort(N[:,0])]\n",
    "N"
   ]
  },
  {
   "cell_type": "code",
   "execution_count": 30,
   "id": "75f6c165",
   "metadata": {},
   "outputs": [
    {
     "data": {
      "text/plain": [
       "array([1, 1, 2, 3, 3])"
      ]
     },
     "execution_count": 30,
     "metadata": {},
     "output_type": "execute_result"
    }
   ],
   "source": [
    "N[:,0]"
   ]
  },
  {
   "cell_type": "code",
   "execution_count": 75,
   "id": "eaa8b928",
   "metadata": {},
   "outputs": [],
   "source": [
    "temp = [0] * N[:,0].max()"
   ]
  },
  {
   "cell_type": "code",
   "execution_count": 76,
   "id": "5c55cb52",
   "metadata": {},
   "outputs": [],
   "source": [
    "for t in range(len(N[:,0])):\n",
    "    temp[N[:,0][t]-1] +=1"
   ]
  },
  {
   "cell_type": "code",
   "execution_count": 78,
   "id": "579c55fa",
   "metadata": {},
   "outputs": [],
   "source": [
    "temp1 = temp.copy()"
   ]
  },
  {
   "cell_type": "code",
   "execution_count": 79,
   "id": "8c52bca3",
   "metadata": {},
   "outputs": [],
   "source": [
    "for i in range(len(temp)):\n",
    "    if i==0:\n",
    "        continue\n",
    "    temp[i] = temp[i-1] + temp[i]"
   ]
  },
  {
   "cell_type": "code",
   "execution_count": 80,
   "id": "ac885c1a",
   "metadata": {},
   "outputs": [
    {
     "data": {
      "text/plain": [
       "[2, 3, 5]"
      ]
     },
     "execution_count": 80,
     "metadata": {},
     "output_type": "execute_result"
    }
   ],
   "source": [
    "temp"
   ]
  },
  {
   "cell_type": "code",
   "execution_count": 39,
   "id": "f3f7dafc",
   "metadata": {},
   "outputs": [
    {
     "data": {
      "text/plain": [
       "0"
      ]
     },
     "execution_count": 39,
     "metadata": {},
     "output_type": "execute_result"
    }
   ],
   "source": [
    "if temp1[0] >1:\n",
    "    "
   ]
  },
  {
   "cell_type": "code",
   "execution_count": 106,
   "id": "43bbf62e",
   "metadata": {},
   "outputs": [
    {
     "data": {
      "text/plain": [
       "[2, 1, 2]"
      ]
     },
     "execution_count": 106,
     "metadata": {},
     "output_type": "execute_result"
    }
   ],
   "source": [
    "temp1"
   ]
  },
  {
   "cell_type": "code",
   "execution_count": 109,
   "id": "40ae6a12",
   "metadata": {},
   "outputs": [
    {
     "data": {
      "text/plain": [
       "2"
      ]
     },
     "execution_count": 109,
     "metadata": {},
     "output_type": "execute_result"
    }
   ],
   "source": [
    "temp1[k]"
   ]
  },
  {
   "cell_type": "code",
   "execution_count": 111,
   "id": "0dcd539e",
   "metadata": {},
   "outputs": [
    {
     "data": {
      "text/plain": [
       "array([], dtype=int32)"
      ]
     },
     "execution_count": 111,
     "metadata": {},
     "output_type": "execute_result"
    }
   ],
   "source": [
    "N[:,1][temp1[k]:temp[k]]"
   ]
  },
  {
   "cell_type": "code",
   "execution_count": 59,
   "id": "7949a8bd",
   "metadata": {},
   "outputs": [
    {
     "data": {
      "text/plain": [
       "array([ 1, -1,  2,  4,  3])"
      ]
     },
     "execution_count": 59,
     "metadata": {},
     "output_type": "execute_result"
    }
   ],
   "source": [
    "N[:,1]"
   ]
  },
  {
   "cell_type": "markdown",
   "id": "6e6f7800",
   "metadata": {},
   "source": [
    "### 국영수\n",
    "\n",
    "### 문제\n",
    "도현이네 반 학생 N명의 이름과 국어, 영어, 수학 점수가 주어진다. 이때, 다음과 같은 조건으로 학생의 성적을 정렬하는 프로그램을 작성하시오.\n",
    "\n",
    "국어 점수가 감소하는 순서로\n",
    "국어 점수가 같으면 영어 점수가 증가하는 순서로\n",
    "국어 점수와 영어 점수가 같으면 수학 점수가 감소하는 순서로\n",
    "모든 점수가 같으면 이름이 사전 순으로 증가하는 순서로 (단, 아스키 코드에서 대문자는 소문자보다 작으므로 사전순으로 앞에 온다.)\n",
    "### 입력\n",
    "첫째 줄에 도현이네 반의 학생의 수 N (1 ≤ N ≤ 100,000)이 주어진다. 둘째 줄부터 한 줄에 하나씩 각 학생의 이름, 국어, 영어, 수학 점수가 공백으로 구분해 주어진다. 점수는 1보다 크거나 같고, 100보다 작거나 같은 자연수이다. 이름은 알파벳 대소문자로 이루어진 문자열이고, 길이는 10자리를 넘지 않는다.\n",
    "\n",
    "### 출력\n",
    "문제에 나와있는 정렬 기준으로 정렬한 후 첫째 줄부터 N개의 줄에 걸쳐 각 학생의 이름을 출력한다."
   ]
  },
  {
   "cell_type": "code",
   "execution_count": 112,
   "id": "b577dc4b",
   "metadata": {},
   "outputs": [
    {
     "ename": "SyntaxError",
     "evalue": "invalid syntax (Temp/ipykernel_2444/1524862321.py, line 2)",
     "output_type": "error",
     "traceback": [
      "\u001b[1;36m  File \u001b[1;32m\"C:\\Users\\jongwon\\AppData\\Local\\Temp/ipykernel_2444/1524862321.py\"\u001b[1;36m, line \u001b[1;32m2\u001b[0m\n\u001b[1;33m    Junkyu 50 60 100\u001b[0m\n\u001b[1;37m           ^\u001b[0m\n\u001b[1;31mSyntaxError\u001b[0m\u001b[1;31m:\u001b[0m invalid syntax\n"
     ]
    }
   ],
   "source": [
    "12\n",
    "Junkyu 50 60 100\n",
    "Sangkeun 80 60 50\n",
    "Sunyoung 80 70 100\n",
    "Soong 50 60 90\n",
    "Haebin 50 60 100\n",
    "Kangsoo 60 80 100\n",
    "Donghyuk 80 60 100\n",
    "Sei 70 70 70\n",
    "Wonseob 70 70 90\n",
    "Sanghyun 70 70 80\n",
    "nsj 80 80 80\n",
    "Taewhan 50 60 90"
   ]
  },
  {
   "cell_type": "code",
   "execution_count": 134,
   "id": "8624494f",
   "metadata": {},
   "outputs": [
    {
     "name": "stdout",
     "output_type": "stream",
     "text": [
      "12\n",
      "Junkyu 50 60 100\n",
      "Sangkeun 80 60 50\n",
      "Sunyoung 80 70 100\n",
      "Soong 50 60 90\n",
      "Haebin 50 60 100\n",
      "Kangsoo 60 80 100\n",
      "Donghyuk 80 60 100\n",
      "Sei 70 70 70\n",
      "Wonseob 70 70 90\n",
      "Sanghyun 70 70 80\n",
      "nsj 80 80 80\n",
      "Taewhan 50 60 90\n"
     ]
    }
   ],
   "source": [
    "students = []\n",
    "\n",
    "N = int(input())\n",
    "for i in range(N):\n",
    "    name,kor,eng,math = input().split()\n",
    "\n",
    "    students.append([name,kor,eng,math])"
   ]
  },
  {
   "cell_type": "code",
   "execution_count": 143,
   "id": "a0349d22",
   "metadata": {},
   "outputs": [
    {
     "name": "stdout",
     "output_type": "stream",
     "text": [
      "Sangkeun\n",
      "Donghyuk\n",
      "Sunyoung\n",
      "nsj\n",
      "Wonseob\n",
      "Sanghyun\n",
      "Sei\n",
      "Kangsoo\n",
      "Soong\n",
      "Taewhan\n",
      "Haebin\n",
      "Junkyu\n"
     ]
    }
   ],
   "source": [
    "temp = 0\n",
    "\n",
    "for i in range(1,N):\n",
    "    for j in range(i):\n",
    "        if students[j][1] < students[i][1]:\n",
    "            students[j], students[i] = students[i],students[j]\n",
    "        if students[j][1] ==students[i][1]:\n",
    "            if students[j][2] > students[i][2]:\n",
    "                students[j], students[i] = students[i],students[j]\n",
    "            if students[j][2] ==students[i][2]:\n",
    "                if students[j][3] < students[i][3]:\n",
    "                    students[j], students[i] = students[i],students[j]\n",
    "                if students[j][3] == students[i][3]:\n",
    "                    if students[j][0] > students[i][0]:\n",
    "                        students[j], students[i] = students[i],students[j]\n",
    "                        \n",
    "for i in range(N):\n",
    "    print(students[i][0])"
   ]
  },
  {
   "cell_type": "code",
   "execution_count": 144,
   "id": "a2c6d804",
   "metadata": {},
   "outputs": [
    {
     "data": {
      "text/plain": [
       "[['Sangkeun', '80', '60', '50'],\n",
       " ['Donghyuk', '80', '60', '100'],\n",
       " ['Sunyoung', '80', '70', '100'],\n",
       " ['nsj', '80', '80', '80'],\n",
       " ['Wonseob', '70', '70', '90'],\n",
       " ['Sanghyun', '70', '70', '80'],\n",
       " ['Sei', '70', '70', '70'],\n",
       " ['Kangsoo', '60', '80', '100'],\n",
       " ['Soong', '50', '60', '90'],\n",
       " ['Taewhan', '50', '60', '90'],\n",
       " ['Haebin', '50', '60', '100'],\n",
       " ['Junkyu', '50', '60', '100']]"
      ]
     },
     "execution_count": 144,
     "metadata": {},
     "output_type": "execute_result"
    }
   ],
   "source": [
    "students"
   ]
  },
  {
   "cell_type": "code",
   "execution_count": 129,
   "id": "7c086bc3",
   "metadata": {},
   "outputs": [
    {
     "data": {
      "text/plain": [
       "False"
      ]
     },
     "execution_count": 129,
     "metadata": {},
     "output_type": "execute_result"
    }
   ],
   "source": [
    "students[2][0] < students[1][0]"
   ]
  },
  {
   "cell_type": "code",
   "execution_count": null,
   "id": "d496ce61",
   "metadata": {},
   "outputs": [],
   "source": []
  }
 ],
 "metadata": {
  "kernelspec": {
   "display_name": "Python 3 (ipykernel)",
   "language": "python",
   "name": "python3"
  },
  "language_info": {
   "codemirror_mode": {
    "name": "ipython",
    "version": 3
   },
   "file_extension": ".py",
   "mimetype": "text/x-python",
   "name": "python",
   "nbconvert_exporter": "python",
   "pygments_lexer": "ipython3",
   "version": "3.8.11"
  }
 },
 "nbformat": 4,
 "nbformat_minor": 5
}
