{
 "cells": [
  {
   "cell_type": "markdown",
   "id": "ec30e9de",
   "metadata": {},
   "source": [
    "## 1. 수 정렬하기 2750번\n",
    "\n",
    "* https://www.acmicpc.net/problem/2750"
   ]
  },
  {
   "cell_type": "code",
   "execution_count": 1,
   "id": "d161b069",
   "metadata": {},
   "outputs": [
    {
     "name": "stdout",
     "output_type": "stream",
     "text": [
      "N개의 정수 : 5\n",
      "정수 입력 : 5\n",
      "정수 입력 : 2\n",
      "정수 입력 : 3\n",
      "정수 입력 : 4\n",
      "정수 입력 : 1\n"
     ]
    }
   ],
   "source": [
    "N = int(input(\"N개의 정수 : \"))\n",
    "flag = True\n",
    "numbers = []\n",
    "while flag:\n",
    "    num = int(input(\"정수 입력 : \"))\n",
    "    numbers.append(num)\n",
    "    if len(numbers) == N:\n",
    "        flag = False"
   ]
  },
  {
   "cell_type": "code",
   "execution_count": 2,
   "id": "c5ef5da7",
   "metadata": {},
   "outputs": [
    {
     "name": "stdout",
     "output_type": "stream",
     "text": [
      "[1, 2, 3, 4, 5]\n"
     ]
    }
   ],
   "source": [
    "numbers = sorted(numbers)\n",
    "print(numbers)"
   ]
  },
  {
   "cell_type": "markdown",
   "id": "11fd30a0",
   "metadata": {},
   "source": [
    "## 좌표 정렬하기 11650번\n",
    "\n",
    "* https://www.acmicpc.net/problem/11650"
   ]
  },
  {
   "cell_type": "code",
   "execution_count": 14,
   "id": "f93a8a15",
   "metadata": {},
   "outputs": [],
   "source": [
    "N = [[3 ,4],[1,1],[1,-1],[2,2],[3,3]]"
   ]
  },
  {
   "cell_type": "code",
   "execution_count": 19,
   "id": "99bcc88f",
   "metadata": {},
   "outputs": [],
   "source": [
    "import numpy as np"
   ]
  },
  {
   "cell_type": "code",
   "execution_count": 20,
   "id": "22cae7db",
   "metadata": {},
   "outputs": [],
   "source": [
    "N = np.array(N)"
   ]
  },
  {
   "cell_type": "code",
   "execution_count": 27,
   "id": "1a522829",
   "metadata": {},
   "outputs": [
    {
     "data": {
      "text/plain": [
       "array([[ 1,  1],\n",
       "       [ 1, -1],\n",
       "       [ 2,  2],\n",
       "       [ 3,  4],\n",
       "       [ 3,  3]])"
      ]
     },
     "execution_count": 27,
     "metadata": {},
     "output_type": "execute_result"
    }
   ],
   "source": [
    "N = N[np.argsort(N[:,0])]\n",
    "N"
   ]
  },
  {
   "cell_type": "code",
   "execution_count": 30,
   "id": "75f6c165",
   "metadata": {},
   "outputs": [
    {
     "data": {
      "text/plain": [
       "array([1, 1, 2, 3, 3])"
      ]
     },
     "execution_count": 30,
     "metadata": {},
     "output_type": "execute_result"
    }
   ],
   "source": [
    "N[:,0]"
   ]
  },
  {
   "cell_type": "code",
   "execution_count": 75,
   "id": "eaa8b928",
   "metadata": {},
   "outputs": [],
   "source": [
    "temp = [0] * N[:,0].max()"
   ]
  },
  {
   "cell_type": "code",
   "execution_count": 76,
   "id": "5c55cb52",
   "metadata": {},
   "outputs": [],
   "source": [
    "for t in range(len(N[:,0])):\n",
    "    temp[N[:,0][t]-1] +=1"
   ]
  },
  {
   "cell_type": "code",
   "execution_count": 78,
   "id": "579c55fa",
   "metadata": {},
   "outputs": [],
   "source": [
    "temp1 = temp.copy()"
   ]
  },
  {
   "cell_type": "code",
   "execution_count": 79,
   "id": "8c52bca3",
   "metadata": {},
   "outputs": [],
   "source": [
    "for i in range(len(temp)):\n",
    "    if i==0:\n",
    "        continue\n",
    "    temp[i] = temp[i-1] + temp[i]"
   ]
  },
  {
   "cell_type": "code",
   "execution_count": 80,
   "id": "ac885c1a",
   "metadata": {},
   "outputs": [
    {
     "data": {
      "text/plain": [
       "[2, 3, 5]"
      ]
     },
     "execution_count": 80,
     "metadata": {},
     "output_type": "execute_result"
    }
   ],
   "source": [
    "temp"
   ]
  },
  {
   "cell_type": "code",
   "execution_count": 39,
   "id": "f3f7dafc",
   "metadata": {},
   "outputs": [
    {
     "data": {
      "text/plain": [
       "0"
      ]
     },
     "execution_count": 39,
     "metadata": {},
     "output_type": "execute_result"
    }
   ],
   "source": [
    "if temp1[0] >1:\n",
    "    "
   ]
  },
  {
   "cell_type": "code",
   "execution_count": 106,
   "id": "43bbf62e",
   "metadata": {},
   "outputs": [
    {
     "data": {
      "text/plain": [
       "[2, 1, 2]"
      ]
     },
     "execution_count": 106,
     "metadata": {},
     "output_type": "execute_result"
    }
   ],
   "source": [
    "temp1"
   ]
  },
  {
   "cell_type": "code",
   "execution_count": 109,
   "id": "40ae6a12",
   "metadata": {},
   "outputs": [
    {
     "data": {
      "text/plain": [
       "2"
      ]
     },
     "execution_count": 109,
     "metadata": {},
     "output_type": "execute_result"
    }
   ],
   "source": [
    "temp1[k]"
   ]
  },
  {
   "cell_type": "code",
   "execution_count": 111,
   "id": "0dcd539e",
   "metadata": {},
   "outputs": [
    {
     "data": {
      "text/plain": [
       "array([], dtype=int32)"
      ]
     },
     "execution_count": 111,
     "metadata": {},
     "output_type": "execute_result"
    }
   ],
   "source": [
    "N[:,1][temp1[k]:temp[k]]"
   ]
  },
  {
   "cell_type": "code",
   "execution_count": 59,
   "id": "7949a8bd",
   "metadata": {},
   "outputs": [
    {
     "data": {
      "text/plain": [
       "array([ 1, -1,  2,  4,  3])"
      ]
     },
     "execution_count": 59,
     "metadata": {},
     "output_type": "execute_result"
    }
   ],
   "source": [
    "N[:,1]"
   ]
  },
  {
   "cell_type": "markdown",
   "id": "6e6f7800",
   "metadata": {},
   "source": [
    "### 국영수 10825번\n",
    "\n",
    "* https://www.acmicpc.net/problem/10825"
   ]
  },
  {
   "cell_type": "code",
   "execution_count": 4,
   "id": "8624494f",
   "metadata": {},
   "outputs": [
    {
     "name": "stdout",
     "output_type": "stream",
     "text": [
      "12\n",
      "Junkyu 50 60 100\n",
      "Sangkeun 80 60 50\n",
      "Sunyoung 80 70 100\n",
      "Soong 50 60 90\n",
      "Haebin 50 60 100\n",
      "Kangsoo 60 80 100\n",
      "Donghyuk 80 60 100\n",
      "Sei 70 70 70\n",
      "Wonseob 70 70 90\n",
      "Sanghyun 70 70 80\n",
      "nsj 80 80 80\n",
      "Taewhan 50 60 90\n"
     ]
    }
   ],
   "source": [
    "students = []\n",
    "\n",
    "N = int(input())\n",
    "for i in range(N):\n",
    "    name,kor,eng,math = input().split()\n",
    "\n",
    "    students.append((name,kor,eng,math))"
   ]
  },
  {
   "cell_type": "code",
   "execution_count": 9,
   "id": "6e2cdcde",
   "metadata": {},
   "outputs": [
    {
     "data": {
      "text/plain": [
       "[('Sangkeun', '80', '60', '50'),\n",
       " ('Donghyuk', '80', '60', '100'),\n",
       " ('Sunyoung', '80', '70', '100'),\n",
       " ('nsj', '80', '80', '80'),\n",
       " ('Wonseob', '70', '70', '90'),\n",
       " ('Sanghyun', '70', '70', '80'),\n",
       " ('Sei', '70', '70', '70'),\n",
       " ('Kangsoo', '60', '80', '100'),\n",
       " ('Soong', '50', '60', '90'),\n",
       " ('Taewhan', '50', '60', '90'),\n",
       " ('Haebin', '50', '60', '100'),\n",
       " ('Junkyu', '50', '60', '100')]"
      ]
     },
     "execution_count": 9,
     "metadata": {},
     "output_type": "execute_result"
    }
   ],
   "source": [
    "A = sorted(students,key = lambda x: x[0])\n",
    "A = sorted(A,key = lambda x: x[3],reverse=True)\n",
    "A = sorted(A,key = lambda x: x[2])\n",
    "A = sorted(A,key = lambda x: x[1],reverse=True)\n",
    "A"
   ]
  },
  {
   "cell_type": "code",
   "execution_count": 10,
   "id": "683f2984",
   "metadata": {},
   "outputs": [
    {
     "name": "stdout",
     "output_type": "stream",
     "text": [
      "Sangkeun\n",
      "Donghyuk\n",
      "Sunyoung\n",
      "nsj\n",
      "Wonseob\n",
      "Sanghyun\n",
      "Sei\n",
      "Kangsoo\n",
      "Soong\n",
      "Taewhan\n",
      "Haebin\n",
      "Junkyu\n"
     ]
    }
   ],
   "source": [
    "for i in range(N):\n",
    "    print(A[i][0])"
   ]
  },
  {
   "cell_type": "code",
   "execution_count": null,
   "id": "d496ce61",
   "metadata": {},
   "outputs": [],
   "source": []
  }
 ],
 "metadata": {
  "kernelspec": {
   "display_name": "Python 3 (ipykernel)",
   "language": "python",
   "name": "python3"
  },
  "language_info": {
   "codemirror_mode": {
    "name": "ipython",
    "version": 3
   },
   "file_extension": ".py",
   "mimetype": "text/x-python",
   "name": "python",
   "nbconvert_exporter": "python",
   "pygments_lexer": "ipython3",
   "version": "3.8.11"
  }
 },
 "nbformat": 4,
 "nbformat_minor": 5
}
