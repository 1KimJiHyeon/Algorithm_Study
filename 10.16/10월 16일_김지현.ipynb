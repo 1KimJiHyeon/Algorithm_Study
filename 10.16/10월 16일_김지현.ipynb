{
 "cells": [
  {
   "cell_type": "markdown",
   "id": "e037c40c",
   "metadata": {},
   "source": [
    "### 2750번 수 정렬하기\n",
    "#### https://www.acmicpc.net/problem/2750"
   ]
  },
  {
   "cell_type": "code",
   "execution_count": 13,
   "id": "c8945d00",
   "metadata": {},
   "outputs": [
    {
     "name": "stdout",
     "output_type": "stream",
     "text": [
      "5\n",
      "5\n",
      "2\n",
      "3\n",
      "4\n",
      "1\n",
      "1\n",
      "2\n",
      "3\n",
      "4\n",
      "5\n"
     ]
    }
   ],
   "source": [
    "#2750번\n",
    "n = int(input())\n",
    "lst = []\n",
    "for i in range (n):\n",
    "    lst.append(int(input()))\n",
    "    \n",
    "lst.sort() # 내장함수 - quick sort로 돌아감\n",
    "\n",
    "for k in lst:\n",
    "    print(k)"
   ]
  },
  {
   "cell_type": "code",
   "execution_count": 14,
   "id": "29da4a82",
   "metadata": {},
   "outputs": [
    {
     "name": "stdout",
     "output_type": "stream",
     "text": [
      "5\n",
      "5\n",
      "2\n",
      "3\n",
      "4\n",
      "1\n",
      "1\n",
      "2\n",
      "3\n",
      "4\n",
      "5\n"
     ]
    }
   ],
   "source": [
    "#2750번\n",
    "n = int(input())\n",
    "lst = []\n",
    "for i in range (n):\n",
    "    lst.append(int(input()))\n",
    "    \n",
    "lst_c = lst.copy()\n",
    "\n",
    "for i in range(1,len(lst)+1):\n",
    "    for j in range(1,len(lst)-i+1):\n",
    "        if lst_c[j-1]>lst_c[j]:\n",
    "            lst_c[j-1],lst_c[j]=lst_c[j],lst_c[j-1]\n",
    "            \n",
    "for k in lst_c:\n",
    "    print(k)"
   ]
  },
  {
   "cell_type": "markdown",
   "id": "add855d1",
   "metadata": {},
   "source": [
    "### 11650번 좌표 정렬하기\n",
    "#### https://www.acmicpc.net/problem/11650"
   ]
  },
  {
   "cell_type": "code",
   "execution_count": 7,
   "id": "8ceeddf3",
   "metadata": {},
   "outputs": [
    {
     "name": "stdout",
     "output_type": "stream",
     "text": [
      "5\n",
      "3 4\n",
      "1 1\n",
      "1 -1\n",
      "2 2\n",
      "3 3\n",
      "1 -1\n",
      "1 1\n",
      "2 2\n",
      "3 3\n",
      "3 4\n"
     ]
    }
   ],
   "source": [
    "# 11650 - 시간초과\n",
    "\n",
    "N = int(input())\n",
    "\n",
    "coordinate=[]\n",
    "\n",
    "for i in range(N):\n",
    "    X,Y = map(int, input().split())\n",
    "    coordinate.append([X, Y])\n",
    "\n",
    "coordinate_lst = coordinate.copy()\n",
    "\n",
    "# 버블 소트를 이용\n",
    "for k in range(1,len(coordinate_lst)+1):\n",
    "    for j in range(1,len(coordinate_lst)-k+1):\n",
    "        if coordinate_lst[j-1][0]>coordinate_lst[j][0]:\n",
    "            coordinate_lst[j-1],coordinate_lst[j]=coordinate_lst[j],coordinate_lst[j-1]\n",
    "        elif coordinate_lst[j-1][0] == coordinate_lst[j][0]:\n",
    "            if coordinate_lst[j-1][1]>coordinate_lst[j][1]:\n",
    "                coordinate_lst[j-1],coordinate_lst[j]=coordinate_lst[j],coordinate_lst[j-1]\n",
    "\n",
    "for t in range(len(coordinate_lst)):\n",
    "    print(coordinate_lst[t][0], coordinate_lst[t][1])"
   ]
  },
  {
   "cell_type": "code",
   "execution_count": 11,
   "id": "2da72cc4",
   "metadata": {},
   "outputs": [
    {
     "name": "stdout",
     "output_type": "stream",
     "text": [
      "5\n",
      "3 4\n",
      "1 1\n",
      "1 -1\n",
      "2 2\n",
      "3 3\n",
      "1 -1\n",
      "1 1\n",
      "2 2\n",
      "3 3\n",
      "3 4\n"
     ]
    }
   ],
   "source": [
    "n = int(input())\n",
    "coordinate = []\n",
    "\n",
    "for i in range(n):\n",
    "    coordinate.append(list(map(int, input().split())))\n",
    "    \n",
    "coordinate.sort(key=lambda x: (x[0], x[1]))\n",
    "\n",
    "for k in coordinate:\n",
    "    print(k[0], k[1])"
   ]
  },
  {
   "cell_type": "markdown",
   "id": "0b41e7e5",
   "metadata": {},
   "source": [
    "### 10825번 국영수\n",
    "#### https://www.acmicpc.net/problem/10825"
   ]
  },
  {
   "cell_type": "code",
   "execution_count": 8,
   "id": "d9f16275",
   "metadata": {},
   "outputs": [
    {
     "name": "stdout",
     "output_type": "stream",
     "text": [
      "12\n",
      "Junkyu 50 60 100\n",
      "Sangkeun 80 60 50\n",
      "Sunyoung 80 70 100\n",
      "Soong 50 60 90\n",
      "Haebin 50 60 100\n",
      "Kangsoo 60 80 100\n",
      "Donghyuk 80 60 100\n",
      "Sei 70 70 70\n",
      "Wonseob 70 70 90\n",
      "Sanghyun 70 70 80\n",
      "nsj 80 80 80\n",
      "Taewhan 50 60 90\n",
      "Donghyuk\n",
      "Sangkeun\n",
      "Sunyoung\n",
      "nsj\n",
      "Wonseob\n",
      "Sanghyun\n",
      "Sei\n",
      "Kangsoo\n",
      "Haebin\n",
      "Junkyu\n",
      "Soong\n",
      "Taewhan\n"
     ]
    }
   ],
   "source": [
    "# 10825\n",
    "n = int(input())\n",
    "std= []\n",
    "for k in range(n):\n",
    "    std.append(list(map(str,input().split())))\n",
    "    \n",
    "std.sort(key=lambda x : str(x[0]))\n",
    "std.sort(key=lambda x:int(x[3]), reverse=True)\n",
    "std.sort(key = lambda x : int(x[2]))\n",
    "std.sort(key = lambda x: int(x[1]), reverse = True)\n",
    "\n",
    "for i in std :\n",
    "    print(i[0])"
   ]
  }
 ],
 "metadata": {
  "kernelspec": {
   "display_name": "Python 3 (ipykernel)",
   "language": "python",
   "name": "python3"
  },
  "language_info": {
   "codemirror_mode": {
    "name": "ipython",
    "version": 3
   },
   "file_extension": ".py",
   "mimetype": "text/x-python",
   "name": "python",
   "nbconvert_exporter": "python",
   "pygments_lexer": "ipython3",
   "version": "3.8.11"
  }
 },
 "nbformat": 4,
 "nbformat_minor": 5
}
