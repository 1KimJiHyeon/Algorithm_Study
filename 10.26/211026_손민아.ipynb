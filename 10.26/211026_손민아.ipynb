{
 "cells": [
  {
   "cell_type": "markdown",
   "metadata": {},
   "source": [
    "# 2252번  줄세우기\n",
    "- https://www.acmicpc.net/problem/2252"
   ]
  },
  {
   "cell_type": "code",
   "execution_count": 2,
   "metadata": {
    "scrolled": true
   },
   "outputs": [
    {
     "name": "stdout",
     "output_type": "stream",
     "text": [
      "3\n",
      "3 2\n",
      "1 3\n",
      "2 3\n",
      "1 2 3 "
     ]
    }
   ],
   "source": [
    "from collections import deque\n",
    "\n",
    "\n",
    "inputNums = int(input())\n",
    "n, m = map(int, input().split())\n",
    "graph = [[] for _ in range(n+1)]\n",
    "lst = [0] * (n+1) # 진입 차수 리스트\n",
    "for _ in range(m):\n",
    "    a, b = map(int, input().split())\n",
    "    graph[a].append(b)\n",
    "    lst[b] += 1\n",
    "\n",
    "# 위상정렬 알고리즘\n",
    "queue = deque() # 큐 생성\n",
    "for i in range(1, n+1):\n",
    "    if lst[i] == 0:\n",
    "        queue.append(i)\n",
    "answer = []\n",
    "while queue :\n",
    "    now = queue.popleft()\n",
    "    answer.append(now)\n",
    "    for i in graph[now]:\n",
    "        lst[i] -= 1\n",
    "        if lst[i] == 0 :\n",
    "            queue.append(i)\n",
    "for a in answer:\n",
    "    print(a, end=' ')"
   ]
  },
  {
   "cell_type": "code",
   "execution_count": null,
   "metadata": {},
   "outputs": [],
   "source": []
  }
 ],
 "metadata": {
  "interpreter": {
   "hash": "838183ee7b8555b431a91736167a55b3c95bb59a44782dde488817f7776386cb"
  },
  "kernelspec": {
   "display_name": "Python 3",
   "language": "python",
   "name": "python3"
  },
  "language_info": {
   "codemirror_mode": {
    "name": "ipython",
    "version": 3
   },
   "file_extension": ".py",
   "mimetype": "text/x-python",
   "name": "python",
   "nbconvert_exporter": "python",
   "pygments_lexer": "ipython3",
   "version": "3.8.8"
  }
 },
 "nbformat": 4,
 "nbformat_minor": 2
}
