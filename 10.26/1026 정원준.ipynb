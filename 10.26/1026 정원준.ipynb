{
 "cells": [
  {
   "cell_type": "code",
   "execution_count": 1,
   "metadata": {},
   "outputs": [],
   "source": [
    "def topologySort(arr, inDegree, n):\n",
    "    result = [] # 최종 정렬 결과를 담는 배열\n",
    "    queue = [None] + [i for i in range(1, len(inDegree)) if inDegree[i] == 0 ] # 진입차수 0인 노드 큐에 삽입\n",
    "\n",
    "    # 위상정렬이 완전히 수행되려면 정확히 N개의 노드를 방문\n",
    "    for i in range(n):\n",
    "        # print(queue, arr, inDegree)\n",
    "        if len(queue) == 1:\n",
    "            print(\"싸이클이 발생했습니다.\")\n",
    "            return []\n",
    "        \n",
    "        x = queue.pop(1) # 큐에서 하나 뽑는다\n",
    "        result.append(x)\n",
    "        for i in arr[x]: # 뽑은 x에 연결된 노드의 진입차수를 1씩 빼준다.\n",
    "            inDegree[i] -= 1\n",
    "            if inDegree[i] == 0:\n",
    "                queue.append(i)\n",
    "    return result"
   ]
  },
  {
   "cell_type": "code",
   "execution_count": 12,
   "metadata": {},
   "outputs": [
    {
     "name": "stdout",
     "output_type": "stream",
     "text": [
      "3 4 1 2 "
     ]
    }
   ],
   "source": [
    "n, m = map(int, input().split())\n",
    "ls = [[] for i in range(n)]\n",
    "inDegree = [0 for i in range(n)]\n",
    "student_ls = set([i for i in range(n)])\n",
    "for i in range(m):\n",
    "    a, b  = map(int, input().split())\n",
    "    ls[a-1].append(b-1)\n",
    "    inDegree[b-1] += 1\n",
    "\n",
    "queue = [i for i in range(n) if inDegree[i] == 0]\n",
    "result = []\n",
    "while len(queue) > 0:\n",
    "    x = queue.pop(0)\n",
    "    result.append(x)\n",
    "    for i in ls[x]:\n",
    "        inDegree[i] -= 1\n",
    "        if inDegree[i] == 0:\n",
    "            queue.append(i)\n",
    "\n",
    "remain = student_ls - set(result)\n",
    "result = result + list(remain)\n",
    "for i in result:\n",
    "    print(i+1, end=' ')"
   ]
  },
  {
   "cell_type": "code",
   "execution_count": 6,
   "metadata": {},
   "outputs": [
    {
     "data": {
      "text/plain": [
       "{10}"
      ]
     },
     "execution_count": 6,
     "metadata": {},
     "output_type": "execute_result"
    }
   ],
   "source": [
    "a = set()\n",
    "a.add(10)\n",
    "a.add(10)\n",
    "a"
   ]
  },
  {
   "cell_type": "code",
   "execution_count": null,
   "metadata": {},
   "outputs": [],
   "source": []
  }
 ],
 "metadata": {
  "interpreter": {
   "hash": "73b15312f6d0a3a4f81bb1fef5fd302c9d36df752431494f77e2d8fbed378edf"
  },
  "kernelspec": {
   "display_name": "Python 3.8.11 64-bit ('ds_study': conda)",
   "name": "python3"
  },
  "language_info": {
   "codemirror_mode": {
    "name": "ipython",
    "version": 3
   },
   "file_extension": ".py",
   "mimetype": "text/x-python",
   "name": "python",
   "nbconvert_exporter": "python",
   "pygments_lexer": "ipython3",
   "version": "3.8.11"
  },
  "orig_nbformat": 4
 },
 "nbformat": 4,
 "nbformat_minor": 2
}
