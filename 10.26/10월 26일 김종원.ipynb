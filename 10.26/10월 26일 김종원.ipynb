{
 "cells": [
  {
   "cell_type": "markdown",
   "id": "8e66c17d",
   "metadata": {},
   "source": [
    "## Strongly Connected Component 2150번\n",
    "\n",
    "* https://www.acmicpc.net/problem/2150"
   ]
  },
  {
   "cell_type": "markdown",
   "id": "095c0be6",
   "metadata": {},
   "source": [
    "7 9\n",
    "1 4\n",
    "4 5\n",
    "5 1\n",
    "1 6\n",
    "6 7\n",
    "2 7\n",
    "7 3\n",
    "3 7\n",
    "7 2"
   ]
  },
  {
   "cell_type": "markdown",
   "id": "3ddb7684",
   "metadata": {},
   "source": [
    "* 타잔 알고리즘"
   ]
  },
  {
   "cell_type": "code",
   "execution_count": 2,
   "id": "7cfaf670",
   "metadata": {},
   "outputs": [
    {
     "name": "stdout",
     "output_type": "stream",
     "text": [
      "7 9\n",
      "1 4\n",
      "4 5\n",
      "5 1\n",
      "1 6\n",
      "6 7\n",
      "2 7\n",
      "7 3\n",
      "3 7\n",
      "7 2\n",
      "3\n",
      "1 4 5 -1\n",
      "2 3 7 -1\n",
      "6 -1\n"
     ]
    }
   ],
   "source": [
    "node,edges = map(int, input().split())\n",
    "\n",
    "graph = [[] for _ in range(node+1)]\n",
    "\n",
    "# 연결된 정보 그래프에 기입\n",
    "for _ in range(edges):\n",
    "    a,b = map(int,input().split())\n",
    "    graph[a].append(b)\n",
    "\n",
    "# DFS 방식을 사용할테니 스택 자료형 변수 선언\n",
    "stack = []\n",
    "ids = [-1] * (node + 1)\n",
    "low = [-1] * (node + 1)\n",
    "visited = [0] * (node + 1)\n",
    "idid = 0\n",
    "result = []\n",
    "\n",
    "def dfs(x,low,ids,visited,stack):\n",
    "    global idid\n",
    "    ids[x] = idid\n",
    "    low[x] = idid\n",
    "    # idid 값을 1을 더해준다.\n",
    "    idid += 1\n",
    "    # 방문 정보 기입\n",
    "    visited[x] = 1\n",
    "    stack.append(x)\n",
    "\n",
    "    for ne in graph[x]:\n",
    "        if ids[ne] == -1:\n",
    "            dfs(ne, low, ids, visited, stack)\n",
    "            low[x] = min(low[x], low[ne])\n",
    "        elif visited[ne] == 1:\n",
    "            low[x] = min(low[x], ids[ne])\n",
    "\n",
    "    w = -1\n",
    "    scc = []\n",
    "    if low[x] == ids[x]:\n",
    "        while w != x:\n",
    "            w = stack.pop()\n",
    "            scc.append(w)\n",
    "            visited[w] = -1\n",
    "        result.append(sorted(scc))\n",
    "\n",
    "\n",
    "for i in range(1,node+1):\n",
    "    if ids[i] == -1:\n",
    "        dfs(i, low,ids, visited, stack)\n",
    "print(len(result))\n",
    "for i in sorted(result):\n",
    "    print(*i,-1)"
   ]
  },
  {
   "cell_type": "code",
   "execution_count": null,
   "id": "05964e19",
   "metadata": {},
   "outputs": [],
   "source": []
  }
 ],
 "metadata": {
  "kernelspec": {
   "display_name": "Python 3 (ipykernel)",
   "language": "python",
   "name": "python3"
  },
  "language_info": {
   "codemirror_mode": {
    "name": "ipython",
    "version": 3
   },
   "file_extension": ".py",
   "mimetype": "text/x-python",
   "name": "python",
   "nbconvert_exporter": "python",
   "pygments_lexer": "ipython3",
   "version": "3.8.11"
  }
 },
 "nbformat": 4,
 "nbformat_minor": 5
}
