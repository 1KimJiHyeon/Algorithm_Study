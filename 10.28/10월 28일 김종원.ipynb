{
 "cells": [
  {
   "cell_type": "markdown",
   "id": "5530ca65",
   "metadata": {},
   "source": [
    "## 알람 시계 2884번\n",
    "\n",
    "* https://www.acmicpc.net/problem/2884"
   ]
  },
  {
   "cell_type": "code",
   "execution_count": 25,
   "id": "c3502cfe",
   "metadata": {},
   "outputs": [
    {
     "name": "stdout",
     "output_type": "stream",
     "text": [
      "23 40\n"
     ]
    }
   ],
   "source": [
    "N,M = map(int,input().split())\n",
    "\n",
    "result = M - 45\n",
    "if result <0:\n",
    "    N -=1\n",
    "    if N < 0:\n",
    "        N = 23\n",
    "    M = 60 + result\n",
    "else:\n",
    "    N = N\n",
    "    M = result\n",
    "\n",
    "print(N,M)"
   ]
  },
  {
   "cell_type": "markdown",
   "id": "d7ca0731",
   "metadata": {},
   "source": [
    "---"
   ]
  },
  {
   "cell_type": "markdown",
   "id": "0fc5489c",
   "metadata": {},
   "source": [
    "## 돌게임 9655번\n",
    "\n",
    "* https://www.acmicpc.net/problem/9655"
   ]
  },
  {
   "cell_type": "code",
   "execution_count": 28,
   "id": "ffab953f",
   "metadata": {},
   "outputs": [],
   "source": [
    "# n = 1 -> 상근\n",
    "# n = 2 -> 창영\n",
    "# n = 3 -> 상근\n",
    "# n = 4 -> 창영"
   ]
  },
  {
   "cell_type": "code",
   "execution_count": 29,
   "id": "adc296da",
   "metadata": {},
   "outputs": [
    {
     "name": "stdout",
     "output_type": "stream",
     "text": [
      "5\n"
     ]
    }
   ],
   "source": [
    "N = int(input())\n",
    "\n",
    "if N%2 == 1:\n",
    "    print(\"SK\")\n",
    "else:\n",
    "    print(\"CY\")"
   ]
  },
  {
   "cell_type": "markdown",
   "id": "014eb8df",
   "metadata": {},
   "source": [
    "## 동물원 1309번\n",
    "\n",
    "* https://www.acmicpc.net/problem/1309"
   ]
  },
  {
   "cell_type": "code",
   "execution_count": 31,
   "id": "3efbe95a",
   "metadata": {},
   "outputs": [],
   "source": [
    "# n = 1 -> 3\n",
    "# n = 2 -> 2 + 2 + 3 -> 7\n",
    "# n = 3 -> 5 + 5 + 7 -> 17\n",
    "# n = 4 -> 12 + 12 + 17 -> 41"
   ]
  },
  {
   "cell_type": "code",
   "execution_count": 32,
   "id": "70106d7b",
   "metadata": {},
   "outputs": [
    {
     "data": {
      "text/plain": [
       "-24"
      ]
     },
     "execution_count": 32,
     "metadata": {},
     "output_type": "execute_result"
    }
   ],
   "source": [
    "1 2 0 1 2\n",
    "0 2 0 1 2\n",
    "\n",
    "0 -> 2가지\n",
    "2 -> 3가지\n",
    "0 1 2 -> 7가지\n",
    "12가지"
   ]
  },
  {
   "cell_type": "code",
   "execution_count": 39,
   "id": "893eba7a",
   "metadata": {},
   "outputs": [
    {
     "name": "stdout",
     "output_type": "stream",
     "text": [
      "4\n"
     ]
    }
   ],
   "source": [
    "N = int(input())\n",
    "\n",
    "A = [0] * (N+1)\n",
    "\n",
    "A[1] = 3\n",
    "A[2] = 7\n",
    "\n",
    "for i in range(3,N+1):\n",
    "    A[i] = 2*A[i-1] + A[i-2]\n",
    "\n",
    "print(A[N])"
   ]
  },
  {
   "cell_type": "code",
   "execution_count": 45,
   "id": "2ec78b21",
   "metadata": {},
   "outputs": [
    {
     "name": "stdout",
     "output_type": "stream",
     "text": [
      "1000000\n",
      "9589\n"
     ]
    }
   ],
   "source": [
    "n = int(input())\n",
    "an = [0]*(n+1)\n",
    "\n",
    "an[0] = 1\n",
    "an[1] = 3\n",
    "\n",
    "if n ==1:\n",
    "    print(an[1])\n",
    "else:\n",
    "    for i in range(2, n+1):\n",
    "        an[i] = 2*an[i-1] + an[i-2]\n",
    "        an[i] %= 9901\n",
    "    print(an[n])"
   ]
  },
  {
   "cell_type": "code",
   "execution_count": 49,
   "id": "68df5226",
   "metadata": {},
   "outputs": [
    {
     "name": "stdout",
     "output_type": "stream",
     "text": [
      "1\n",
      "3\n"
     ]
    }
   ],
   "source": [
    "N = int(input())\n",
    "\n",
    "A = [0] * (N+1)\n",
    "\n",
    "A[0] = 1\n",
    "A[1] = 3\n",
    "\n",
    "\n",
    "if N ==1:\n",
    "    print(A[1]%9901)\n",
    "else:\n",
    "    for i in range(2,N+1):\n",
    "        A[i] = 2*A[i-1] + A[i-2]\n",
    "        A[i] %= 9901\n",
    "    print(A[N])"
   ]
  },
  {
   "cell_type": "markdown",
   "id": "dc63b74d",
   "metadata": {},
   "source": [
    "## 줄세우기 2631번\n",
    "\n",
    "* https://www.acmicpc.net/problem/2631"
   ]
  },
  {
   "cell_type": "code",
   "execution_count": 3,
   "id": "f4ea4a7b",
   "metadata": {},
   "outputs": [
    {
     "name": "stdout",
     "output_type": "stream",
     "text": [
      "7\n",
      "3\n",
      "7\n",
      "5\n",
      "2\n",
      "6\n",
      "1\n",
      "4\n",
      "4\n"
     ]
    }
   ],
   "source": [
    "N = int(input())\n",
    "\n",
    "nums = []\n",
    "for _ in range(N):\n",
    "    nums.append(int(input()))\n",
    "\n",
    "lis = [0] * (N)\n",
    "\n",
    "lis[0] = 1\n",
    "MAX = 0\n",
    "\n",
    "for i in range(1,N):\n",
    "    lis[i] = 1\n",
    "    for j in range(i):\n",
    "        if nums[i] > nums[j]:\n",
    "            MAX = max(lis[j],MAX)\n",
    "    \n",
    "    lis[i] = MAX + 1\n",
    "    MAX = 0\n",
    "\n",
    "print(N - max(lis))"
   ]
  },
  {
   "cell_type": "markdown",
   "id": "761af74b",
   "metadata": {},
   "source": [
    "## 설탕 배달  2839번\n",
    "\n",
    "* https://www.acmicpc.net/problem/2839"
   ]
  },
  {
   "cell_type": "code",
   "execution_count": 2,
   "id": "c18d3290",
   "metadata": {},
   "outputs": [
    {
     "name": "stdout",
     "output_type": "stream",
     "text": [
      "11\n",
      "3\n"
     ]
    }
   ],
   "source": [
    "N = int(input())\n",
    "\n",
    "combin = []\n",
    "\n",
    "for j in range((N//3)+1):\n",
    "    for i in range((N//5)+1):\n",
    "        result = 5 * i + 3 * j\n",
    "        if N == result:\n",
    "            combin.append([i,j])\n",
    "            break\n",
    "    if N == result:\n",
    "        break\n",
    "        \n",
    "        \n",
    "if len(combin) == 0:\n",
    "    print(-1)\n",
    "else:\n",
    "    total = 0\n",
    "    for c in combin[0]:\n",
    "        total+=c\n",
    "\n",
    "    print(total)"
   ]
  },
  {
   "cell_type": "code",
   "execution_count": null,
   "id": "ecf52c66",
   "metadata": {},
   "outputs": [],
   "source": []
  }
 ],
 "metadata": {
  "kernelspec": {
   "display_name": "Python 3 (ipykernel)",
   "language": "python",
   "name": "python3"
  },
  "language_info": {
   "codemirror_mode": {
    "name": "ipython",
    "version": 3
   },
   "file_extension": ".py",
   "mimetype": "text/x-python",
   "name": "python",
   "nbconvert_exporter": "python",
   "pygments_lexer": "ipython3",
   "version": "3.8.11"
  }
 },
 "nbformat": 4,
 "nbformat_minor": 5
}
