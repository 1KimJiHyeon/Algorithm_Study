{
 "cells": [
  {
   "cell_type": "markdown",
   "id": "5530ca65",
   "metadata": {},
   "source": [
    "## 알람 시계\n",
    "\n",
    "\n",
    "### 문제\n",
    "상근이는 매일 아침 알람을 듣고 일어난다. 알람을 듣고 바로 일어나면 다행이겠지만, 항상 조금만 더 자려는 마음 때문에 매일 학교를 지각하고 있다.\n",
    "\n",
    "상근이는 모든 방법을 동원해보았지만, 조금만 더 자려는 마음은 그 어떤 것도 없앨 수가 없었다.\n",
    "\n",
    "이런 상근이를 불쌍하게 보던, 창영이는 자신이 사용하는 방법을 추천해 주었다.\n",
    "\n",
    "바로 \"45분 일찍 알람 설정하기\"이다.\n",
    "\n",
    "이 방법은 단순하다. 원래 설정되어 있는 알람을 45분 앞서는 시간으로 바꾸는 것이다. 어차피 알람 소리를 들으면, 알람을 끄고 조금 더 잘 것이기 때문이다. 이 방법을 사용하면, 매일 아침 더 잤다는 기분을 느낄 수 있고, 학교도 지각하지 않게 된다.\n",
    "\n",
    "현재 상근이가 설정한 알람 시각이 주어졌을 때, 창영이의 방법을 사용한다면, 이를 언제로 고쳐야 하는지 구하는 프로그램을 작성하시오.\n",
    "\n",
    "### 입력\n",
    "첫째 줄에 두 정수 H와 M이 주어진다. (0 ≤ H ≤ 23, 0 ≤ M ≤ 59) 그리고 이것은 현재 상근이가 설정한 놓은 알람 시간 H시 M분을 의미한다.\n",
    "\n",
    "입력 시간은 24시간 표현을 사용한다. 24시간 표현에서 하루의 시작은 0:0(자정)이고, 끝은 23:59(다음날 자정 1분 전)이다. 시간을 나타낼 때, 불필요한 0은 사용하지 않는다.\n",
    "\n",
    "### 출력\n",
    "첫째 줄에 상근이가 창영이의 방법을 사용할 때, 설정해야 하는 알람 시간을 출력한다. (입력과 같은 형태로 출력하면 된다.)"
   ]
  },
  {
   "cell_type": "code",
   "execution_count": 25,
   "id": "c3502cfe",
   "metadata": {},
   "outputs": [
    {
     "name": "stdout",
     "output_type": "stream",
     "text": [
      "23 40\n"
     ]
    }
   ],
   "source": [
    "N,M = map(int,input().split())\n",
    "\n",
    "result = M - 45\n",
    "if result <0:\n",
    "    N -=1\n",
    "    if N < 0:\n",
    "        N = 23\n",
    "    M = 60 + result\n",
    "else:\n",
    "    N = N\n",
    "    M = result\n",
    "\n",
    "print(N,M)"
   ]
  },
  {
   "cell_type": "markdown",
   "id": "d7ca0731",
   "metadata": {},
   "source": [
    "---"
   ]
  },
  {
   "cell_type": "markdown",
   "id": "0fc5489c",
   "metadata": {},
   "source": [
    "## 돌게임"
   ]
  },
  {
   "cell_type": "code",
   "execution_count": 28,
   "id": "ffab953f",
   "metadata": {},
   "outputs": [],
   "source": [
    "# n = 1 -> 상근\n",
    "# n = 2 -> 창영\n",
    "# n = 3 -> 상근\n",
    "# n = 4 -> 창영"
   ]
  },
  {
   "cell_type": "code",
   "execution_count": 29,
   "id": "adc296da",
   "metadata": {},
   "outputs": [
    {
     "name": "stdout",
     "output_type": "stream",
     "text": [
      "5\n"
     ]
    }
   ],
   "source": [
    "N = int(input())\n",
    "\n",
    "if N%2 == 1:\n",
    "    print(\"SK\")\n",
    "else:\n",
    "    print(\"CY\")"
   ]
  },
  {
   "cell_type": "markdown",
   "id": "014eb8df",
   "metadata": {},
   "source": [
    "## 동물원"
   ]
  },
  {
   "cell_type": "code",
   "execution_count": 31,
   "id": "3efbe95a",
   "metadata": {},
   "outputs": [],
   "source": [
    "# n = 1 -> 3\n",
    "# n = 2 -> 2 + 2 + 3 -> 7\n",
    "# n = 3 -> 5 + 5 + 7 -> 17\n",
    "# n = 4 -> 12 + 12 + 17 -> 41"
   ]
  },
  {
   "cell_type": "code",
   "execution_count": 32,
   "id": "70106d7b",
   "metadata": {},
   "outputs": [
    {
     "data": {
      "text/plain": [
       "-24"
      ]
     },
     "execution_count": 32,
     "metadata": {},
     "output_type": "execute_result"
    }
   ],
   "source": [
    "1 2 0 1 2\n",
    "0 2 0 1 2\n",
    "\n",
    "0 -> 2가지\n",
    "2 -> 3가지\n",
    "0 1 2 -> 7가지\n",
    "12가지"
   ]
  },
  {
   "cell_type": "code",
   "execution_count": 39,
   "id": "893eba7a",
   "metadata": {},
   "outputs": [
    {
     "name": "stdout",
     "output_type": "stream",
     "text": [
      "4\n"
     ]
    }
   ],
   "source": [
    "N = int(input())\n",
    "\n",
    "A = [0] * (N+1)\n",
    "\n",
    "A[1] = 3\n",
    "A[2] = 7\n",
    "\n",
    "for i in range(3,N+1):\n",
    "    A[i] = 2*A[i-1] + A[i-2]\n",
    "\n",
    "print(A[N])"
   ]
  },
  {
   "cell_type": "code",
   "execution_count": 45,
   "id": "2ec78b21",
   "metadata": {},
   "outputs": [
    {
     "name": "stdout",
     "output_type": "stream",
     "text": [
      "1000000\n",
      "9589\n"
     ]
    }
   ],
   "source": [
    "n = int(input())\n",
    "an = [0]*(n+1)\n",
    "\n",
    "an[0] = 1\n",
    "an[1] = 3\n",
    "\n",
    "if n ==1:\n",
    "    print(an[1])\n",
    "else:\n",
    "    for i in range(2, n+1):\n",
    "        an[i] = 2*an[i-1] + an[i-2]\n",
    "        an[i] %= 9901\n",
    "    print(an[n])"
   ]
  },
  {
   "cell_type": "code",
   "execution_count": 49,
   "id": "68df5226",
   "metadata": {},
   "outputs": [
    {
     "name": "stdout",
     "output_type": "stream",
     "text": [
      "1\n",
      "3\n"
     ]
    }
   ],
   "source": [
    "N = int(input())\n",
    "\n",
    "A = [0] * (N+1)\n",
    "\n",
    "A[0] = 1\n",
    "A[1] = 3\n",
    "\n",
    "\n",
    "if N ==1:\n",
    "    print(A[1]%9901)\n",
    "else:\n",
    "    for i in range(2,N+1):\n",
    "        A[i] = 2*A[i-1] + A[i-2]\n",
    "        A[i] %= 9901\n",
    "    print(A[N])"
   ]
  },
  {
   "cell_type": "markdown",
   "id": "dc63b74d",
   "metadata": {},
   "source": [
    "## 줄세우기"
   ]
  },
  {
   "cell_type": "code",
   "execution_count": 50,
   "id": "f4ea4a7b",
   "metadata": {},
   "outputs": [
    {
     "name": "stdout",
     "output_type": "stream",
     "text": [
      "7\n"
     ]
    }
   ],
   "source": [
    "N = int(input())\n",
    "\n",
    "nums = []\n",
    "for _ in range(N):\n",
    "    nums.append(int(input()))\n",
    "\n",
    "lis = [0] * (N)\n",
    "\n",
    "lis[0] = 1\n",
    "MAX = 0\n",
    "\n",
    "for i in range(1,N):\n",
    "    lis[i] = 1\n",
    "    for j in range(i):\n",
    "        if nums[i] > nums[j]:\n",
    "            MAX = max(lis[j],MAX)\n",
    "    \n",
    "    lis[i] = MAX + 1\n",
    "    MAX = 0\n",
    "\n",
    "print(N - max(lis))"
   ]
  },
  {
   "cell_type": "markdown",
   "id": "761af74b",
   "metadata": {},
   "source": [
    "## 설탕 배달 \n",
    "\n",
    "### 문제\n",
    "상근이는 요즘 설탕공장에서 설탕을 배달하고 있다. 상근이는 지금 사탕가게에 설탕을 정확하게 N킬로그램을 배달해야 한다. 설탕공장에서 만드는 설탕은 봉지에 담겨져 있다. 봉지는 3킬로그램 봉지와 5킬로그램 봉지가 있다.\n",
    "\n",
    "상근이는 귀찮기 때문에, 최대한 적은 봉지를 들고 가려고 한다. 예를 들어, 18킬로그램 설탕을 배달해야 할 때, 3킬로그램 봉지 6개를 가져가도 되지만, 5킬로그램 3개와 3킬로그램 1개를 배달하면, 더 적은 개수의 봉지를 배달할 수 있다.\n",
    "\n",
    "상근이가 설탕을 정확하게 N킬로그램 배달해야 할 때, 봉지 몇 개를 가져가면 되는지 그 수를 구하는 프로그램을 작성하시오.\n",
    "\n",
    "### 입력\n",
    "첫째 줄에 N이 주어진다. (3 ≤ N ≤ 5000)\n",
    "\n",
    "### 출력\n",
    "상근이가 배달하는 봉지의 최소 개수를 출력한다. 만약, 정확하게 N킬로그램을 만들 수 없다면 -1을 출력한다."
   ]
  },
  {
   "cell_type": "code",
   "execution_count": 97,
   "id": "f6683b47",
   "metadata": {},
   "outputs": [
    {
     "name": "stdout",
     "output_type": "stream",
     "text": [
      "6\n"
     ]
    }
   ],
   "source": [
    "N = int(input())"
   ]
  },
  {
   "cell_type": "code",
   "execution_count": 88,
   "id": "eda4651f",
   "metadata": {},
   "outputs": [],
   "source": [
    "box = [3,5]"
   ]
  },
  {
   "cell_type": "code",
   "execution_count": 92,
   "id": "b4462cd9",
   "metadata": {},
   "outputs": [
    {
     "data": {
      "text/plain": [
       "1"
      ]
     },
     "execution_count": 92,
     "metadata": {},
     "output_type": "execute_result"
    }
   ],
   "source": [
    "r = N % 5\n",
    "r"
   ]
  },
  {
   "cell_type": "code",
   "execution_count": 95,
   "id": "a8a975ef",
   "metadata": {},
   "outputs": [
    {
     "data": {
      "text/plain": [
       "False"
      ]
     },
     "execution_count": 95,
     "metadata": {},
     "output_type": "execute_result"
    }
   ],
   "source": [
    "r % 3 ==0"
   ]
  },
  {
   "cell_type": "code",
   "execution_count": 134,
   "id": "c18d3290",
   "metadata": {},
   "outputs": [
    {
     "name": "stdout",
     "output_type": "stream",
     "text": [
      "11\n",
      "3\n"
     ]
    }
   ],
   "source": [
    "N = int(input())\n",
    "\n",
    "combin = []\n",
    "\n",
    "for j in range((N//3)+1):\n",
    "    for i in range((N//5)+1):\n",
    "        result = 5 * i + 3 * j\n",
    "        if N == result:\n",
    "            combin.append([i,j])\n",
    "            break\n",
    "    if N == result:\n",
    "        break\n",
    "        \n",
    "        \n",
    "if len(combin) == 0:\n",
    "    print(-1)\n",
    "else:\n",
    "    total = 0\n",
    "    for c in combin[0]:\n",
    "        total+=c\n",
    "\n",
    "    print(total)"
   ]
  },
  {
   "cell_type": "code",
   "execution_count": 129,
   "id": "3d0a8b21",
   "metadata": {},
   "outputs": [],
   "source": [
    "combin = []"
   ]
  },
  {
   "cell_type": "code",
   "execution_count": 130,
   "id": "2c5df09b",
   "metadata": {},
   "outputs": [
    {
     "data": {
      "text/plain": [
       "0"
      ]
     },
     "execution_count": 130,
     "metadata": {},
     "output_type": "execute_result"
    }
   ],
   "source": [
    "len(combin)"
   ]
  },
  {
   "cell_type": "code",
   "execution_count": 122,
   "id": "d6c05500",
   "metadata": {},
   "outputs": [],
   "source": [
    "for i in range((N//5)+1):\n",
    "    result = 5 * i + 3 * 1"
   ]
  },
  {
   "cell_type": "code",
   "execution_count": 123,
   "id": "69be277b",
   "metadata": {},
   "outputs": [
    {
     "data": {
      "text/plain": [
       "18"
      ]
     },
     "execution_count": 123,
     "metadata": {},
     "output_type": "execute_result"
    }
   ],
   "source": [
    "result"
   ]
  },
  {
   "cell_type": "code",
   "execution_count": null,
   "id": "ecf52c66",
   "metadata": {},
   "outputs": [],
   "source": []
  }
 ],
 "metadata": {
  "kernelspec": {
   "display_name": "Python 3 (ipykernel)",
   "language": "python",
   "name": "python3"
  },
  "language_info": {
   "codemirror_mode": {
    "name": "ipython",
    "version": 3
   },
   "file_extension": ".py",
   "mimetype": "text/x-python",
   "name": "python",
   "nbconvert_exporter": "python",
   "pygments_lexer": "ipython3",
   "version": "3.8.11"
  }
 },
 "nbformat": 4,
 "nbformat_minor": 5
}
