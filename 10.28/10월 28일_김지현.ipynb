{
 "cells": [
  {
   "cell_type": "markdown",
   "id": "09b243ba",
   "metadata": {},
   "source": [
    "### 2884번 알람 시계\n",
    "#### https://www.acmicpc.net/problem/2884"
   ]
  },
  {
   "cell_type": "code",
   "execution_count": 7,
   "id": "767ba637",
   "metadata": {},
   "outputs": [
    {
     "name": "stdout",
     "output_type": "stream",
     "text": [
      "10 10\n",
      "9 25\n"
     ]
    }
   ],
   "source": [
    "# 2884번\n",
    "hour, min = map(int,input().split())\n",
    "\n",
    "if min >= 45:\n",
    "    print(hour, min-45)\n",
    "elif hour>0 and min < 45:\n",
    "    print(hour-1, min+15)\n",
    "else:\n",
    "    print(23, min+15)"
   ]
  },
  {
   "cell_type": "markdown",
   "id": "5ca56987",
   "metadata": {},
   "source": [
    "### 9655번 돌 게임\n",
    "#### https://www.acmicpc.net/problem/9655"
   ]
  },
  {
   "cell_type": "code",
   "execution_count": 8,
   "id": "6eea83a2",
   "metadata": {},
   "outputs": [
    {
     "name": "stdout",
     "output_type": "stream",
     "text": [
      "5\n",
      "SK\n"
     ]
    }
   ],
   "source": [
    "# 9655번\n",
    "n = int(input())\n",
    "if n % 2 == 0:\n",
    "    print('CY')\n",
    "else:\n",
    "    print('SK')"
   ]
  },
  {
   "cell_type": "markdown",
   "id": "12b5f07f",
   "metadata": {},
   "source": [
    "### 1309번 동물원\n",
    "#### https://www.acmicpc.net/problem/1309"
   ]
  },
  {
   "cell_type": "code",
   "execution_count": 9,
   "id": "e9548575",
   "metadata": {},
   "outputs": [
    {
     "name": "stdout",
     "output_type": "stream",
     "text": [
      "4\n",
      "41\n"
     ]
    }
   ],
   "source": [
    "# 1309번\n",
    "n = int(input())\n",
    "\n",
    "dp = [0] * (n+1)\n",
    "dp[0] = 1\n",
    "dp[1] = 3\n",
    "\n",
    "for i in range(2,n+1):\n",
    "    dp[i] = (dp[i-2] + dp[i-1]*2)%9901\n",
    "    \n",
    "print(dp[n])"
   ]
  },
  {
   "cell_type": "markdown",
   "id": "a1593d5c",
   "metadata": {},
   "source": [
    "### 2252번 줄세우기\n",
    "#### https://www.acmicpc.net/problem/2252"
   ]
  },
  {
   "cell_type": "code",
   "execution_count": 11,
   "id": "bee237a7",
   "metadata": {},
   "outputs": [
    {
     "name": "stdout",
     "output_type": "stream",
     "text": [
      "3 2\n",
      "1 3\n",
      "2 3\n",
      "1 2 3 "
     ]
    }
   ],
   "source": [
    "# 2252번\n",
    "\n",
    "from collections import deque\n",
    "\n",
    "# 노드의 개수와 간선의 개수를 입력 받기\n",
    "v, e = map(int, input().split())\n",
    "\n",
    "# 모든 노드에 대한 진입차수는 0으로 초기화\n",
    "indegree = [0] * (v + 1)\n",
    "\n",
    "# 각 노드에 연결된 간선 정보를 담기 위한 연결 리스트 초기화\n",
    "graph = [[] for i in range(v + 1)]\n",
    "\n",
    "# 방향 그래프의 모든 간선 정보를 입력 받기\n",
    "for _ in range(e):\n",
    "    a, b = map(int, input().split())\n",
    "    graph[a].append(b) # 정점 A에서 B로 이동 가능\n",
    "    # 진입 차수를 1 증가\n",
    "    indegree[b] += 1\n",
    "\n",
    "# 위상 정렬 함수\n",
    "def topology_sort():\n",
    "    result = [] # 알고리즘 수행 결과를 담을 리스트\n",
    "    q = deque() # 큐 기능을 위한 deque 라이브러리 사용\n",
    "\n",
    "    # 처음 시작할 때는 진입차수가 0인 노드를 큐에 삽입\n",
    "    for i in range(1, v + 1):\n",
    "        if indegree[i] == 0:\n",
    "            q.append(i)\n",
    "\n",
    "    # 큐가 빌 때까지 반복\n",
    "    while q:\n",
    "        # 큐에서 원소 꺼내기\n",
    "        now = q.popleft()\n",
    "        result.append(now)\n",
    "        # 해당 원소와 연결된 노드들의 진입차수에서 1 빼기\n",
    "        for i in graph[now]:\n",
    "            indegree[i] -= 1\n",
    "            # 새롭게 진입차수가 0이 되는 노드를 큐에 삽입\n",
    "            if indegree[i] == 0:\n",
    "                q.append(i)\n",
    "\n",
    "    # 위상 정렬을 수행한 결과 출력\n",
    "    for i in result:\n",
    "        print(i, end=' ')\n",
    "\n",
    "topology_sort()"
   ]
  },
  {
   "cell_type": "markdown",
   "id": "01250048",
   "metadata": {},
   "source": [
    "### 2839번 줄 세우기\n",
    "#### https://www.acmicpc.net/problem/2839"
   ]
  },
  {
   "cell_type": "code",
   "execution_count": 12,
   "id": "d162f4f7",
   "metadata": {},
   "outputs": [
    {
     "name": "stdout",
     "output_type": "stream",
     "text": [
      "18\n",
      "4\n"
     ]
    }
   ],
   "source": [
    "# 2839번\n",
    "sugar = int(input()) \n",
    "count = 0 \n",
    "while True:\n",
    "    if (sugar % 5) == 0: \n",
    "        count = count + (sugar//5) \n",
    "        print(count) \n",
    "        break\n",
    "    sugar -= 3 \n",
    "    count += 1 \n",
    "    if sugar < 0:\n",
    "        print(\"-1\") \n",
    "        break"
   ]
  }
 ],
 "metadata": {
  "kernelspec": {
   "display_name": "Python 3 (ipykernel)",
   "language": "python",
   "name": "python3"
  },
  "language_info": {
   "codemirror_mode": {
    "name": "ipython",
    "version": 3
   },
   "file_extension": ".py",
   "mimetype": "text/x-python",
   "name": "python",
   "nbconvert_exporter": "python",
   "pygments_lexer": "ipython3",
   "version": "3.8.11"
  }
 },
 "nbformat": 4,
 "nbformat_minor": 5
}
