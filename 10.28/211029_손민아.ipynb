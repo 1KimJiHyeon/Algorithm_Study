{
 "cells": [
  {
   "cell_type": "markdown",
   "metadata": {},
   "source": [
    "# 2884 문제 알람시계\n",
    "\n",
    "```\n",
    "상근이는 매일 아침 알람을 듣고 일어난다. 알람을 듣고 바로 일어나면 다행이겠지만, 항상 조금만 더 자려는 마음 때문에 매일 학교를 지각하고 있다.\n",
    "\n",
    "상근이는 모든 방법을 동원해보았지만, 조금만 더 자려는 마음은 그 어떤 것도 없앨 수가 없었다.\n",
    "\n",
    "이런 상근이를 불쌍하게 보던, 창영이는 자신이 사용하는 방법을 추천해 주었다.\n",
    "\n",
    "바로 \"45분 일찍 알람 설정하기\"이다.\n",
    "\n",
    "이 방법은 단순하다. 원래 설정되어 있는 알람을 45분 앞서는 시간으로 바꾸는 것이다. 어차피 알람 소리를 들으면, 알람을 끄고 조금 더 잘 것이기 때문이다. 이 방법을 사용하면, 매일 아침 더 잤다는 기분을 느낄 수 있고, 학교도 지각하지 않게 된다.\n",
    "\n",
    "현재 상근이가 설정한 알람 시각이 주어졌을 때, 창영이의 방법을 사용한다면, 이를 언제로 고쳐야 하는지 구하는 프로그램을 작성하시오.\n",
    "\n",
    "\n",
    "# 입력\n",
    "```\n",
    "첫째 줄에 두 정수 H와 M이 주어진다. (0 ≤ H ≤ 23, 0 ≤ M ≤ 59) 그리고 이것은 현재 상근이가 설정한 놓은 알람 시간 H시 M분을 의미한다.\n",
    "\n",
    "입력 시간은 24시간 표현을 사용한다. 24시간 표현에서 하루의 시작은 0:0(자정)이고, 끝은 23:59(다음날 자정 1분 전)이다. 시간을 나타낼 때, 불필요한 0은 사용하지 않는다.\n",
    "\n",
    "출력\n",
    "첫째 줄에 상근이가 창영이의 방법을 사용할 때, 설정해야 하는 알람 시간을 출력한다. (입력과 같은 형태로 출력하면 된다.)\n",
    "```\n",
    "예제 입력 1 \n",
    "10 10\n",
    "예제 출력 1 \n",
    "9 25\n",
    "예제 입력 2 \n",
    "0 30\n",
    "예제 출력 2 \n",
    "23 45\n",
    "예제 입력 3 \n",
    "23 40\n",
    "예제 출력 3 \n",
    "22 55\n",
    "```"
   ]
  },
  {
   "cell_type": "code",
   "execution_count": 23,
   "metadata": {},
   "outputs": [
    {
     "name": "stdout",
     "output_type": "stream",
     "text": [
      "23 45\n"
     ]
    }
   ],
   "source": [
    "H , M = map(int,input().split())\n",
    "if M >= 45:\n",
    "    print(H, M-45)\n",
    "elif M < 45 and H > 0:\n",
    "    print(H-1,M+15)\n",
    "else:\n",
    "    print(23,M+15)"
   ]
  },
  {
   "cell_type": "code",
   "execution_count": null,
   "metadata": {},
   "outputs": [],
   "source": [
    "N,M = map(int,input().split())\n",
    "\n",
    "result = M - 45\n",
    "if result <0:\n",
    "    N -=1\n",
    "    if N < 0:\n",
    "        N = 23\n",
    "    M = 60 + result\n",
    "else:\n",
    "    N = N\n",
    "    M = result\n",
    "\n",
    "print(N,M)"
   ]
  },
  {
   "cell_type": "markdown",
   "metadata": {},
   "source": [
    "# 9655 문제 돌게임\n",
    "```\n",
    "돌 게임은 두 명이서 즐기는 재밌는 게임이다.\n",
    "\n",
    "탁자 위에 돌 N개가 있다. 상근이와 창영이는 턴을 번갈아가면서 돌을 가져가며, 돌은 1개 또는 3개 가져갈 수 있다. 마지막 돌을 가져가는 사람이 게임을 이기게 된다.\n",
    "\n",
    "두 사람이 완벽하게 게임을 했을 때, 이기는 사람을 구하는 프로그램을 작성하시오. 게임은 상근이가 먼저 시작한다.\n",
    "\n",
    "# 입력\n",
    "``` \n",
    "첫째 줄에 N이 주어진다. (1 ≤ N ≤ 1000)\n",
    "```\n",
    "출력\n",
    "\n",
    "상근이가 게임을 이기면 SK를, 창영이가 게임을 이기면 CY을 출력한다.\n",
    "```\n",
    "예제 입력 1 \n",
    "5\n",
    "예제 출력 1 \n",
    "SK\n",
    "```"
   ]
  },
  {
   "cell_type": "code",
   "execution_count": 26,
   "metadata": {},
   "outputs": [
    {
     "name": "stdout",
     "output_type": "stream",
     "text": [
      "SK\n"
     ]
    }
   ],
   "source": [
    "N = int(input())\n",
    "\n",
    "if N % 2 == 0:\n",
    "    print('CY')\n",
    "else:\n",
    "    print('SK')"
   ]
  },
  {
   "cell_type": "markdown",
   "metadata": {},
   "source": [
    "# 1309번\n",
    "```\n",
    " \n",
    "https://www.acmicpc.net/problem/1309\n",
    "입력 4, 출력 41 % 9901\n",
    "```"
   ]
  },
  {
   "cell_type": "code",
   "execution_count": null,
   "metadata": {},
   "outputs": [],
   "source": [
    "n = int(input())\n",
    "s = [[0] * 3 for i in range(100001)]\n",
    "for i in range(3):\n",
    "    s[1][i] = 1\n",
    "for i in range(2, 100001):\n",
    "    s[i][0] = s[i - 1][1] + s[i - 1][2] % 9901\n",
    "    s[i][1] = s[i - 1][0] + s[i - 1][2] % 9901\n",
    "    s[i][2] = s[i - 1][0] + s[i - 1][1] + s[i - 1][2] % 9901\n",
    "print(sum(s[n]) % 9901)"
   ]
  },
  {
   "cell_type": "markdown",
   "metadata": {},
   "source": [
    "# 2839번\n",
    "```\n",
    "https://www.acmicpc.net/problem/2839\n",
    "설탕배달\n",
    "입력\n",
    "첫째 줄에 N이 주어진다. (3 ≤ N ≤ 5000)\n",
    "\n",
    "출력\n",
    "상근이가 배달하는 봉지의 최소 개수를 출력한다. 만약, 정확하게 N킬로그램을 만들 수 없다면 -1을 출력한다.\n",
    "```"
   ]
  },
  {
   "cell_type": "code",
   "execution_count": null,
   "metadata": {},
   "outputs": [],
   "source": [
    "sugar = int(input())\n",
    "\n",
    "bag = 0\n",
    "while sugar >= 0 :\n",
    "    if sugar % 5 == 0 :  \n",
    "        bag += (sugar // 5)  \n",
    "        print(bag)\n",
    "        break\n",
    "    sugar -= 3  \n",
    "    bag += 1 \n",
    "else :\n",
    "    print(-1)"
   ]
  },
  {
   "cell_type": "markdown",
   "metadata": {},
   "source": [
    "# 2631번\n",
    "```\n",
    "https://www.acmicpc.net/problem/2631\n",
    "줄 세우기\n",
    "입력\n",
    "첫째 줄에는 아이들의 수 N이 주어진다. 둘째 줄부터는 1부터 N까지의 숫자가 한 줄에 하나씩 주어진다. N은 2 이상 200 이하의 정수이다.\n",
    "\n",
    "출력\n",
    "첫째 줄에는 번호 순서대로 줄을 세우는데 옮겨지는 아이들의 최소 수를 출력한다.\n",
    "```"
   ]
  },
  {
   "cell_type": "code",
   "execution_count": null,
   "metadata": {},
   "outputs": [],
   "source": [
    "n = int(input())\n",
    "s = []\n",
    "dp = [0 for i in range(n)]\n",
    "for i in range(n):\n",
    "    s.append(int(input()))\n",
    "dp[0] = 1\n",
    "for i in range(1, n):\n",
    "    a = []\n",
    "    for j in range(i):\n",
    "        if s[i] > s[j]:\n",
    "            a.append(dp[j])\n",
    "    if not a:\n",
    "        dp[i] = 1\n",
    "    else:\n",
    "        dp[i] = max(a) + 1\n",
    "print(n - max(dp))"
   ]
  },
  {
   "cell_type": "code",
   "execution_count": null,
   "metadata": {},
   "outputs": [],
   "source": []
  }
 ],
 "metadata": {
  "interpreter": {
   "hash": "838183ee7b8555b431a91736167a55b3c95bb59a44782dde488817f7776386cb"
  },
  "kernelspec": {
   "display_name": "Python 3.8.8 64-bit ('base': conda)",
   "name": "python3"
  },
  "language_info": {
   "codemirror_mode": {
    "name": "ipython",
    "version": 3
   },
   "file_extension": ".py",
   "mimetype": "text/x-python",
   "name": "python",
   "nbconvert_exporter": "python",
   "pygments_lexer": "ipython3",
   "version": "3.8.8"
  },
  "orig_nbformat": 4
 },
 "nbformat": 4,
 "nbformat_minor": 2
}
