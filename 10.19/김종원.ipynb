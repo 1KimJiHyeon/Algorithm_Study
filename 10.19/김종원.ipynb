{
 "cells": [
  {
   "cell_type": "markdown",
   "id": "75f95364",
   "metadata": {},
   "source": [
    "* **작성자** : 김종원\n",
    "* 작성일지 : 10.19"
   ]
  },
  {
   "cell_type": "markdown",
   "id": "7676f1f4",
   "metadata": {},
   "source": [
    "## DFS와 BFS"
   ]
  },
  {
   "cell_type": "code",
   "execution_count": null,
   "id": "1725233d",
   "metadata": {},
   "outputs": [],
   "source": [
    "from collections import deque\n",
    "node,edge,startNumber = map(int,input().split())\n",
    "\n",
    "\n",
    "graph = {\"0\":0 }\n",
    "for i in range(edge):\n",
    "    a,b = map(int,input().split())\n",
    "    if str(a) not in graph.keys():\n",
    "        graph[str(a)] = [b]\n",
    "    else:\n",
    "        graph[str(a)].append(b)\n",
    "        \n",
    "    if str(b) not in graph.keys():\n",
    "        graph[str(b)] = [a]\n",
    "    else:\n",
    "        graph[str(b)].append(a)\n",
    "\n",
    "\n",
    "def dfs(graph,i,visited):\n",
    "    # 방문 여부 True\n",
    "    visited[i] = True\n",
    "    print(str(i),end=\" \")\n",
    "    for a in sorted(graph[str(i)]):\n",
    "#         print(visited)\n",
    "        if not visited[a]:\n",
    "            dfs(graph,a,visited)\n",
    "            \n",
    "from collections import deque\n",
    "\n",
    "def bfs(graph,start,visited):\n",
    "    queue = deque([start])\n",
    "    visited[start] = True\n",
    "    while queue:\n",
    "        v = queue.popleft()\n",
    "        print(v, end=' ')\n",
    "        for i in sorted(graph[str(v)]):\n",
    "            if not visited[i]:\n",
    "                    queue.append(i)\n",
    "                    visited[i] = True\n",
    "                    \n",
    "visited = [0]*(node + 1)\n",
    "visited1.copy()\n",
    "dfs(graph,startNumber,visited)\n",
    "bfs(graph,startNumber,visited1)"
   ]
  },
  {
   "cell_type": "code",
   "execution_count": null,
   "id": "93ac0423",
   "metadata": {},
   "outputs": [],
   "source": [
    "dfs(graph,3,visited)"
   ]
  },
  {
   "cell_type": "code",
   "execution_count": null,
   "id": "ea6c24e9",
   "metadata": {},
   "outputs": [],
   "source": [
    "i = 1\n",
    "for a in sorted(graph[str(i)]):\n",
    "    print(a)"
   ]
  },
  {
   "cell_type": "code",
   "execution_count": null,
   "id": "272d4a85",
   "metadata": {},
   "outputs": [],
   "source": [
    "visited = [0]*(node + 1)"
   ]
  },
  {
   "cell_type": "code",
   "execution_count": null,
   "id": "7898710c",
   "metadata": {},
   "outputs": [],
   "source": [
    "from collections import deque\n",
    "\n",
    "def bfs(graph,start,visited):\n",
    "    # 큐(Queue) 구현을 위해 deque 라이브러리를 사용\n",
    "    queue = deque([start])\n",
    "    # 현재 노드를 방문 처리한다.\n",
    "    visited[start] = True\n",
    "    while queue:\n",
    "        # 큐에서 하나의 원소를 뽑아 출력하기\n",
    "        v = queue.popleft()\n",
    "        print(v, end=' ')\n",
    "        # 아직 방문하지 않은 인접한 원소들을 큐에 삽입\n",
    "        for i in sorted(graph[str(v)]):\n",
    "            if not visited[i]:\n",
    "                    queue.append(i)\n",
    "                    visited[i] = True"
   ]
  },
  {
   "cell_type": "code",
   "execution_count": null,
   "id": "bf4f3b1e",
   "metadata": {},
   "outputs": [],
   "source": [
    "bfs(graph,3,visited)"
   ]
  },
  {
   "cell_type": "code",
   "execution_count": 3,
   "id": "d42c593f",
   "metadata": {},
   "outputs": [
    {
     "name": "stdout",
     "output_type": "stream",
     "text": [
      "1 1 1\n",
      "1 1\n",
      "1 \n",
      "1 "
     ]
    }
   ],
   "source": [
    "from collections import deque\n",
    "ls = input().split()\n",
    "node = int(ls[0])\n",
    "edge = int(ls[1])\n",
    "startNumber =int(ls[2])\n",
    "\n",
    "graph = {\"0\":0 }\n",
    "for i in range(edge):\n",
    "    a,b = map(int,input().split())\n",
    "    if str(a) not in graph.keys():\n",
    "        graph[str(a)] = [b]\n",
    "    else:\n",
    "        graph[str(a)].append(b)\n",
    "        \n",
    "    if str(b) not in graph.keys():\n",
    "        graph[str(b)] = [a]\n",
    "    else:\n",
    "        graph[str(b)].append(a)\n",
    "\n",
    "\n",
    "def dfs(graph,i,visited):\n",
    "    visited[i] = True\n",
    "    print(str(i),end=\" \")\n",
    "    for a in sorted(graph[str(i)]):\n",
    "#         print(visited)\n",
    "        if not visited[a]:\n",
    "            dfs(graph,a,visited)\n",
    "            \n",
    "\n",
    "def bfs(graph,start,visited):\n",
    "    queue = deque([start])\n",
    "    visited[start] = True\n",
    "    while queue:\n",
    "        v = queue.popleft()\n",
    "        print(v, end=' ')\n",
    "        for i in sorted(graph[str(v)]):\n",
    "            if not visited[i]:\n",
    "                    queue.append(i)\n",
    "                    visited[i] = True\n",
    "                    \n",
    "visited = [0]*(node + 1)\n",
    "visited1 = visited.copy()\n",
    "dfs(graph,startNumber,visited)\n",
    "print()\n",
    "bfs(graph,startNumber,visited1)"
   ]
  },
  {
   "cell_type": "code",
   "execution_count": null,
   "id": "8d16eef1",
   "metadata": {},
   "outputs": [],
   "source": []
  }
 ],
 "metadata": {
  "kernelspec": {
   "display_name": "Python 3 (ipykernel)",
   "language": "python",
   "name": "python3"
  },
  "language_info": {
   "codemirror_mode": {
    "name": "ipython",
    "version": 3
   },
   "file_extension": ".py",
   "mimetype": "text/x-python",
   "name": "python",
   "nbconvert_exporter": "python",
   "pygments_lexer": "ipython3",
   "version": "3.8.11"
  }
 },
 "nbformat": 4,
 "nbformat_minor": 5
}
