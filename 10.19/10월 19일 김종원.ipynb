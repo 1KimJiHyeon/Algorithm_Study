{
 "cells": [
  {
   "cell_type": "markdown",
   "id": "75f95364",
   "metadata": {},
   "source": [
    "* **작성자** : 김종원\n",
    "* 작성일지 : 10.19"
   ]
  },
  {
   "cell_type": "markdown",
   "id": "7676f1f4",
   "metadata": {},
   "source": [
    "## DFS와 BFS 1260번\n",
    "\n",
    "* https://www.acmicpc.net/problem/1260"
   ]
  },
  {
   "cell_type": "code",
   "execution_count": 3,
   "id": "1725233d",
   "metadata": {},
   "outputs": [
    {
     "name": "stdout",
     "output_type": "stream",
     "text": [
      "4 5 1\n",
      "1 2\n",
      "1 3\n",
      "1 4\n",
      "2 4\n",
      "3 4\n",
      "1 2 4 3 \n",
      "1 2 3 4 "
     ]
    }
   ],
   "source": [
    "from collections import deque\n",
    "node,edge,startNumber = map(int,input().split())\n",
    "\n",
    "\n",
    "graph = {\"0\":0 }\n",
    "for i in range(edge):\n",
    "    a,b = map(int,input().split())\n",
    "    if str(a) not in graph.keys():\n",
    "        graph[str(a)] = [b]\n",
    "    else:\n",
    "        graph[str(a)].append(b)\n",
    "        \n",
    "    if str(b) not in graph.keys():\n",
    "        graph[str(b)] = [a]\n",
    "    else:\n",
    "        graph[str(b)].append(a)\n",
    "\n",
    "\n",
    "def dfs(graph,i,visited):\n",
    "    # 방문 여부 True\n",
    "    visited[i] = True\n",
    "    print(str(i),end=\" \")\n",
    "    for a in sorted(graph[str(i)]):\n",
    "#         print(visited)\n",
    "        if not visited[a]:\n",
    "            dfs(graph,a,visited)\n",
    "            \n",
    "from collections import deque\n",
    "\n",
    "def bfs(graph,start,visited):\n",
    "    queue = deque([start])\n",
    "    visited[start] = True\n",
    "    while queue:\n",
    "        v = queue.popleft()\n",
    "        print(v, end=' ')\n",
    "        for i in sorted(graph[str(v)]):\n",
    "            if not visited[i]:\n",
    "                    queue.append(i)\n",
    "                    visited[i] = True\n",
    "                    \n",
    "visited = [0]*(node + 1)\n",
    "visited1 = visited.copy()\n",
    "dfs(graph,startNumber,visited)\n",
    "print()\n",
    "bfs(graph,startNumber,visited1)"
   ]
  },
  {
   "cell_type": "code",
   "execution_count": null,
   "id": "8d16eef1",
   "metadata": {},
   "outputs": [],
   "source": []
  }
 ],
 "metadata": {
  "kernelspec": {
   "display_name": "Python 3 (ipykernel)",
   "language": "python",
   "name": "python3"
  },
  "language_info": {
   "codemirror_mode": {
    "name": "ipython",
    "version": 3
   },
   "file_extension": ".py",
   "mimetype": "text/x-python",
   "name": "python",
   "nbconvert_exporter": "python",
   "pygments_lexer": "ipython3",
   "version": "3.8.11"
  }
 },
 "nbformat": 4,
 "nbformat_minor": 5
}
