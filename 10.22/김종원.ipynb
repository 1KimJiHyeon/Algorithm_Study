{
 "cells": [
  {
   "cell_type": "markdown",
   "id": "a4c7bc69",
   "metadata": {},
   "source": [
    "## 네트워크 연결\n",
    "\n",
    "### 문제\n",
    "도현이는 컴퓨터와 컴퓨터를 모두 연결하는 네트워크를 구축하려 한다. 하지만 아쉽게도 허브가 있지 않아 컴퓨터와 컴퓨터를 직접 연결하여야 한다. 그런데 모두가 자료를 공유하기 위해서는 모든 컴퓨터가 연결이 되어 있어야 한다. (a와 b가 연결이 되어 있다는 말은 a에서 b로의 경로가 존재한다는 것을 의미한다. a에서 b를 연결하는 선이 있고, b와 c를 연결하는 선이 있으면 a와 c는 연결이 되어 있다.)\n",
    "\n",
    "그런데 이왕이면 컴퓨터를 연결하는 비용을 최소로 하여야 컴퓨터를 연결하는 비용 외에 다른 곳에 돈을 더 쓸 수 있을 것이다. 이제 각 컴퓨터를 연결하는데 필요한 비용이 주어졌을 때 모든 컴퓨터를 연결하는데 필요한 최소비용을 출력하라. 모든 컴퓨터를 연결할 수 없는 경우는 없다.\n",
    "\n",
    "### 입력\n",
    "첫째 줄에 컴퓨터의 수 N (1 ≤ N ≤ 1000)가 주어진다.\n",
    "\n",
    "둘째 줄에는 연결할 수 있는 선의 수 M (1 ≤ M ≤ 100,000)가 주어진다.\n",
    "\n",
    "셋째 줄부터 M+2번째 줄까지 총 M개의 줄에 각 컴퓨터를 연결하는데 드는 비용이 주어진다. 이 비용의 정보는 세 개의 정수로 주어지는데, 만약에 a b c 가 주어져 있다고 하면 a컴퓨터와 b컴퓨터를 연결하는데 비용이 c (1 ≤ c ≤ 10,000) 만큼 든다는 것을 의미한다. a와 b는 같을 수도 있다.\n",
    "\n",
    "### 출력\n",
    "모든 컴퓨터를 연결하는데 필요한 최소비용을 첫째 줄에 출력한다."
   ]
  },
  {
   "cell_type": "markdown",
   "id": "53ae4e9e",
   "metadata": {},
   "source": [
    "* 6\n",
    "* 9\n",
    "* 1 2 5\n",
    "* 1 3 4\n",
    "* 2 3 2\n",
    "* 2 4 7\n",
    "* 3 4 6\n",
    "* 3 5 11\n",
    "* 4 5 3\n",
    "* 4 6 8\n",
    "* 5 6 8"
   ]
  },
  {
   "cell_type": "code",
   "execution_count": 2,
   "id": "fa8109f6",
   "metadata": {},
   "outputs": [
    {
     "name": "stdout",
     "output_type": "stream",
     "text": [
      "6\n",
      "9\n"
     ]
    }
   ],
   "source": [
    "node = int(input())\n",
    "edges = int(input())\n",
    "\n",
    "visited = [0] * (node +1)\n",
    "\n",
    "for i in range(1,node+1):\n",
    "    visited[i] = i\n",
    "\n",
    "edge = []\n",
    "\n",
    "for i in range(edges):\n",
    "    a,b,cost = map(int,input().split())\n",
    "    edge.append((cost,a,b))\n",
    "edge.sort()\n",
    "\n",
    "def find_parent(parent, a,b):\n",
    "    a = get_parent(parent,a)\n",
    "    b = get_parent(parent,b)\n",
    "    if a < b:\n",
    "        parent[b] = a\n",
    "    else:\n",
    "        parent[a] = b\n",
    "        \n",
    "def get_parent(parent , x):\n",
    "    if parent[x] != x:\n",
    "        parent[x] = get_parent(parent,parent[x])\n",
    "    return parent[x]\n",
    "\n",
    "result  =0\n",
    "for e in edge:\n",
    "    cost,a ,b = e\n",
    "    if get_parent(visited,a) != get_parent(visited,b):\n",
    "        find_parent(visited,a,b)\n",
    "        result +=cost\n",
    "\n",
    "print(result)"
   ]
  },
  {
   "cell_type": "code",
   "execution_count": 26,
   "id": "8efdd65d",
   "metadata": {},
   "outputs": [
    {
     "data": {
      "text/plain": [
       "[(2, 2, 3),\n",
       " (3, 4, 5),\n",
       " (4, 1, 3),\n",
       " (5, 1, 2),\n",
       " (6, 2, 4),\n",
       " (7, 2, 4),\n",
       " (8, 4, 6),\n",
       " (8, 5, 6),\n",
       " (11, 3, 5)]"
      ]
     },
     "execution_count": 26,
     "metadata": {},
     "output_type": "execute_result"
    }
   ],
   "source": [
    "edge"
   ]
  },
  {
   "cell_type": "markdown",
   "id": "26ce16d4",
   "metadata": {},
   "source": [
    "수 찾기"
   ]
  },
  {
   "cell_type": "code",
   "execution_count": 27,
   "id": "339b8131",
   "metadata": {},
   "outputs": [],
   "source": [
    "class Node:\n",
    "    def __init__(self,node,left_node,right_node):\n",
    "        self.node = node\n",
    "        if left_node == \"None\":\n",
    "            self.left_node = None\n",
    "        if right_node ==\"None\":\n",
    "            self.right_node = None"
   ]
  },
  {
   "cell_type": "code",
   "execution_count": 46,
   "id": "1491d144",
   "metadata": {},
   "outputs": [],
   "source": [
    "tree = {}"
   ]
  },
  {
   "cell_type": "code",
   "execution_count": 29,
   "id": "2cece46f",
   "metadata": {},
   "outputs": [
    {
     "name": "stdout",
     "output_type": "stream",
     "text": [
      "5\n"
     ]
    }
   ],
   "source": [
    "n = int(input())"
   ]
  },
  {
   "cell_type": "code",
   "execution_count": 31,
   "id": "c9e23658",
   "metadata": {},
   "outputs": [
    {
     "name": "stdout",
     "output_type": "stream",
     "text": [
      "4 1 5 2 3\n"
     ]
    }
   ],
   "source": [
    "c = input().split()\n",
    "for k in c:\n",
    "    tree[k] = int(k)"
   ]
  },
  {
   "cell_type": "code",
   "execution_count": 32,
   "id": "936eeb86",
   "metadata": {},
   "outputs": [
    {
     "data": {
      "text/plain": [
       "{'4': 4, '1': 1, '5': 5, '2': 2, '3': 3}"
      ]
     },
     "execution_count": 32,
     "metadata": {},
     "output_type": "execute_result"
    }
   ],
   "source": [
    "tree"
   ]
  },
  {
   "cell_type": "code",
   "execution_count": 38,
   "id": "107b6faf",
   "metadata": {},
   "outputs": [
    {
     "name": "stdout",
     "output_type": "stream",
     "text": [
      "5\n",
      "4 1 5 2 3\n",
      "5\n",
      "1 3 7 9 5\n"
     ]
    }
   ],
   "source": [
    "A = int(input())\n",
    "N = [int(i) for i in input().split()]\n",
    "B = int(input())\n",
    "M = [int(i) for i in input().split()]\n",
    "\n",
    "N.sort()\n",
    "\n",
    "for idx in range(len(M)):\n",
    "    if M[idx] in N:\n",
    "        print(1)\n",
    "    else:\n",
    "        print(0)"
   ]
  },
  {
   "cell_type": "code",
   "execution_count": null,
   "id": "c947e683",
   "metadata": {},
   "outputs": [],
   "source": [
    "A = int(input())\n",
    "N = [int(i) for i in input().split()]\n",
    "B = int(input())\n",
    "M = [int(i) for i in input().split()]\n",
    "\n",
    "# N.sort() # 정렬을 생략하니 시간 복잡도가 줄어든다.\n",
    "\n",
    "for idx in range(len(M)):\n",
    "    if M[idx] in N:\n",
    "        print(1)\n",
    "    else:\n",
    "        print(0)"
   ]
  },
  {
   "cell_type": "code",
   "execution_count": 54,
   "id": "a3f028cf",
   "metadata": {},
   "outputs": [
    {
     "data": {
      "text/plain": [
       "False"
      ]
     },
     "execution_count": 54,
     "metadata": {},
     "output_type": "execute_result"
    }
   ],
   "source": [
    "idx=0\n",
    "if(tree[3].node < M[idx]):\n",
    "    left_searching()"
   ]
  },
  {
   "cell_type": "code",
   "execution_count": 47,
   "id": "ae1a59a0",
   "metadata": {},
   "outputs": [],
   "source": [
    "tree[3] = Node(3,2,4)\n",
    "tree[1] = Node(1,\"None\",\"None\")\n",
    "tree[2] = Node(2,\"None\",\"None\")\n",
    "tree[4] = Node(4,\"None\",\"None\")\n",
    "tree[5] = Node(5,\"None\",\"None\")"
   ]
  },
  {
   "cell_type": "code",
   "execution_count": 49,
   "id": "dc58a9b1",
   "metadata": {},
   "outputs": [
    {
     "data": {
      "text/plain": [
       "{3: <__main__.Node at 0x1f033ee0460>,\n",
       " 1: <__main__.Node at 0x1f033ee0c70>,\n",
       " 2: <__main__.Node at 0x1f033ee0640>,\n",
       " 4: <__main__.Node at 0x1f033ee0790>,\n",
       " 5: <__main__.Node at 0x1f033ee0f10>}"
      ]
     },
     "execution_count": 49,
     "metadata": {},
     "output_type": "execute_result"
    }
   ],
   "source": [
    "tree"
   ]
  },
  {
   "cell_type": "code",
   "execution_count": 51,
   "id": "b426fa43",
   "metadata": {},
   "outputs": [
    {
     "data": {
      "text/plain": [
       "dict_keys([3, 1, 2, 4, 5])"
      ]
     },
     "execution_count": 51,
     "metadata": {},
     "output_type": "execute_result"
    }
   ],
   "source": [
    "tree.keys()"
   ]
  },
  {
   "cell_type": "markdown",
   "id": "003eebbd",
   "metadata": {},
   "source": [
    "## 1, 2, 3, 더하기"
   ]
  },
  {
   "cell_type": "markdown",
   "id": "acda8fbe",
   "metadata": {},
   "source": [
    "n=4 -> 1 2 4  = 7\n",
    "n=5 -> 2 4 7  = 13\n",
    "n=6 -> 4 7 13 = 24\n",
    "n=7 -> 7 13 24  = 44\n",
    "n=8 -> 13 24 44  = 81\n",
    "\n",
    "```\n",
    "a4 = a1 + a2 + a3\n",
    "a5 = a2 + a3 + a4\n",
    "an = a(n-3) + a(n-2) + a(n-1)\n",
    "```"
   ]
  },
  {
   "cell_type": "code",
   "execution_count": 78,
   "id": "fed3d5af",
   "metadata": {},
   "outputs": [
    {
     "name": "stdout",
     "output_type": "stream",
     "text": [
      "3\n",
      "4\n",
      "7\n",
      "10\n"
     ]
    }
   ],
   "source": [
    "a= [0]*12\n",
    "a[1] = 1\n",
    "a[2] = 2\n",
    "a[3] = 4\n",
    "\n",
    "N_list = []\n",
    "T = int(input())\n",
    "\n",
    "for i in range(T):\n",
    "    N = int(input())\n",
    "    N_list.append(N)\n",
    "\n",
    "\n",
    "for n in range(4,max(N_list)+1):\n",
    "    a[n] = a[n-3] + a[n-2] + a[n-1]\n",
    "\n",
    "for n in N_list:\n",
    "    print(a[n])"
   ]
  },
  {
   "cell_type": "markdown",
   "id": "85ddbf70",
   "metadata": {},
   "source": [
    "점화식 찾는게 익숙하지 않아 어려웠다."
   ]
  }
 ],
 "metadata": {
  "kernelspec": {
   "display_name": "Python 3 (ipykernel)",
   "language": "python",
   "name": "python3"
  },
  "language_info": {
   "codemirror_mode": {
    "name": "ipython",
    "version": 3
   },
   "file_extension": ".py",
   "mimetype": "text/x-python",
   "name": "python",
   "nbconvert_exporter": "python",
   "pygments_lexer": "ipython3",
   "version": "3.8.11"
  }
 },
 "nbformat": 4,
 "nbformat_minor": 5
}
