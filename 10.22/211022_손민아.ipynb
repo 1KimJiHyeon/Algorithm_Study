{
 "cells": [
  {
   "cell_type": "markdown",
   "metadata": {},
   "source": [
    "# 9095번 1,2,3 더하기\n",
    "\n",
    "- https://www.acmicpc.net/problem/9095"
   ]
  },
  {
   "cell_type": "code",
   "execution_count": null,
   "metadata": {},
   "outputs": [],
   "source": [
    "t = int(input())\n",
    "ott = [1, 2, 4]\n",
    "for i in range(3, 10):\n",
    "    ott.append(ott[i - 3] + ott[i - 2] + ott[i - 1])\n",
    "for i in range(t):\n",
    "    n = int(input())\n",
    "    print(ott[n - 1])"
   ]
  },
  {
   "cell_type": "code",
   "execution_count": null,
   "metadata": {},
   "outputs": [],
   "source": []
  }
 ],
 "metadata": {
  "interpreter": {
   "hash": "838183ee7b8555b431a91736167a55b3c95bb59a44782dde488817f7776386cb"
  },
  "kernelspec": {
   "display_name": "Python 3.8.8 64-bit ('base': conda)",
   "name": "python3"
  },
  "language_info": {
   "name": "python",
   "version": "3.8.8"
  },
  "orig_nbformat": 4
 },
 "nbformat": 4,
 "nbformat_minor": 2
}
