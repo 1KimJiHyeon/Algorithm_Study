{
 "cells": [
  {
   "cell_type": "markdown",
   "id": "a4c7bc69",
   "metadata": {},
   "source": [
    "## 네트워크 연결 1922번\n",
    "\n",
    "* https://www.acmicpc.net/problem/1922\n"
   ]
  },
  {
   "cell_type": "markdown",
   "id": "53ae4e9e",
   "metadata": {},
   "source": [
    "* 6\n",
    "* 9\n",
    "* 1 2 5\n",
    "* 1 3 4\n",
    "* 2 3 2\n",
    "* 2 4 7\n",
    "* 3 4 6\n",
    "* 3 5 11\n",
    "* 4 5 3\n",
    "* 4 6 8\n",
    "* 5 6 8"
   ]
  },
  {
   "cell_type": "code",
   "execution_count": 2,
   "id": "fa8109f6",
   "metadata": {},
   "outputs": [
    {
     "name": "stdout",
     "output_type": "stream",
     "text": [
      "6\n",
      "9\n",
      "1 2 5\n",
      "1 3 4\n",
      "2 3 2\n",
      "2 4 7\n",
      "3 4 6\n",
      "3 5 11\n",
      "4 5 3\n",
      "4 6 8\n",
      "5 6 8\n",
      "23\n"
     ]
    }
   ],
   "source": [
    "node = int(input())\n",
    "edges = int(input())\n",
    "\n",
    "visited = [0] * (node +1)\n",
    "\n",
    "for i in range(1,node+1):\n",
    "    visited[i] = i\n",
    "\n",
    "edge = []\n",
    "\n",
    "for i in range(edges):\n",
    "    a,b,cost = map(int,input().split())\n",
    "    edge.append((cost,a,b))\n",
    "edge.sort()\n",
    "\n",
    "def find_parent(parent, a,b):\n",
    "    a = get_parent(parent,a)\n",
    "    b = get_parent(parent,b)\n",
    "    if a < b:\n",
    "        parent[b] = a\n",
    "    else:\n",
    "        parent[a] = b\n",
    "        \n",
    "def get_parent(parent , x):\n",
    "    if parent[x] != x:\n",
    "        parent[x] = get_parent(parent,parent[x])\n",
    "    return parent[x]\n",
    "\n",
    "result  =0\n",
    "for e in edge:\n",
    "    cost,a ,b = e\n",
    "    if get_parent(visited,a) != get_parent(visited,b):\n",
    "        find_parent(visited,a,b)\n",
    "        result +=cost\n",
    "\n",
    "print(result)"
   ]
  },
  {
   "cell_type": "markdown",
   "id": "003eebbd",
   "metadata": {},
   "source": [
    "## 1, 2, 3, 더하기 9095번\n",
    "\n",
    "* https://www.acmicpc.net/problem/9095"
   ]
  },
  {
   "cell_type": "markdown",
   "id": "acda8fbe",
   "metadata": {},
   "source": [
    "n=4 -> 1 2 4  = 7\n",
    "n=5 -> 2 4 7  = 13\n",
    "n=6 -> 4 7 13 = 24\n",
    "n=7 -> 7 13 24  = 44\n",
    "n=8 -> 13 24 44  = 81\n",
    "\n",
    "```\n",
    "a4 = a1 + a2 + a3\n",
    "a5 = a2 + a3 + a4\n",
    "an = a(n-3) + a(n-2) + a(n-1)\n",
    "```"
   ]
  },
  {
   "cell_type": "code",
   "execution_count": 1,
   "id": "fed3d5af",
   "metadata": {},
   "outputs": [
    {
     "name": "stdout",
     "output_type": "stream",
     "text": [
      "3\n",
      "4\n",
      "7\n",
      "10\n",
      "7\n",
      "44\n",
      "274\n"
     ]
    }
   ],
   "source": [
    "a= [0]*12\n",
    "a[1] = 1\n",
    "a[2] = 2\n",
    "a[3] = 4\n",
    "\n",
    "N_list = []\n",
    "T = int(input())\n",
    "\n",
    "for i in range(T):\n",
    "    N = int(input())\n",
    "    N_list.append(N)\n",
    "\n",
    "\n",
    "for n in range(4,max(N_list)+1):\n",
    "    a[n] = a[n-3] + a[n-2] + a[n-1]\n",
    "\n",
    "for n in N_list:\n",
    "    print(a[n])"
   ]
  },
  {
   "cell_type": "markdown",
   "id": "85ddbf70",
   "metadata": {},
   "source": [
    "점화식 찾는게 익숙하지 않아 어려웠다."
   ]
  }
 ],
 "metadata": {
  "kernelspec": {
   "display_name": "Python 3 (ipykernel)",
   "language": "python",
   "name": "python3"
  },
  "language_info": {
   "codemirror_mode": {
    "name": "ipython",
    "version": 3
   },
   "file_extension": ".py",
   "mimetype": "text/x-python",
   "name": "python",
   "nbconvert_exporter": "python",
   "pygments_lexer": "ipython3",
   "version": "3.8.11"
  }
 },
 "nbformat": 4,
 "nbformat_minor": 5
}
