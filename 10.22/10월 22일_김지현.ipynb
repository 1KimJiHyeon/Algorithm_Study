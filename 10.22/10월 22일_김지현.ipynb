{
 "cells": [
  {
   "cell_type": "markdown",
   "id": "b8b275e2",
   "metadata": {},
   "source": [
    "### 1922번 네트워크 연결\n",
    "#### https://www.acmicpc.net/problem/1922"
   ]
  },
  {
   "cell_type": "code",
   "execution_count": 6,
   "id": "be100b31",
   "metadata": {},
   "outputs": [
    {
     "data": {
      "text/plain": [
       "[['d', 'e', 'f'], ['h', 'i', 'j'], ['z', 'k', 'l']]"
      ]
     },
     "execution_count": 6,
     "metadata": {},
     "output_type": "execute_result"
    }
   ],
   "source": [
    "# 1922번\n",
    "n = int(input())\n",
    "m = int(input())\n",
    "root = [i for i in range (n+1)]\n",
    "\n",
    "com_list = []\n",
    "\n",
    "for _ in range (m):\n",
    "    c1, c2, e = map(int, input().split())\n",
    "    com_list = [[c1, c2, e]]\n",
    "    \n",
    "def findRoot(x):\n",
    "    if root[x] != x:\n",
    "        root[x] = findRoot(root[x])\n",
    "    return root[x]\n",
    "\n",
    "\n",
    "com_list.sort(e)"
   ]
  },
  {
   "cell_type": "markdown",
   "id": "e64fe3d5",
   "metadata": {},
   "source": [
    "### 9095번 1,2,3 더하기\n",
    "#### https://www.acmicpc.net/problem/9095"
   ]
  },
  {
   "cell_type": "code",
   "execution_count": 2,
   "id": "951e7af3",
   "metadata": {},
   "outputs": [
    {
     "name": "stdout",
     "output_type": "stream",
     "text": [
      "3\n",
      "4\n",
      "4\n",
      "7\n",
      "8\n",
      "10\n",
      "12\n"
     ]
    }
   ],
   "source": [
    "# 9095번\n",
    "# 순서에 상관이 없을때\n",
    "\n",
    "t = int(input())\n",
    "\n",
    "for i in range (t):\n",
    "    n = int(input())\n",
    "    sum_cnt = 0\n",
    "    if n%3 == 2:\n",
    "        n_n = (n//3)\n",
    "        sum_cnt+=n_n*3\n",
    "        n_n//=2\n",
    "        sum_cnt += n_n*2\n",
    "    elif n%3 == 1:\n",
    "        n_n = (n//3)\n",
    "        sum_cnt+=n_n*3\n",
    "        sum_cnt += n_n*1\n",
    "    elif n%3 == 0:\n",
    "        n_n = (n//3)\n",
    "        sum_cnt+=n_n*3\n",
    "    print(sum_cnt)"
   ]
  },
  {
   "cell_type": "code",
   "execution_count": 2,
   "id": "252634b6",
   "metadata": {},
   "outputs": [
    {
     "name": "stdout",
     "output_type": "stream",
     "text": [
      "3\n",
      "4\n",
      "7\n",
      "7\n",
      "44\n",
      "10\n",
      "274\n"
     ]
    }
   ],
   "source": [
    "# 9095번\n",
    "# 순서 상관이 있을때\n",
    "\n",
    "t = int(input())\n",
    "\n",
    "def numsolve(n):\n",
    "    if n==1:\n",
    "        return 1\n",
    "    elif n==2:\n",
    "        return 2\n",
    "    elif n==3:\n",
    "        return 4\n",
    "    else:\n",
    "        return numsolve(n-1) + numsolve(n-2) + numsolve(n-3)\n",
    "    \n",
    "for i in range (t):\n",
    "    n = int(input())\n",
    "    print(numsolve(n))"
   ]
  }
 ],
 "metadata": {
  "kernelspec": {
   "display_name": "Python 3 (ipykernel)",
   "language": "python",
   "name": "python3"
  },
  "language_info": {
   "codemirror_mode": {
    "name": "ipython",
    "version": 3
   },
   "file_extension": ".py",
   "mimetype": "text/x-python",
   "name": "python",
   "nbconvert_exporter": "python",
   "pygments_lexer": "ipython3",
   "version": "3.8.11"
  }
 },
 "nbformat": 4,
 "nbformat_minor": 5
}
