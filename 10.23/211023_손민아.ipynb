{
 "cells": [
  {
   "cell_type": "markdown",
   "metadata": {},
   "source": [
    "# 1920번 수 찾기\n",
    "- https://www.acmicpc.net/problem/1920\n"
   ]
  },
  {
   "cell_type": "markdown",
   "metadata": {},
   "source": [
    "```\n",
    "예제 입력 1 \n",
    "5\n",
    "4 1 5 2 3\n",
    "5\n",
    "1 3 7 9 5\n",
    "예제 출력 1 \n",
    "1\n",
    "1\n",
    "0\n",
    "0\n",
    "1\n",
    "```"
   ]
  },
  {
   "cell_type": "code",
   "execution_count": 7,
   "metadata": {},
   "outputs": [
    {
     "name": "stdout",
     "output_type": "stream",
     "text": [
      "1\n",
      "1\n",
      "0\n",
      "0\n",
      "1\n"
     ]
    }
   ],
   "source": [
    "# 시간초과ㅜㅜ\n",
    "# N개의 정수로 이루어진 A 집합\n",
    "# M개의 정수로 이루어진 B 집합 \n",
    "# B집합에 있는 수가 A에 있는지 확인해보기-> 있으면 1, 없으면 0 \n",
    "N = int(input())\n",
    "n = list(map(int,input().split()))\n",
    "\n",
    "M = int(input())\n",
    "m = list(map(int, input().split()))\n",
    "\n",
    "for M in m:\n",
    "    if M in n:\n",
    "        print(1)\n",
    "    else:\n",
    "        print(0)"
   ]
  },
  {
   "cell_type": "code",
   "execution_count": 4,
   "metadata": {},
   "outputs": [],
   "source": [
    "# 자료형 \n",
    "from sys import stdin,stdout\n",
    "\n",
    "n = stdin.readline()\n",
    "N = set(stdin.readline().split())\n",
    "m = stdin.readline()\n",
    "M = stdin.readline().split()\n",
    "\n",
    "for l in M:\n",
    "    stdout.write('1\\n') if l in N else stdout.write('0\\n')\n",
    "    "
   ]
  },
  {
   "cell_type": "code",
   "execution_count": null,
   "metadata": {},
   "outputs": [],
   "source": []
  }
 ],
 "metadata": {
  "interpreter": {
   "hash": "838183ee7b8555b431a91736167a55b3c95bb59a44782dde488817f7776386cb"
  },
  "kernelspec": {
   "display_name": "Python 3.8.8 64-bit ('base': conda)",
   "name": "python3"
  },
  "language_info": {
   "codemirror_mode": {
    "name": "ipython",
    "version": 3
   },
   "file_extension": ".py",
   "mimetype": "text/x-python",
   "name": "python",
   "nbconvert_exporter": "python",
   "pygments_lexer": "ipython3",
   "version": "3.8.8"
  },
  "orig_nbformat": 4
 },
 "nbformat": 4,
 "nbformat_minor": 2
}
