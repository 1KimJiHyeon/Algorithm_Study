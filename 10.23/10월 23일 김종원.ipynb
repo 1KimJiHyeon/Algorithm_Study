{
 "cells": [
  {
   "cell_type": "markdown",
   "id": "003eebbd",
   "metadata": {},
   "source": [
    "## 1, 2, 3, 더하기 복습"
   ]
  },
  {
   "cell_type": "markdown",
   "id": "acda8fbe",
   "metadata": {},
   "source": [
    "n=4 -> 1 2 4  = 7\n",
    "n=5 -> 2 4 7  = 13\n",
    "n=6 -> 4 7 13 = 24\n",
    "n=7 -> 7 13 24  = 44\n",
    "n=8 -> 13 24 44  = 81\n",
    "\n",
    "```\n",
    "a4 = a1 + a2 + a3\n",
    "a5 = a2 + a3 + a4\n",
    "an = a(n-3) + a(n-2) + a(n-1)\n",
    "```"
   ]
  },
  {
   "cell_type": "code",
   "execution_count": 78,
   "id": "fed3d5af",
   "metadata": {},
   "outputs": [
    {
     "name": "stdout",
     "output_type": "stream",
     "text": [
      "3\n",
      "4\n",
      "7\n",
      "10\n"
     ]
    }
   ],
   "source": [
    "a= [0]*12\n",
    "a[1] = 1\n",
    "a[2] = 2\n",
    "a[3] = 4\n",
    "\n",
    "N_list = []\n",
    "T = int(input())\n",
    "\n",
    "for i in range(T):\n",
    "    N = int(input())\n",
    "    N_list.append(N)\n",
    "\n",
    "\n",
    "for n in range(4,max(N_list)+1):\n",
    "    a[n] = a[n-3] + a[n-2] + a[n-1]\n",
    "\n",
    "for n in N_list:\n",
    "    print(a[n])"
   ]
  },
  {
   "cell_type": "markdown",
   "id": "85ddbf70",
   "metadata": {},
   "source": [
    "점화식 찾는게 익숙하지 않아 어려웠다."
   ]
  },
  {
   "cell_type": "markdown",
   "id": "889ab21f",
   "metadata": {},
   "source": [
    "## 거의 소수 1456번\n",
    "\n",
    "* https://www.acmicpc.net/problem/1456"
   ]
  },
  {
   "cell_type": "code",
   "execution_count": 114,
   "id": "3fe1ecb1",
   "metadata": {},
   "outputs": [
    {
     "name": "stdout",
     "output_type": "stream",
     "text": [
      "1 10\n"
     ]
    }
   ],
   "source": [
    "A,B = map(int,input().split())"
   ]
  },
  {
   "cell_type": "code",
   "execution_count": 115,
   "id": "3ce64f5d",
   "metadata": {},
   "outputs": [],
   "source": [
    "import math"
   ]
  },
  {
   "cell_type": "code",
   "execution_count": 123,
   "id": "adcfcb90",
   "metadata": {},
   "outputs": [],
   "source": [
    "a_list = [True for i in range(B+1)]"
   ]
  },
  {
   "cell_type": "code",
   "execution_count": 128,
   "id": "e8e73f0b",
   "metadata": {},
   "outputs": [
    {
     "name": "stdout",
     "output_type": "stream",
     "text": [
      "4 9 \n",
      "2\n"
     ]
    }
   ],
   "source": [
    "for i in range(2,int(math.sqrt(B))+1):\n",
    "    if i == 1:\n",
    "        continue\n",
    "    if a_list[i] == True:\n",
    "        j = 2\n",
    "        while i * j <=B:\n",
    "            a_list[i*j] = False\n",
    "            j+=1\n",
    "    \n",
    "c = 0\n",
    "for i in range(A, B+1):\n",
    "    if i == 1:\n",
    "        continue\n",
    "    if a_list[i]:\n",
    "        if i**2 <=B:\n",
    "            c +=1\n",
    "            print(i**2,end=\" \")\n",
    "print()\n",
    "print(c)"
   ]
  },
  {
   "cell_type": "code",
   "execution_count": null,
   "id": "5392179e",
   "metadata": {},
   "outputs": [],
   "source": []
  }
 ],
 "metadata": {
  "kernelspec": {
   "display_name": "Python 3 (ipykernel)",
   "language": "python",
   "name": "python3"
  },
  "language_info": {
   "codemirror_mode": {
    "name": "ipython",
    "version": 3
   },
   "file_extension": ".py",
   "mimetype": "text/x-python",
   "name": "python",
   "nbconvert_exporter": "python",
   "pygments_lexer": "ipython3",
   "version": "3.8.11"
  }
 },
 "nbformat": 4,
 "nbformat_minor": 5
}
