{
 "cells": [
  {
   "cell_type": "markdown",
   "id": "49b882b6",
   "metadata": {},
   "source": [
    "### 1456번 거의 소수\n",
    "#### https://www.acmicpc.net/problem/1456"
   ]
  },
  {
   "cell_type": "code",
   "execution_count": 1,
   "id": "fbef34cd",
   "metadata": {},
   "outputs": [],
   "source": [
    "# 1456번"
   ]
  },
  {
   "cell_type": "markdown",
   "id": "2f8777e0",
   "metadata": {},
   "source": [
    "### 1920번 수 찾기\n",
    "#### https://www.acmicpc.net/problem/1920"
   ]
  },
  {
   "cell_type": "code",
   "execution_count": 1,
   "id": "50b3ec4b",
   "metadata": {},
   "outputs": [
    {
     "name": "stdout",
     "output_type": "stream",
     "text": [
      "5\n",
      "4 1 5 2 3\n",
      "5\n",
      "1 3 7 9 5\n",
      "1\n",
      "1\n",
      "0\n",
      "0\n",
      "1\n"
     ]
    }
   ],
   "source": [
    "# 1920\n",
    "\n",
    "n = int(input())\n",
    "n_list = list(map(int, input().split()))\n",
    "\n",
    "m = int(input())\n",
    "m_list = list(map(int, input().split()))\n",
    "\n",
    "for m in m_list:\n",
    "    if m in n_list:\n",
    "        print(1)\n",
    "    else:\n",
    "        print(0)"
   ]
  }
 ],
 "metadata": {
  "kernelspec": {
   "display_name": "Python 3 (ipykernel)",
   "language": "python",
   "name": "python3"
  },
  "language_info": {
   "codemirror_mode": {
    "name": "ipython",
    "version": 3
   },
   "file_extension": ".py",
   "mimetype": "text/x-python",
   "name": "python",
   "nbconvert_exporter": "python",
   "pygments_lexer": "ipython3",
   "version": "3.8.11"
  }
 },
 "nbformat": 4,
 "nbformat_minor": 5
}
