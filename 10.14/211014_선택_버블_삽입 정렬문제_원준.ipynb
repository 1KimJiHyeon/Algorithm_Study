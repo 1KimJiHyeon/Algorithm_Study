{
 "cells": [
  {
   "cell_type": "markdown",
   "id": "163b2140",
   "metadata": {},
   "source": [
    "# 1. 선택정렬로 풀어보기\n",
    "- https://www.acmicpc.net/submit/11656"
   ]
  },
  {
   "cell_type": "markdown",
   "id": "89de7d37",
   "metadata": {},
   "source": [
    "## 과정"
   ]
  },
  {
   "cell_type": "code",
   "execution_count": 2,
   "id": "58ab22a7",
   "metadata": {},
   "outputs": [
    {
     "data": {
      "text/plain": [
       "['baekjoon', 'aekjoon', 'ekjoon', 'kjoon', 'joon', 'oon', 'on', 'n']"
      ]
     },
     "execution_count": 2,
     "metadata": {},
     "output_type": "execute_result"
    }
   ],
   "source": [
    "# 접미사 뽑아내기\n",
    "# string = input()\n",
    "string = 'baekjoon'\n",
    "\n",
    "str_ls = [string[i:] for i in range(len(string))]\n",
    "str_ls"
   ]
  },
  {
   "cell_type": "code",
   "execution_count": 3,
   "id": "d1fd130e",
   "metadata": {},
   "outputs": [
    {
     "name": "stdout",
     "output_type": "stream",
     "text": [
      "aekjoon\n",
      "baekjoon\n",
      "ekjoon\n",
      "joon\n",
      "kjoon\n",
      "n\n",
      "on\n",
      "oon\n"
     ]
    }
   ],
   "source": [
    "# 선택정렬\n",
    "\n",
    "for i in range(len(str_ls)):\n",
    "    min_char = 'zzzzzzzzz'\n",
    "    for j in range(i, len(str_ls)):\n",
    "        if str_ls[j] < min_char:\n",
    "            min_char = str_ls[j]\n",
    "            idx = j\n",
    "    str_ls[idx] = str_ls[i]\n",
    "    str_ls[i] = min_char\n",
    "\n",
    "for i in str_ls:\n",
    "    print(i)"
   ]
  },
  {
   "cell_type": "code",
   "execution_count": null,
   "id": "3201a278",
   "metadata": {},
   "outputs": [],
   "source": [
    "# 제출용\n",
    "# 접미사 뽑아내기\n",
    "string = input()\n",
    "\n",
    "\n",
    "str_ls = [string[i:] for i in range(len(string))]\n",
    "\n",
    "for i in range(len(str_ls)):\n",
    "    min_char = 'zzzzzzzzz'\n",
    "    for j in range(i, len(str_ls)):\n",
    "        if str_ls[j] < min_char:\n",
    "            min_char = str_ls[j]\n",
    "            idx = j\n",
    "    str_ls[idx] = str_ls[i]\n",
    "    str_ls[i] = min_char\n",
    "\n",
    "for i in str_ls:\n",
    "    print(i)"
   ]
  },
  {
   "cell_type": "code",
   "execution_count": null,
   "id": "1927f058",
   "metadata": {},
   "outputs": [],
   "source": []
  },
  {
   "cell_type": "markdown",
   "id": "43218e69",
   "metadata": {},
   "source": [
    "# 2. 버블정렬로 풀어보기(1) - 중복빼고 정렬하기\n",
    "- https://www.acmicpc.net/problem/10867"
   ]
  },
  {
   "cell_type": "code",
   "execution_count": 4,
   "id": "f362242b",
   "metadata": {},
   "outputs": [],
   "source": [
    "# input\n",
    "# num = int(input())\n",
    "# ls = list(map(int, input().split()))\n",
    "num = 10\n",
    "ls = [1, 4, 2, 3, 1, 4, 2, 3, 1, 2]"
   ]
  },
  {
   "cell_type": "code",
   "execution_count": 5,
   "id": "c895c4d1",
   "metadata": {},
   "outputs": [
    {
     "data": {
      "text/plain": [
       "[1, 1, 1, 2, 2, 2, 3, 3, 4, 4]"
      ]
     },
     "execution_count": 5,
     "metadata": {},
     "output_type": "execute_result"
    }
   ],
   "source": [
    "# 버블 정렬 - 중복제거 없이\n",
    "for i in range(len(ls)):\n",
    "    for j in range(len(ls)-1-i):\n",
    "        if ls[j] > ls[j+1]:\n",
    "            ls[j], ls[j+1] = ls[j+1], ls[j]\n",
    "ls"
   ]
  },
  {
   "cell_type": "code",
   "execution_count": 8,
   "id": "cc0b1921",
   "metadata": {},
   "outputs": [
    {
     "data": {
      "text/plain": [
       "[1, 2, 3, 4]"
      ]
     },
     "execution_count": 8,
     "metadata": {},
     "output_type": "execute_result"
    }
   ],
   "source": [
    "# 버블 정렬 - set으로 간단하게..\n",
    "set_ls = list(set(ls))\n",
    "for i in range(len(set_ls)):\n",
    "    for j in range(len(set_ls)-1-i):\n",
    "        if set_ls[j] > set_ls[j+1]:\n",
    "            set_ls[j], set_ls[j+1] = set_ls[j+1], set_ls[j]\n",
    "set_ls"
   ]
  },
  {
   "cell_type": "code",
   "execution_count": 9,
   "id": "aeaa1ba6",
   "metadata": {},
   "outputs": [
    {
     "name": "stdout",
     "output_type": "stream",
     "text": [
      "10\n",
      "1 4 2 3 1 4 2 3 1 2\n",
      "1 2 3 4 "
     ]
    }
   ],
   "source": [
    "# 제출\n",
    "num = int(input())\n",
    "ls = list(map(int, input().split()))\n",
    "\n",
    "set_ls = list(set(ls))\n",
    "for i in range(len(set_ls)):\n",
    "    for j in range(len(set_ls)-1-i):\n",
    "        if set_ls[j] > set_ls[j+1]:\n",
    "            set_ls[j], set_ls[j+1] = set_ls[j+1], set_ls[j]\n",
    "for i in set_ls:\n",
    "    print(i, end=' ')"
   ]
  },
  {
   "cell_type": "markdown",
   "id": "2b04f5d8",
   "metadata": {},
   "source": [
    "# 3. 버블정렬로 풀어보기(2) - 버블소트\n",
    "- https://www.acmicpc.net/problem/1517"
   ]
  },
  {
   "cell_type": "code",
   "execution_count": null,
   "id": "4ec70643",
   "metadata": {},
   "outputs": [],
   "source": [
    "num = int(input())\n",
    "ls = list(map(int, input().split()))\n",
    "\n",
    "count = 0\n",
    "for i in range(len(ls)):\n",
    "    for j in range(len(ls)-1-i):\n",
    "        if ls[j] > ls[j+1]:\n",
    "            ls[j], ls[j+1] = ls[j+1], ls[j]\n",
    "            count += 1\n",
    "print(count)"
   ]
  },
  {
   "cell_type": "markdown",
   "id": "7d918ba7",
   "metadata": {},
   "source": [
    "#### -> 위 코드는 시간초과...."
   ]
  },
  {
   "cell_type": "code",
   "execution_count": null,
   "id": "adf1afaf",
   "metadata": {},
   "outputs": [],
   "source": []
  },
  {
   "cell_type": "markdown",
   "id": "8c4e382d",
   "metadata": {},
   "source": [
    "# 4. 삽입정렬로 풀어보기 - 버블소트\n",
    "- https://www.acmicpc.net/problem/14739"
   ]
  },
  {
   "cell_type": "markdown",
   "id": "5f3e5626",
   "metadata": {},
   "source": [
    "문제 이해가 안감.. 설명이랑 예시입출력이랑 다른거 같은...?"
   ]
  },
  {
   "cell_type": "code",
   "execution_count": null,
   "id": "f4546c8a",
   "metadata": {},
   "outputs": [],
   "source": []
  },
  {
   "cell_type": "markdown",
   "id": "1b4075f6",
   "metadata": {},
   "source": [
    "# 5. 삽입정렬(2) - 나이순 정렬\n",
    "- https://www.acmicpc.net/problem/10814"
   ]
  },
  {
   "cell_type": "code",
   "execution_count": null,
   "id": "f6afb4f8",
   "metadata": {},
   "outputs": [],
   "source": [
    "# 예시입력 \n",
    "# 3\n",
    "# 21 Junkyu\n",
    "# 21 Dohyun\n",
    "# 20 Sunyoung\n",
    "\n",
    "# 예시출력\n",
    "# 20 Sunyoung\n",
    "# 21 Junkyu\n",
    "# 21 Dohyun"
   ]
  },
  {
   "cell_type": "code",
   "execution_count": 24,
   "id": "dd60afa5",
   "metadata": {},
   "outputs": [
    {
     "data": {
      "text/plain": [
       "[[20, 'Sungyoung'], [21, 'Junkyu'], [21, 'Dohyun']]"
      ]
     },
     "execution_count": 24,
     "metadata": {},
     "output_type": "execute_result"
    }
   ],
   "source": [
    "num = 3\n",
    "ls = [[21,'Junkyu'],[21,'Dohyun'],[20,'Sungyoung']]\n",
    "\n",
    "# 나이로 정렬-삽입정렬로\n",
    "for i in range(len(ls)-1):\n",
    "    j = i\n",
    "    while ls[j][0] > ls[j+1][0]:\n",
    "        ls[j], ls[j+1] = ls[j+1], ls[j]\n",
    "        j -= 1\n",
    "        if j < 0:\n",
    "            break\n",
    "ls"
   ]
  },
  {
   "cell_type": "code",
   "execution_count": 25,
   "id": "2c2cc2a6",
   "metadata": {},
   "outputs": [
    {
     "data": {
      "text/plain": [
       "[[20, 'Sungyoung'], [21, 'Dohyun'], [21, 'Junkyu']]"
      ]
     },
     "execution_count": 25,
     "metadata": {},
     "output_type": "execute_result"
    }
   ],
   "source": [
    "# 문제를 잘못 읽어서 이름도 가나다 순인줄...\n",
    "num = 3\n",
    "ls = [[21,'Junkyu'],[21,'Dohyun'],[20,'Sungyoung']]\n",
    "\n",
    "# 이름 정렬 추가\n",
    "for i in range(len(ls)-1):\n",
    "    j = i\n",
    "    while ls[j][0] >= ls[j+1][0]:\n",
    "        if ls[j][0] == ls[j+1][0]:\n",
    "            if ls[j][1] > ls[j+1][1]: # 나이가 같으면 이름을 비교해서 바꾼다\n",
    "                ls[j], ls[j+1] = ls[j+1], ls[j]\n",
    "        else: # 나이가 다르면 그냥 바꾼다\n",
    "            ls[j], ls[j+1] = ls[j+1], ls[j]\n",
    "        j -= 1\n",
    "        if j < 0:\n",
    "            break\n",
    "ls"
   ]
  },
  {
   "cell_type": "code",
   "execution_count": 28,
   "id": "70e3d7c1",
   "metadata": {},
   "outputs": [
    {
     "name": "stdout",
     "output_type": "stream",
     "text": [
      "3\n",
      "21 J\n",
      "21 D\n",
      "20 S\n",
      "20 S\n",
      "21 J\n",
      "21 D\n"
     ]
    }
   ],
   "source": [
    "# 먼저 가입한 순서대로 한다고 한다 - 그냥 나이 같으면 안바꾸면 되지 않나..(앞에서 푼걸 그냥쓰면 될듯)\n",
    "n = int(input())\n",
    "ls = []\n",
    "for i in range(n):\n",
    "    ls.append(list(input().split()))\n",
    "    \n",
    "# 나이로 정렬-삽입정렬로\n",
    "for i in range(len(ls)-1):\n",
    "    j = i\n",
    "    while ls[j][0] > ls[j+1][0]:\n",
    "        ls[j], ls[j+1] = ls[j+1], ls[j]\n",
    "        j -= 1\n",
    "        if j < 0:\n",
    "            break\n",
    "for i,j in ls:\n",
    "    print(i, j)"
   ]
  },
  {
   "cell_type": "markdown",
   "id": "6b21c317",
   "metadata": {},
   "source": [
    "---> 시간초과..."
   ]
  },
  {
   "cell_type": "code",
   "execution_count": null,
   "id": "2f85e2b7",
   "metadata": {},
   "outputs": [],
   "source": []
  }
 ],
 "metadata": {
  "kernelspec": {
   "display_name": "Python 3.8.11 64-bit ('ds_study': conda)",
   "language": "python",
   "name": "python3811jvsc74a57bd0a10808f447772974824511a6b5cb5e14477e09133452cf9a8171d160635b28f4"
  },
  "language_info": {
   "codemirror_mode": {
    "name": "ipython",
    "version": 3
   },
   "file_extension": ".py",
   "mimetype": "text/x-python",
   "name": "python",
   "nbconvert_exporter": "python",
   "pygments_lexer": "ipython3",
   "version": "3.8.11"
  }
 },
 "nbformat": 4,
 "nbformat_minor": 5
}
