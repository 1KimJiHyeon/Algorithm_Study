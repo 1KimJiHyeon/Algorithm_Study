{
 "cells": [
  {
   "cell_type": "markdown",
   "id": "633c91ef",
   "metadata": {},
   "source": [
    "### 11656번 접미사 배열\n",
    "#### https://www.acmicpc.net/problem/11656"
   ]
  },
  {
   "cell_type": "code",
   "execution_count": 10,
   "id": "185e725b",
   "metadata": {},
   "outputs": [
    {
     "name": "stdout",
     "output_type": "stream",
     "text": [
      "baekjoon\n",
      "aekjoon\n",
      "baekjoon\n",
      "ekjoon\n",
      "joon\n",
      "kjoon\n",
      "n\n",
      "on\n",
      "oon\n"
     ]
    }
   ],
   "source": [
    "# 11656번\n",
    "word = input()\n",
    "word_list = []\n",
    "\n",
    "for i in range(len(word)) :\n",
    "    word_list.append(word[i:])\n",
    "\n",
    "word_list.sort()\n",
    "\n",
    "for k in word_list :\n",
    "    print(k)"
   ]
  },
  {
   "cell_type": "markdown",
   "id": "12d8c9f5",
   "metadata": {},
   "source": [
    "### 1517번 버블소트\n",
    "#### https://www.acmicpc.net/problem/1517"
   ]
  },
  {
   "cell_type": "code",
   "execution_count": 11,
   "id": "6bee9f77",
   "metadata": {},
   "outputs": [],
   "source": [
    "# 1517번\n"
   ]
  },
  {
   "cell_type": "markdown",
   "id": "ffeca196",
   "metadata": {},
   "source": [
    "### 10814번 나이순 정렬\n",
    "#### https://www.acmicpc.net/problem/10814"
   ]
  },
  {
   "cell_type": "code",
   "execution_count": 12,
   "id": "cb2f58bc",
   "metadata": {},
   "outputs": [
    {
     "name": "stdout",
     "output_type": "stream",
     "text": [
      "3\n",
      "21 Junkyu\n",
      "21 Dohyun\n",
      "20 Sunyoung\n",
      "20 Sunyoung\n",
      "21 Junkyu\n",
      "21 Dohyun\n"
     ]
    }
   ],
   "source": [
    "# 10814번\n",
    "n = int(input())\n",
    "\n",
    "member = []\n",
    "for i in range(n):\n",
    "    member.append(list(input().split()))\n",
    "    \n",
    "member.sort(key=lambda x: int(x[0])) #age비교\n",
    "\n",
    "for i in range(n):\n",
    "    print(member[i][0], member[i][1])"
   ]
  }
 ],
 "metadata": {
  "kernelspec": {
   "display_name": "Python 3 (ipykernel)",
   "language": "python",
   "name": "python3"
  },
  "language_info": {
   "codemirror_mode": {
    "name": "ipython",
    "version": 3
   },
   "file_extension": ".py",
   "mimetype": "text/x-python",
   "name": "python",
   "nbconvert_exporter": "python",
   "pygments_lexer": "ipython3",
   "version": "3.8.11"
  }
 },
 "nbformat": 4,
 "nbformat_minor": 5
}
