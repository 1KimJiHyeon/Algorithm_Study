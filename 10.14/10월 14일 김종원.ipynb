{
 "cells": [
  {
   "cell_type": "markdown",
   "id": "41a139b8",
   "metadata": {},
   "source": [
    "* **작성자** : 김종원\n",
    "* 수정 일자 : 2021.10.14\n",
    "\n",
    "\n",
    "## 1. 접미사 배열  11656번\n",
    "\n",
    "* https://www.acmicpc.net/problem/11656\n",
    "\n",
    "\n",
    "---\n",
    "\n",
    "### 코드"
   ]
  },
  {
   "cell_type": "code",
   "execution_count": 1,
   "id": "3dd9785f",
   "metadata": {},
   "outputs": [
    {
     "name": "stdout",
     "output_type": "stream",
     "text": [
      "원본 리스트 :  ['backjoon', 'ackjoon', 'ckjoon', 'kjoon', 'joon', 'oon', 'on', 'n']\n",
      "ackjoon\n",
      "backjoon\n",
      "ckjoon\n",
      "joon\n",
      "kjoon\n",
      "n\n",
      "on\n",
      "oon\n"
     ]
    }
   ],
   "source": [
    "# S = input()\n",
    "S = 'backjoon'\n",
    "\n",
    "S_list = []\n",
    "for i in range(len(S)):\n",
    "    S_list.append(S[i:])\n",
    "    \n",
    "print(\"원본 리스트 : \",S_list)\n",
    "\n",
    "for i in range(len(S_list)-1):\n",
    "    min_idx = i\n",
    "    for j in range(i+1,len(S_list)):\n",
    "        if(ord(S_list[j][0]) == ord(S_list[min_idx][0])):\n",
    "            if(ord(S_list[j][1]) == ord(S_list[min_idx][1])):\n",
    "                print(\"이상\")\n",
    "            elif(ord(S_list[j][1]) < ord(S_list[min_idx][1])):\n",
    "                min_idx = j\n",
    "        elif(ord(S_list[j][0]) < ord(S_list[min_idx][0])):\n",
    "                min_idx = j\n",
    "    S_list[i],S_list[min_idx] =  S_list[min_idx],S_list[i]\n",
    "# print(S_list)\n",
    "\n",
    "for k in S_list:\n",
    "    print(k)"
   ]
  },
  {
   "cell_type": "markdown",
   "id": "ae90905f",
   "metadata": {},
   "source": [
    "## 2. 버블 소트 1517번\n",
    "\n",
    "* https://www.acmicpc.net/problem/1517\n",
    "\n",
    "---\n",
    "\n",
    "### 코드"
   ]
  },
  {
   "cell_type": "code",
   "execution_count": 2,
   "id": "7d8f9ec5",
   "metadata": {},
   "outputs": [],
   "source": [
    "# nums = [9,8,7,6,4,5,3,2,1]"
   ]
  },
  {
   "cell_type": "code",
   "execution_count": 3,
   "id": "83fcce46",
   "metadata": {},
   "outputs": [],
   "source": [
    "nums = [3,2,1]"
   ]
  },
  {
   "cell_type": "code",
   "execution_count": 4,
   "id": "146430a4",
   "metadata": {},
   "outputs": [
    {
     "name": "stdout",
     "output_type": "stream",
     "text": [
      "3\n",
      "3 2 1\n",
      "3\n"
     ]
    }
   ],
   "source": [
    "N = int(input())\n",
    "nums = [int(i) for i in input().split()]\n",
    "\n",
    "count = 0\n",
    "for end in range(len(nums)-1,0,-1):\n",
    "    for i in range(0,end):\n",
    "        if nums[i] > nums[i+1]:\n",
    "            count+=1\n",
    "            nums[i], nums[i+1] = nums[i+1],nums[i]\n",
    "            \n",
    "print(count)"
   ]
  },
  {
   "cell_type": "markdown",
   "id": "8bded9e5",
   "metadata": {},
   "source": [
    "## 3. 나이순 정렬 10814번\n",
    "\n",
    "* https://www.acmicpc.net/problem/10814 \n",
    "\n",
    "### 코드"
   ]
  },
  {
   "cell_type": "code",
   "execution_count": 5,
   "id": "7a2254a6",
   "metadata": {},
   "outputs": [
    {
     "name": "stdout",
     "output_type": "stream",
     "text": [
      "21 정국\n",
      "21 동국\n",
      "20 소영\n",
      "[[20, '소영'], [21, '정국'], [21, '동국']]\n"
     ]
    }
   ],
   "source": [
    "N =3\n",
    "members = []\n",
    "\n",
    "i=0\n",
    "\n",
    "while i <N:\n",
    "    age,name = input().split()\n",
    "    age = int(age)\n",
    "    members.append([age, name])\n",
    "    i+=1\n",
    "\n",
    "for i in range(1,N):\n",
    "    for j in range(i,0,-1):\n",
    "        if members[j-1][0] > members[j][0]:\n",
    "            members[j-1], members[j] = members[j], members[j-1]\n",
    "            \n",
    "print(members)"
   ]
  },
  {
   "cell_type": "code",
   "execution_count": null,
   "id": "40d10d83",
   "metadata": {},
   "outputs": [],
   "source": []
  }
 ],
 "metadata": {
  "kernelspec": {
   "display_name": "Python 3 (ipykernel)",
   "language": "python",
   "name": "python3"
  },
  "language_info": {
   "codemirror_mode": {
    "name": "ipython",
    "version": 3
   },
   "file_extension": ".py",
   "mimetype": "text/x-python",
   "name": "python",
   "nbconvert_exporter": "python",
   "pygments_lexer": "ipython3",
   "version": "3.8.11"
  }
 },
 "nbformat": 4,
 "nbformat_minor": 5
}
