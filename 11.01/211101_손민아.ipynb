{
 "cells": [
  {
   "cell_type": "markdown",
   "metadata": {},
   "source": [
    "# 10818번\n",
    "- https://www.acmicpc.net/problem/10818\n",
    "\n",
    "## 문제\n",
    "N개의 정수가 주어진다. 이때, 최솟값과 최댓값을 구하는 프로그램을 작성하시오.\n",
    "\n",
    "## 입력\n",
    "첫째 줄에 정수의 개수 N (1 ≤ N ≤ 1,000,000)이 주어진다. 둘째 줄에는 N개의 정수를 공백으로 구분해서 주어진다. 모든 정수는 -1,000,000보다 크거나 같고, 1,000,000보다 작거나 같은 정수이다.\n",
    "\n",
    "## 출력\n",
    "첫째 줄에 주어진 정수 N개의 최솟값과 최댓값을 공백으로 구분해 출력한다.\n",
    "```\n",
    "예제 입력 1 \n",
    "5\n",
    "20 10 35 30 7\n",
    "\n",
    "예제 출력 1 \n",
    "7 35\n",
    "```"
   ]
  },
  {
   "cell_type": "code",
   "execution_count": 8,
   "metadata": {},
   "outputs": [
    {
     "name": "stdout",
     "output_type": "stream",
     "text": [
      "7 35\n"
     ]
    }
   ],
   "source": [
    "n = int(input())\n",
    "n_list = list(map(int,input().split()))\n",
    "max = n_list[0]\n",
    "min = n_list[0]\n",
    "for i in n_list:\n",
    "    if i > max:\n",
    "        max = i\n",
    "    elif i < min:\n",
    "        min = i\n",
    "print(min,max)"
   ]
  },
  {
   "cell_type": "code",
   "execution_count": 7,
   "metadata": {},
   "outputs": [
    {
     "name": "stdout",
     "output_type": "stream",
     "text": [
      "7 35\n"
     ]
    }
   ],
   "source": [
    "inputNum = int(input())\n",
    "N_list = list(map(int,input().split()))\n",
    "# 아까 이 오류때문에 실행 안됨 -> 예약어를 변수명으로 사용하였기 때문.(sum(),min(),max()등등)-> del min, del sum, del max 로 변수 삭제 후 다시 실행 하면 끄읕~\n",
    "# 'int' object is not callable\n",
    "# del min \n",
    "# del max \n",
    "print(min(N_list),max(N_list))"
   ]
  },
  {
   "cell_type": "code",
   "execution_count": null,
   "metadata": {},
   "outputs": [],
   "source": [
    "n = int(input())\n",
    "n_list = list(map(int,input().split()))\n",
    "max = -1000000\n",
    "min = 1000000\n",
    "for i in n_list:\n",
    "    if i > max:\n",
    "        max = i\n",
    "    elif i < min:\n",
    "        min = i\n",
    "print(min,max)"
   ]
  },
  {
   "cell_type": "markdown",
   "metadata": {},
   "source": [
    "# 2562번 최댓값\n",
    "- https://www.acmicpc.net/problem/2562 \n",
    "# 문제\n",
    "9개의 서로 다른 자연수가 주어질 때, 이들 중 최댓값을 찾고 그 최댓값이 몇 번째 수인지를 구하는 프로그램을 작성하시오.\n",
    "\n",
    "예를 들어, 서로 다른 9개의 자연수\n",
    "\n",
    "3, 29, 38, 12, 57, 74, 40, 85, 61\n",
    "\n",
    "이 주어지면, 이들 중 최댓값은 85이고, 이 값은 8번째 수이다.\n",
    "\n",
    "# 입력\n",
    "첫째 줄부터 아홉 번째 줄까지 한 줄에 하나의 자연수가 주어진다. 주어지는 자연수는 100 보다 작다.\n",
    "\n",
    "# 출력\n",
    "첫째 줄에 최댓값을 출력하고, 둘째 줄에 최댓값이 몇 번째 수인지를 출력한다.\n",
    "```\n",
    "예제 입력 1 \n",
    "3\n",
    "29\n",
    "38\n",
    "12\n",
    "57\n",
    "74\n",
    "40\n",
    "85\n",
    "61\n",
    "예제 출력 1 \n",
    "85\n",
    "8\n",
    "```"
   ]
  },
  {
   "cell_type": "markdown",
   "metadata": {},
   "source": [
    "# 9012번 괄호 \n",
    "- https://www.acmicpc.net/problem/9012"
   ]
  },
  {
   "cell_type": "code",
   "execution_count": 30,
   "metadata": {},
   "outputs": [
    {
     "name": "stdout",
     "output_type": "stream",
     "text": [
      "NO\n",
      "NO\n",
      "YES\n",
      "NO\n",
      "YES\n",
      "NO\n"
     ]
    }
   ],
   "source": [
    "n = int(input())\n",
    "for j in range(n):\n",
    "    b = input()\n",
    "    b_list = list(b)\n",
    "    sum = 0\n",
    "    for i in b_list:\n",
    "        if i =='(':\n",
    "            sum += 1\n",
    "        elif i == ')':\n",
    "            sum -= 1\n",
    "        if sum < 0:\n",
    "            print('NO')\n",
    "            break\n",
    "    if sum == 0:\n",
    "        print('YES')\n",
    "    elif sum > 0:\n",
    "        print('NO')"
   ]
  },
  {
   "cell_type": "markdown",
   "metadata": {},
   "source": [
    "# 9372번  상근이의 여행\n",
    "- https://www.acmicpc.net/problem/9372\n"
   ]
  },
  {
   "cell_type": "markdown",
   "metadata": {},
   "source": [
    "- 상근이가 모든 국가를 여행하기 위해 타야하는 \n",
    "- 비행기 종류의 최소 개수 출력\n",
    "### 도로나 이런 식으로 노드 관련된 문제는 DFS 혹은 BFS 방법으로 문제풀이\n",
    "### 다익스트라 플로이드 와샬 -> 비용, 요금 등..."
   ]
  },
  {
   "cell_type": "code",
   "execution_count": 39,
   "metadata": {},
   "outputs": [
    {
     "name": "stdout",
     "output_type": "stream",
     "text": [
      "2\n",
      "4\n"
     ]
    }
   ],
   "source": [
    "T = int(input())\n",
    "\n",
    "for i in range(T):\n",
    "    N,M = map(int,input().split()) # N이 국가, M이 비행기 종류 \n",
    "    for j in range(M):\n",
    "        a,b = map(int,input().split())\n",
    "    print(N-1)"
   ]
  },
  {
   "cell_type": "markdown",
   "metadata": {},
   "source": [
    "# 1153번 네 개의 소수\n",
    "- https://www.acmicpc.net/problem/1153"
   ]
  },
  {
   "cell_type": "code",
   "execution_count": null,
   "metadata": {},
   "outputs": [],
   "source": []
  },
  {
   "cell_type": "code",
   "execution_count": null,
   "metadata": {},
   "outputs": [],
   "source": []
  }
 ],
 "metadata": {
  "interpreter": {
   "hash": "838183ee7b8555b431a91736167a55b3c95bb59a44782dde488817f7776386cb"
  },
  "kernelspec": {
   "display_name": "Python 3.8.8 64-bit ('base': conda)",
   "name": "python3"
  },
  "language_info": {
   "codemirror_mode": {
    "name": "ipython",
    "version": 3
   },
   "file_extension": ".py",
   "mimetype": "text/x-python",
   "name": "python",
   "nbconvert_exporter": "python",
   "pygments_lexer": "ipython3",
   "version": "3.8.8"
  },
  "orig_nbformat": 4
 },
 "nbformat": 4,
 "nbformat_minor": 2
}
