{
 "cells": [
  {
   "cell_type": "markdown",
   "id": "113d6a9c",
   "metadata": {},
   "source": [
    "## 괄호 9012번\n",
    "\n",
    "* https://www.acmicpc.net/problem/9012"
   ]
  },
  {
   "cell_type": "code",
   "execution_count": 23,
   "id": "e30987b7",
   "metadata": {},
   "outputs": [
    {
     "name": "stdout",
     "output_type": "stream",
     "text": [
      "NO\n",
      "NO\n",
      "YES\n",
      "NO\n",
      "YES\n",
      "NO\n"
     ]
    }
   ],
   "source": [
    "n = int(input())\n",
    "\n",
    "s_list = []\n",
    "for _ in range(n):\n",
    "    s_list.append(input())\n",
    "    \n",
    "\n",
    "for x1 in range(n):\n",
    "    # 왼쪽, 오른쪽 괄호 정보를 -1 +1로 변환\n",
    "    box_list =[]\n",
    "    for idx,s in enumerate(s_list[x1]):\n",
    "        if s ==\"(\":\n",
    "            box_list.append(-1)\n",
    "        if s == \")\":\n",
    "            box_list.append(+1)\n",
    "\n",
    "    # 괄호가 뭐든 왼쪽부터 시작해야 끝맺음이 가능할것으로 생각해서\n",
    "    # 왼쪽 괄호 기준으로 +1 or -1을 진행해 YES or NO를 진행\n",
    "    leftcnt = 0\n",
    "    Flage =True # 중간에 NO로 판단되어 빠져나왔는데 다른 값을 출력할수 있어 Flag 변수를 선언해 한번만 출력하게 한다.\n",
    "    for k in box_list:\n",
    "        if k==-1: # 왼쪽 괄호를 만날 경우 +1\n",
    "            leftcnt +=1\n",
    "        if k ==1: # 오른쪽 괄호를 만날경우 -1\n",
    "            leftcnt -=1\n",
    "            if leftcnt <0: # 왼쪽 괄호가 없는데 오른쪽 괄호가 생긴경우\n",
    "                print(\"NO\") # 바로 NO\n",
    "                Flage = False\n",
    "                break\n",
    "    if leftcnt ==0 and Flage: # 괄호갯수가 동일하고 Flage도 변동 없다면 Yes\n",
    "        print(\"YES\")\n",
    "    elif leftcnt >0: # 왼쪽 괄호가 오른쪽 괄호보다 많다면 NO\n",
    "        print(\"NO\")"
   ]
  },
  {
   "cell_type": "markdown",
   "id": "f8bbb329",
   "metadata": {},
   "source": [
    "## 상근이의 여행 9372번\n",
    "\n",
    "* https://www.acmicpc.net/problem/9372"
   ]
  },
  {
   "cell_type": "markdown",
   "id": "ab2a5b9c",
   "metadata": {},
   "source": [
    "* n = 개국\n",
    "* 최대한 적은 비행기\n",
    "* 이미 방문한 국가를 가도 된다."
   ]
  },
  {
   "cell_type": "code",
   "execution_count": 24,
   "id": "4bf58a36",
   "metadata": {},
   "outputs": [
    {
     "name": "stdout",
     "output_type": "stream",
     "text": [
      "2\n"
     ]
    }
   ],
   "source": [
    "T = int(input())"
   ]
  },
  {
   "cell_type": "code",
   "execution_count": 112,
   "id": "341f0cb8",
   "metadata": {},
   "outputs": [
    {
     "name": "stdout",
     "output_type": "stream",
     "text": [
      "3 3\n"
     ]
    }
   ],
   "source": [
    "N, M = map(int,input().split())"
   ]
  },
  {
   "cell_type": "code",
   "execution_count": 113,
   "id": "d765a05c",
   "metadata": {},
   "outputs": [
    {
     "data": {
      "text/plain": [
       "[[], [], [], []]"
      ]
     },
     "execution_count": 113,
     "metadata": {},
     "output_type": "execute_result"
    }
   ],
   "source": [
    "graph = [[] for _ in range(N+1)]\n",
    "graph"
   ]
  },
  {
   "cell_type": "code",
   "execution_count": 114,
   "id": "4b600935",
   "metadata": {},
   "outputs": [
    {
     "name": "stdout",
     "output_type": "stream",
     "text": [
      "1 2\n",
      "2 3\n",
      "1 3\n"
     ]
    }
   ],
   "source": [
    "for _ in range(M):\n",
    "    a, b = map(int, input().split())\n",
    "    graph[a].append((b,1))\n",
    "    graph[b].append((a,1))"
   ]
  },
  {
   "cell_type": "code",
   "execution_count": 115,
   "id": "42058a3a",
   "metadata": {},
   "outputs": [
    {
     "name": "stdout",
     "output_type": "stream",
     "text": [
      "1 2\n",
      "1 3\n"
     ]
    }
   ],
   "source": [
    "distance = [int(1e9)] *(N+1)\n",
    "visited = [-1] * (N+1)\n",
    "\n",
    "import heapq\n",
    "\n",
    "q = []\n",
    "MAX = 0\n",
    "re_now = 0\n",
    "\n",
    "start =1\n",
    "heapq.heappush(q,(0,start))\n",
    "visited[1] = 1\n",
    "\n",
    "while q:\n",
    "    dist , now = heapq.heappop(q) \n",
    "    for end, cost in graph[now]:\n",
    "        cost += dist\n",
    "        if cost < distance[now]:\n",
    "            distance[now] = cost\n",
    "        if visited[end] ==-1:\n",
    "            visited[end]=1 \n",
    "            print(now,end)\n",
    "            heapq.heappush(q,(distance[now],end))"
   ]
  },
  {
   "cell_type": "code",
   "execution_count": 116,
   "id": "ca068d26",
   "metadata": {},
   "outputs": [
    {
     "name": "stdout",
     "output_type": "stream",
     "text": [
      "1\n"
     ]
    }
   ],
   "source": [
    "print(distance[N]-1)"
   ]
  },
  {
   "cell_type": "markdown",
   "id": "9551aa44",
   "metadata": {},
   "source": [
    "## 최소, 최대 10818번\n",
    "\n",
    "* https://www.acmicpc.net/problem/10818"
   ]
  },
  {
   "cell_type": "code",
   "execution_count": 118,
   "id": "0aba0892",
   "metadata": {},
   "outputs": [
    {
     "name": "stdout",
     "output_type": "stream",
     "text": [
      "5\n"
     ]
    }
   ],
   "source": [
    "N = int(input())\n",
    "\n",
    "S = input().split()\n",
    "\n",
    "MAX =-1000000\n",
    "MIN = 1000000\n",
    "for s in S:\n",
    "    s = int(s)\n",
    "    if MAX < s:\n",
    "        MAX = s\n",
    "    \n",
    "    if MIN > s:\n",
    "        MIN = s\n",
    "\n",
    "print(MIN,MAX)"
   ]
  },
  {
   "cell_type": "markdown",
   "id": "fbfc2e49",
   "metadata": {},
   "source": [
    "## 네 개의 소수 1153번\n",
    "\n",
    "* https://www.acmicpc.net/problem/1153"
   ]
  },
  {
   "cell_type": "code",
   "execution_count": 171,
   "id": "94c97df8",
   "metadata": {},
   "outputs": [
    {
     "name": "stdout",
     "output_type": "stream",
     "text": [
      "38\n",
      "3 5 7 23 "
     ]
    }
   ],
   "source": [
    "import random\n",
    "\n",
    "n = int(input())\n",
    "\n",
    "box = [] # 소수 정보를 담을 리스트\n",
    "for i in range(2,n+1):\n",
    "    cnt = 0\n",
    "    for num1 in range(2,i+1):\n",
    "        if i%num1 ==0:\n",
    "            cnt+=1\n",
    "    if cnt ==1:\n",
    "        box.append(i)\n",
    "\n",
    "c_box = [0,0,0,0]\n",
    "maxcnt = len(box)**4\n",
    "Flage = True\n",
    "while n != sum(c_box):\n",
    "    if maxcnt < c:\n",
    "        Flage =False\n",
    "        break\n",
    "    c_box = []\n",
    "    for _ in range(4):\n",
    "        c_box.append(random.choice(box))\n",
    "    c+=1\n",
    "\n",
    "\n",
    "if Flage:\n",
    "    c_box = sorted(c_box)\n",
    "    for c in c_box:\n",
    "        print(c,end=\" \")\n",
    "else:\n",
    "    print(-1)"
   ]
  },
  {
   "cell_type": "code",
   "execution_count": null,
   "id": "2d4bd2ec",
   "metadata": {},
   "outputs": [],
   "source": []
  }
 ],
 "metadata": {
  "kernelspec": {
   "display_name": "Python 3 (ipykernel)",
   "language": "python",
   "name": "python3"
  },
  "language_info": {
   "codemirror_mode": {
    "name": "ipython",
    "version": 3
   },
   "file_extension": ".py",
   "mimetype": "text/x-python",
   "name": "python",
   "nbconvert_exporter": "python",
   "pygments_lexer": "ipython3",
   "version": "3.8.11"
  }
 },
 "nbformat": 4,
 "nbformat_minor": 5
}
