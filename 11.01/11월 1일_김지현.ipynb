{
 "cells": [
  {
   "cell_type": "markdown",
   "id": "c4b9f18c",
   "metadata": {},
   "source": [
    "### 9012번 괄호\n",
    "#### https://www.acmicpc.net/problem/9012"
   ]
  },
  {
   "cell_type": "code",
   "execution_count": 43,
   "id": "39e27b6f",
   "metadata": {},
   "outputs": [
    {
     "name": "stdout",
     "output_type": "stream",
     "text": [
      "9\n",
      "(())())\n",
      "NO\n",
      "(((()())()\n",
      "NO\n",
      "(()())((()))\n",
      "YES\n",
      "((()()(()))(((())))()\n",
      "NO\n",
      "()()()()(()()())()\n",
      "YES\n",
      "(()((())()(\n",
      "NO\n",
      "((\n",
      "NO\n",
      "))\n",
      "NO\n",
      "())(()\n",
      "NO\n"
     ]
    }
   ],
   "source": [
    "# 9012번\n",
    "T = int(input())\n",
    "\n",
    "for i in range (T):\n",
    "    ps = input()\n",
    "    left_vps = ps.count('(')\n",
    "    right_vps = ps.count(')')  \n",
    "    if left_vps == right_vps:\n",
    "        l = 0\n",
    "        check=True\n",
    "        for k in ps:\n",
    "            if k == '(':\n",
    "                l+=1\n",
    "            else:\n",
    "                l-=1               \n",
    "                if l < 0:\n",
    "                    print(\"NO\")\n",
    "                    check=False\n",
    "                    break\n",
    "                else:\n",
    "                    continue\n",
    "        if l==0:\n",
    "            print(\"YES\")\n",
    "        else:\n",
    "            pass\n",
    "    else:\n",
    "        print(\"NO\")"
   ]
  },
  {
   "cell_type": "markdown",
   "id": "180b9362",
   "metadata": {},
   "source": [
    "### 9372번 상근이의 여행\n",
    "#### https://www.acmicpc.net/problem/9372"
   ]
  },
  {
   "cell_type": "code",
   "execution_count": 3,
   "id": "4e243eaf",
   "metadata": {},
   "outputs": [
    {
     "name": "stdout",
     "output_type": "stream",
     "text": [
      "2\n",
      "3 3\n",
      "1 2\n",
      "2 3\n",
      "1 3\n",
      "2\n",
      "5 4\n",
      "2 1\n",
      "2 3\n",
      "4 3\n",
      "4 5\n",
      "4\n"
     ]
    }
   ],
   "source": [
    "# 9372번\n",
    "def dfs(node, cnt):\n",
    "    visit[node] = 1\n",
    "    for i in graph[node] :\n",
    "        if visit[i] == 0:\n",
    "            cnt = dfs(i, cnt+1)\n",
    "    return cnt\n",
    "\n",
    "T = int(input())\n",
    "\n",
    "for _ in range(T):\n",
    "    N, M = map(int, input().split())\n",
    "    graph = [[] for _ in range(N+1)]\n",
    "    for _ in range(M):\n",
    "        a, b = map(int, input().split())\n",
    "        graph[a].append(b)\n",
    "        graph[b].append(a)\n",
    "        \n",
    "    visit = [0] * (N+1)\n",
    "    visit[1] = 0\n",
    "    result = dfs(1, 0)\n",
    "    print(result)"
   ]
  },
  {
   "cell_type": "markdown",
   "id": "02a53e2a",
   "metadata": {},
   "source": [
    "#### 10818번 최소, 최대\n",
    "#### https://www.acmicpc.net/problem/10818"
   ]
  },
  {
   "cell_type": "code",
   "execution_count": 27,
   "id": "e9bd9810",
   "metadata": {},
   "outputs": [
    {
     "name": "stdout",
     "output_type": "stream",
     "text": [
      "5\n",
      "20 10 35 30 7\n",
      "7 35\n"
     ]
    }
   ],
   "source": [
    "# 10818번\n",
    "N = int(input())\n",
    "N_list = list(map(int, input().split()))\n",
    "\n",
    "print(min(N_list),max(N_list))"
   ]
  }
 ],
 "metadata": {
  "kernelspec": {
   "display_name": "Python 3 (ipykernel)",
   "language": "python",
   "name": "python3"
  },
  "language_info": {
   "codemirror_mode": {
    "name": "ipython",
    "version": 3
   },
   "file_extension": ".py",
   "mimetype": "text/x-python",
   "name": "python",
   "nbconvert_exporter": "python",
   "pygments_lexer": "ipython3",
   "version": "3.8.11"
  }
 },
 "nbformat": 4,
 "nbformat_minor": 5
}
