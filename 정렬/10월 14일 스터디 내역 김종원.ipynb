{
 "cells": [
  {
   "cell_type": "markdown",
   "id": "41a139b8",
   "metadata": {},
   "source": [
    "* **작성자** : 김종원\n",
    "* 수정 일자 : 2021.10.14\n",
    "\n",
    "\n",
    "## 1. 삽입정렬로 접근하여 문제 풀기.\n",
    "\n",
    "문제 1. 접미사 배열\n",
    "\n",
    "### 문제\n",
    "접미사 배열은 문자열 S의 모든 접미사를 사전순으로 정렬해 놓은 배열이다.\n",
    "\n",
    "baekjoon의 접미사는 baekjoon, aekjoon, ekjoon, kjoon, joon, oon, on, n 으로 총 8가지가 있고, 이를 사전순으로 정렬하면, aekjoon, baekjoon, ekjoon, joon, kjoon, n, on, oon이 된다.\n",
    "\n",
    "문자열 S가 주어졌을 때, 모든 접미사를 사전순으로 정렬한 다음 출력하는 프로그램을 작성하시오.\n",
    "\n",
    "첫째 줄에 문자열 S가 주어진다. S는 알파벳 소문자로만 이루어져 있고, 길이는 1,000보다 작거나 같다.\n",
    "\n",
    "---\n",
    "### 문제를 접근했던 방법\n",
    "1. 접미사가 뭐지?\n",
    "2. 접미사를 파악했으면 어떻게 문자열인 원소를 어떻게 정렬을 시키지?\n",
    "    * 문자? -> 오늘 배운 내용인 숫자를 이용해 정렬하는 것인데 이를 어떻게 적용하지?\n",
    "    * 문자열을 숫자 정보로 바꾸어주는 방법이 아스키로 변환하면 가능하겠다.\n",
    "3. 아스키 코드로 변환은 Ok !! 그런데 아스키 코드를 변환하는거는 한 글자만 가능한데 여러 글자는 어떻게 하지?\n",
    "    * 반복문을 돌려서 비교를 해야겠지만 baekjoon 이라는 예제에서 비교가 된다면 첫번째 인덱스까지 비교가 되지 않을까?\n",
    "    * 제일먼저 0번째 인덱스를 비교했을때 서로 아스키 코드 값이 같다면 1번째 인덱스를 비교해라.\n",
    "4. 위 방법론으로 삽입정렬 알고리즘 원리를 적용시켜 진행해보자.\n",
    "    ex) backjoon 이라는 키워드가 들어가면\n",
    "        \n",
    "        aekjoon, baekjoon, ekjoon, joon, kjoon, n, on, oon 으로 결과가 발생해야한다.\n",
    "\n",
    "---\n",
    "\n",
    "### 코드"
   ]
  },
  {
   "cell_type": "code",
   "execution_count": 1,
   "id": "3dd9785f",
   "metadata": {},
   "outputs": [
    {
     "name": "stdout",
     "output_type": "stream",
     "text": [
      "원본 리스트 :  ['backjoon', 'ackjoon', 'ckjoon', 'kjoon', 'joon', 'oon', 'on', 'n']\n",
      "ackjoon\n",
      "backjoon\n",
      "ckjoon\n",
      "joon\n",
      "kjoon\n",
      "n\n",
      "on\n",
      "oon\n"
     ]
    }
   ],
   "source": [
    "# S = input()\n",
    "S = 'backjoon'\n",
    "\n",
    "S_list = []\n",
    "for i in range(len(S)):\n",
    "    S_list.append(S[i:])\n",
    "    \n",
    "print(\"원본 리스트 : \",S_list)\n",
    "\n",
    "for i in range(len(S_list)-1):\n",
    "    min_idx = i\n",
    "    for j in range(i+1,len(S_list)):\n",
    "        if(ord(S_list[j][0]) == ord(S_list[min_idx][0])):\n",
    "            if(ord(S_list[j][1]) == ord(S_list[min_idx][1])):\n",
    "                print(\"이상\")\n",
    "            elif(ord(S_list[j][1]) < ord(S_list[min_idx][1])):\n",
    "                min_idx = j\n",
    "        elif(ord(S_list[j][0]) < ord(S_list[min_idx][0])):\n",
    "                min_idx = j\n",
    "    S_list[i],S_list[min_idx] =  S_list[min_idx],S_list[i]\n",
    "# print(S_list)\n",
    "\n",
    "for k in S_list:\n",
    "    print(k)"
   ]
  },
  {
   "cell_type": "markdown",
   "id": "ae90905f",
   "metadata": {},
   "source": [
    "## 2. 버블 소트\n",
    "\n",
    "### 문제\n",
    "N개의 수로 이루어진 수열 A[1], A[2], …, A[N]이 있다. 이 수열에 대해서 버블 소트를 수행할 때, Swap이 총 몇 번 발생하는지 알아내는 프로그램을 작성하시오.\n",
    "\n",
    "버블 소트는 서로 인접해 있는 두 수를 바꿔가며 정렬하는 방법이다. 예를 들어 수열이 3 2 1 이었다고 하자. 이 경우에는 인접해 있는 3, 2가 바뀌어야 하므로 2 3 1 이 된다. 다음으로는 3, 1이 바뀌어야 하므로 2 1 3 이 된다. 다음에는 2, 1이 바뀌어야 하므로 1 2 3 이 된다. 그러면 더 이상 바꿔야 할 경우가 없으므로 정렬이 완료된다.\n",
    "\n",
    "### 입력\n",
    "첫째 줄에 N(1 ≤ N ≤ 500,000)이 주어진다. 다음 줄에는 N개의 정수로 A[1], A[2], …, A[N]이 주어진다. 각각의 A[i]는 0 ≤ |A[i]| ≤ 1,000,000,000의 범위에 들어있다.\n",
    "\n",
    "### 출력\n",
    "첫째 줄에 Swap 횟수를 출력한다\n",
    "\n",
    "### 문제를 접근했던 방법\n",
    "1. 버블 소트 알고리즘을 적용시켜서 코드를 작성해야한다.\n",
    "2. 자리 바꿈의 횟수를 카운트 해야한다.\n",
    "3. 자리 바꾼 횟수를 프린터로 출력하면 끝이군.\n",
    "\n",
    "---\n",
    "\n",
    "### 코드"
   ]
  },
  {
   "cell_type": "code",
   "execution_count": 2,
   "id": "7d8f9ec5",
   "metadata": {},
   "outputs": [],
   "source": [
    "# nums = [9,8,7,6,4,5,3,2,1]"
   ]
  },
  {
   "cell_type": "code",
   "execution_count": 3,
   "id": "83fcce46",
   "metadata": {},
   "outputs": [],
   "source": [
    "nums = [3,2,1]"
   ]
  },
  {
   "cell_type": "code",
   "execution_count": 4,
   "id": "146430a4",
   "metadata": {},
   "outputs": [
    {
     "name": "stdout",
     "output_type": "stream",
     "text": [
      "3\n",
      "3 2 1\n",
      "3\n"
     ]
    }
   ],
   "source": [
    "N = int(input())\n",
    "nums = [int(i) for i in input().split()]\n",
    "\n",
    "count = 0\n",
    "for end in range(len(nums)-1,0,-1):\n",
    "    for i in range(0,end):\n",
    "        if nums[i] > nums[i+1]:\n",
    "            count+=1\n",
    "            nums[i], nums[i+1] = nums[i+1],nums[i]\n",
    "            \n",
    "print(count)"
   ]
  },
  {
   "cell_type": "markdown",
   "id": "8bded9e5",
   "metadata": {},
   "source": [
    "## 3. 삽입 정렬\n",
    "\n",
    "### 문제\n",
    "온라인 저지에 가입한 사람들의 나이와 이름이 가입한 순서대로 주어진다. 이때, 회원들을 나이가 증가하는 순으로, 나이가 같으면 먼저 가입한 사람이 앞에 오는 순서로 정렬하는 프로그램을 작성하시오.\n",
    "\n",
    "### 입력\n",
    "첫째 줄에 온라인 저지 회원의 수 N이 주어진다. (1 ≤ N ≤ 100,000)\n",
    "\n",
    "둘째 줄부터 N개의 줄에는 각 회원의 나이와 이름이 공백으로 구분되어 주어진다. 나이는 1보다 크거나 같으며, 200보다 작거나 같은 정수이고, 이름은 알파벳 대소문자로 이루어져 있고, 길이가 100보다 작거나 같은 문자열이다. 입력은 가입한 순서로 주어진다.\n",
    "\n",
    "### 출력\n",
    "첫째 줄부터 총 N개의 줄에 걸쳐 온라인 저지 회원을 나이 순, 나이가 같으면 가입한 순으로 한 줄에 한 명씩 나이와 이름을 공백으로 구분해 출력한다.\n",
    "\n",
    "### 문제를 접근했던 방법\n",
    "1. 어떻게 나이와 이름 정보를 모아두지?\n",
    "    * 딕셔너리? X  순서가 정보가 불가능하니 X \n",
    "    * 이중 리스트를 통해 첫번째 리스트 안에는 입력 순서를 인식하게 인덱스 번호를 활용하고 두 번째 리스트에서 0번째 인덱스가 나이를 가리키니 해당 나이를 활용해 삽입정렬을 사용해 정렬하자.\n",
    "2. 정렬이 완료되면 print를 통해 출력하자.\n",
    "\n",
    "---\n",
    "### 코드"
   ]
  },
  {
   "cell_type": "code",
   "execution_count": 5,
   "id": "7a2254a6",
   "metadata": {},
   "outputs": [
    {
     "name": "stdout",
     "output_type": "stream",
     "text": [
      "21 정국\n",
      "21 동국\n",
      "20 소영\n",
      "[[20, '소영'], [21, '정국'], [21, '동국']]\n"
     ]
    }
   ],
   "source": [
    "N =3\n",
    "members = []\n",
    "\n",
    "i=0\n",
    "\n",
    "while i <N:\n",
    "    age,name = input().split()\n",
    "    age = int(age)\n",
    "    members.append([age, name])\n",
    "    i+=1\n",
    "\n",
    "for i in range(1,N):\n",
    "    for j in range(i,0,-1):\n",
    "        if members[j-1][0] > members[j][0]:\n",
    "            members[j-1], members[j] = members[j], members[j-1]\n",
    "            \n",
    "print(members)"
   ]
  },
  {
   "cell_type": "code",
   "execution_count": null,
   "id": "40d10d83",
   "metadata": {},
   "outputs": [],
   "source": []
  }
 ],
 "metadata": {
  "kernelspec": {
   "display_name": "Python 3 (ipykernel)",
   "language": "python",
   "name": "python3"
  },
  "language_info": {
   "codemirror_mode": {
    "name": "ipython",
    "version": 3
   },
   "file_extension": ".py",
   "mimetype": "text/x-python",
   "name": "python",
   "nbconvert_exporter": "python",
   "pygments_lexer": "ipython3",
   "version": "3.8.11"
  }
 },
 "nbformat": 4,
 "nbformat_minor": 5
}
