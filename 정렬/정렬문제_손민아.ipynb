{
 "cells": [
  {
   "cell_type": "markdown",
   "metadata": {},
   "source": [
    "# 10814번 나이순 정렬\n",
    "\n",
    "### 문제\n",
    "- 온라인 저지에 가입한 사람들의 나이와 이름이 가입한 순서대로 주어진다. 이때, 회원들을 나이가 증가하는 순으로, 나이가 같으면 먼저 가입한 사람이 앞에 오는 순서로 정렬하는 프로그램을 작성하시오.\n",
    "\n",
    "### 입력\n",
    "- 첫째 줄에 온라인 저지 회원의 수 N이 주어진다. (1 ≤ N ≤ 100,000)\n",
    "\n",
    "- 둘째 줄부터 N개의 줄에는 각 회원의 나이와 이름이 공백으로 구분되어 주어진다. 나이는 1보다 크거나 같으며, 200보다 작거나 같은 정수이고, 이름은 알파벳 대소문자로 이루어져 있고, 길이가 100보다 작거나 같은 문자열이다. 입력은 가입한 순서로 주어진다.\n",
    "\n",
    "### 출력\n",
    "- 첫째 줄부터 총 N개의 줄에 걸쳐 온라인 저지 회원을 나이 순, 나이가 같으면 가입한 순으로 한 줄에 한 명씩 나이와 이름을 공백으로 구분해 출력한다."
   ]
  },
  {
   "cell_type": "markdown",
   "metadata": {},
   "source": [
    "### 예제 입력 1 \n",
    "```\n",
    "3\n",
    "21 Junkyu\n",
    "21 Dohyun\n",
    "20 Sunyoung\n",
    "```\n",
    "### 예제 출력 1 \n",
    "```\n",
    "20 Sunyoung\n",
    "21 Junkyu\n",
    "21 Dohyun\n",
    "```"
   ]
  },
  {
   "cell_type": "code",
   "execution_count": 1,
   "metadata": {},
   "outputs": [],
   "source": [
    "#참고1\n",
    "n = int(input())\n",
    "arr = []\n",
    "for i in range(n):\n",
    "    arr.append(list(map(int,input().split())))\n",
    "    "
   ]
  },
  {
   "cell_type": "code",
   "execution_count": 2,
   "metadata": {},
   "outputs": [
    {
     "name": "stdout",
     "output_type": "stream",
     "text": [
      "2\n",
      "[1, 5]\n"
     ]
    }
   ],
   "source": [
    "#참고2\n",
    "# 데이터의 개수 입력\n",
    "n = int(input())\n",
    "\n",
    "# 각 데이터를 공백을 기준으로 구분하여 입력\n",
    "data = list(map(int, input().split()))\n",
    "\n",
    "print(n)\n",
    "print(data)"
   ]
  },
  {
   "cell_type": "code",
   "execution_count": 4,
   "metadata": {},
   "outputs": [
    {
     "name": "stdout",
     "output_type": "stream",
     "text": [
      "[7, 9, 11, 13, 15]\n"
     ]
    }
   ],
   "source": [
    "#참고3\n",
    "list1 = [1,2,3,4,5]\n",
    "list2 = [6,7,8,9,10]\n",
    "\n",
    "result = list(map(lambda a,b: a+b, list1,list2))\n",
    "print(result)"
   ]
  },
  {
   "cell_type": "code",
   "execution_count": 2,
   "metadata": {},
   "outputs": [
    {
     "name": "stdout",
     "output_type": "stream",
     "text": [
      "[1, 2]\n"
     ]
    }
   ],
   "source": [
    "n = int(input('입력개수: '))\n",
    "list =  [int(i) for i in input().split()]\n",
    "print(list)"
   ]
  },
  {
   "cell_type": "code",
   "execution_count": 7,
   "metadata": {},
   "outputs": [
    {
     "name": "stdout",
     "output_type": "stream",
     "text": [
      "20 Sunyoung\n",
      "21 Junkyu\n",
      "21 Dohyun\n"
     ]
    }
   ],
   "source": [
    "n = int(input('입력개수'))\n",
    "list = []\n",
    "\n",
    "for i in range(n):\n",
    "    age, name = map(str, input().split()) \n",
    "    age = int(age) #나이는 int\n",
    "    list.append((age,name)) \n",
    "\n",
    "list.sort(key = lambda a:(a[0])) #lambda 인수: 식\n",
    "#def temp(a):   return(a[0])\n",
    "\n",
    "for a in list:\n",
    "    print(a[0],a[1])\n"
   ]
  },
  {
   "cell_type": "markdown",
   "metadata": {},
   "source": [
    "# 10825번 국영수 \n",
    "### 문제\n",
    "- 도현이네 반 학생 N명의 이름과 국어, 영어, 수학 점수가 주어진다. 이때, 다음과 같은 조건으로 학생의 성적을 정렬하는 프로그램을 작성하시오.\n",
    "\n",
    "    - 국어 점수가 감소하는 순서로\n",
    "    - 국어 점수가 같으면 영어 점수가 증가하는 순서로\n",
    "    - 국어 점수와 영어 점수가 같으면 수학 점수가 감소하는 순서로\n",
    "    - 모든 점수가 같으면 이름이 사전 순으로 증가하는 순서로 (단, 아스키 코드에서 대문자는 소문자보다 작으므로 사전순으로 앞에 온다.)\n",
    "### 입력\n",
    "- 첫째 줄에 도현이네 반의 학생의 수 N (1 ≤ N ≤ 100,000)이 주어진다. 둘째 줄부터 한 줄에 하나씩 각 학생의 이름, 국어, 영어, 수학 점수가 공백으로 구분해 주어진다. 점수는 1보다 크거나 같고, 100보다 작거나 같은 자연수이다. 이름은 알파벳 대소문자로 이루어진 문자열이고, 길이는 10자리를 넘지 않는다.\n",
    "\n",
    "### 출력\n",
    "- 문제에 나와있는 정렬 기준으로 정렬한 후 첫째 줄부터 N개의 줄에 걸쳐 각 학생의 이름을 출력한다.\n",
    "\n",
    "### 예제 입력 1 \n",
    "```\n",
    "12\n",
    "Junkyu 50 60 100\n",
    "Sangkeun 80 60 50\n",
    "Sunyoung 80 70 100\n",
    "Soong 50 60 90\n",
    "Haebin 50 60 100\n",
    "Kangsoo 60 80 100\n",
    "Donghyuk 80 60 100\n",
    "Sei 70 70 70\n",
    "Wonseob 70 70 90\n",
    "Sanghyun 70 70 80\n",
    "nsj 80 80 80\n",
    "Taewhan 50 60 90\n",
    "\n",
    "```\n",
    "### 예제 출력 1 \n",
    "```\n",
    "Donghyuk\n",
    "Sangkeun\n",
    "Sunyoung\n",
    "nsj\n",
    "Wonseob\n",
    "Sanghyun\n",
    "Sei\n",
    "Kangsoo\n",
    "Haebin\n",
    "Junkyu\n",
    "Soong\n",
    "Taewhan"
   ]
  },
  {
   "cell_type": "markdown",
   "metadata": {},
   "source": [
    "- reverse = True #내림차순\n",
    "- reverse = False #오름차순 "
   ]
  },
  {
   "cell_type": "code",
   "execution_count": 1,
   "metadata": {},
   "outputs": [
    {
     "name": "stdout",
     "output_type": "stream",
     "text": [
      "Donghyuk\n",
      "Haebin\n",
      "Junkyu\n",
      "Kangsoo\n",
      "Sanghyun\n",
      "Sangkeun\n",
      "Sei\n",
      "Soong\n",
      "Sunyoung\n",
      "Taewhan\n",
      "Wonseob\n",
      "nsj\n"
     ]
    }
   ],
   "source": [
    "#순서뒤죽박죽...ㅠ\n",
    "n = int(input('입력값 개수:'))\n",
    "list = []\n",
    "\n",
    "for i in range(n):\n",
    "    name, kor, eng, math = map(str, input().split())\n",
    "    kor = int(kor)\n",
    "    eng = int(eng)\n",
    "    math = int(math)\n",
    "    list.append((name,kor,eng,math))\n",
    "\n",
    "list.sort(key = lambda x: (x[1]), reverse= True) #국어점수가 감소하는 순서\n",
    "list.sort(key = lambda x: (x[2]), reverse= False) #국어점수= -> 영어점수 증가하는 순서\n",
    "list.sort(key = lambda x: (x[3]), reverse= True) #국어,영어 = -> 수학점수 감소하는 순서\n",
    "list.sort(key = lambda x: (x[0]), reverse= False) #국어,영어,수학 = ->  알파벳 순\n",
    "\n",
    "for x in list:\n",
    "    print(x[0])\n",
    "\n"
   ]
  },
  {
   "cell_type": "code",
   "execution_count": 12,
   "metadata": {},
   "outputs": [
    {
     "name": "stdout",
     "output_type": "stream",
     "text": [
      "Donghyuk\n",
      "Sangkeun\n",
      "Sunyoung\n",
      "nsj\n",
      "Wonseob\n",
      "Sanghyun\n",
      "Sei\n",
      "Kangsoo\n",
      "Haebin\n",
      "Junkyu\n",
      "Soong\n",
      "Taewhan\n"
     ]
    }
   ],
   "source": [
    "\n",
    "n = int(input('입력값 개수:'))\n",
    "list = []\n",
    "\n",
    "for i in range(n):\n",
    "    name, kor, eng, math = map(str, input().split())\n",
    "    list.append((name,int(kor),int(eng),int(math)))\n",
    "\n",
    "list.sort(key = lambda x: (-x[1],x[2],-x[3],x[0])) #국어,수학 감소 -\n",
    "\n",
    "\n",
    "for x in list:\n",
    "    print(x[0])"
   ]
  },
  {
   "cell_type": "code",
   "execution_count": null,
   "metadata": {},
   "outputs": [],
   "source": []
  }
 ],
 "metadata": {
  "interpreter": {
   "hash": "838183ee7b8555b431a91736167a55b3c95bb59a44782dde488817f7776386cb"
  },
  "kernelspec": {
   "display_name": "Python 3.8.8 64-bit ('base': conda)",
   "name": "python3"
  },
  "language_info": {
   "codemirror_mode": {
    "name": "ipython",
    "version": 3
   },
   "file_extension": ".py",
   "mimetype": "text/x-python",
   "name": "python",
   "nbconvert_exporter": "python",
   "pygments_lexer": "ipython3",
   "version": "3.8.8"
  }
 },
 "nbformat": 4,
 "nbformat_minor": 2
}
