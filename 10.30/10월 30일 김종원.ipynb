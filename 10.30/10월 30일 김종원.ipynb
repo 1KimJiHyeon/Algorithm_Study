{
 "cells": [
  {
   "cell_type": "markdown",
   "id": "18bf1435",
   "metadata": {},
   "source": [
    "## 하노이 탑 이동 순서 11729번\n",
    "\n",
    "* https://www.acmicpc.net/problem/11729"
   ]
  },
  {
   "cell_type": "code",
   "execution_count": 1,
   "id": "c1c26f8e",
   "metadata": {},
   "outputs": [
    {
     "name": "stdout",
     "output_type": "stream",
     "text": [
      "3\n",
      "7\n",
      "1 3\n",
      "1 2\n",
      "3 2\n",
      "1 3\n",
      "2 1\n",
      "2 3\n",
      "1 3\n"
     ]
    }
   ],
   "source": [
    "count = 0\n",
    "content_list = []\n",
    "def func(disCnt, start=1,end=3, via=2):\n",
    "    global count\n",
    "    global content_list\n",
    "    count+=1\n",
    "    if disCnt < 2:\n",
    "#         print(f\"{disCnt}를 {start}에서 {end}로 이동했다.\")\n",
    "        content_list.append(f\"{start} {end}\")\n",
    "    else:\n",
    "        func(disCnt-1, start,via,end)\n",
    "#         print(f\"{disCnt}를 {start}에서 {end}로 이동했다.\")\n",
    "        content_list.append(f\"{start} {end}\")\n",
    "        func(disCnt-1, via,end,start)        \n",
    "\n",
    "N = int(input())\n",
    "func(N)\n",
    "\n",
    "print(count)\n",
    "for c in content_list:\n",
    "    print(c)"
   ]
  },
  {
   "cell_type": "markdown",
   "id": "b2839104",
   "metadata": {},
   "source": [
    "## 세금 13907번\n",
    "\n",
    "* https://www.acmicpc.net/problem/13907"
   ]
  },
  {
   "cell_type": "code",
   "execution_count": 2,
   "id": "8c86b9d0",
   "metadata": {},
   "outputs": [
    {
     "name": "stdout",
     "output_type": "stream",
     "text": [
      "3 3 2\n",
      "1 3\n",
      "1 3 5\n",
      "1 2 1\n",
      "2 3 2\n",
      "1\n",
      "2\n",
      "3\n",
      "5\n",
      "8\n"
     ]
    }
   ],
   "source": [
    "import heapq\n",
    "import copy\n",
    "\n",
    "\n",
    "N,M,K = map(int,input().split())\n",
    "S,D = map(int,input().split())\n",
    "\n",
    "graph = [[] for i in range(N+1)]\n",
    "INF = 1e9\n",
    "\n",
    "for i in range(N):\n",
    "    a,b,w = map(int,input().split())\n",
    "    graph[a].append((b,w))\n",
    "\n",
    "p_list = [0]\n",
    "p1 = 0\n",
    "for _ in range(K):\n",
    "    p = int(input())\n",
    "    p1 = p1 + p\n",
    "    p_list.append(p1)\n",
    "\n",
    "\n",
    "    \n",
    "def func(start):\n",
    "    q = []\n",
    "    heapq.heappush(q,(0,start))    \n",
    "    distance[start] = 0\n",
    "    while q:\n",
    "        dist, now = heapq.heappop(q)\n",
    "        if distance[now] < dist:\n",
    "            continue\n",
    "        for i in graph[now]:\n",
    "            cost = dist + i[1]\n",
    "            if cost < distance[i[0]]:\n",
    "                distance[i[0]]= cost\n",
    "                heapq.heappush(q,(cost,i[0]))\n",
    "\n",
    "graph1 = copy.deepcopy(graph)\n",
    "\n",
    "for k in range(K+1):\n",
    "    distance = [INF] *(N+1)\n",
    "    graph = copy.deepcopy(graph1)\n",
    "    for g1 in range(1,len(graph)):\n",
    "        for g2 in range(len(graph[g1])):\n",
    "            temp = list(graph[g1][g2])\n",
    "            temp[1] = temp[1] + p_list[k]\n",
    "            graph[g1][g2] = tuple(temp)\n",
    "    func(S)\n",
    "    print(distance[D])"
   ]
  },
  {
   "cell_type": "markdown",
   "id": "43643097",
   "metadata": {},
   "source": [
    "## 지름길 1446번\n",
    "\n",
    "* https://www.acmicpc.net/problem/1446"
   ]
  },
  {
   "cell_type": "code",
   "execution_count": 3,
   "id": "5e9ae6e7",
   "metadata": {},
   "outputs": [
    {
     "name": "stdout",
     "output_type": "stream",
     "text": [
      "5 150\n",
      "0 50 10\n",
      "0 50 20\n",
      "50 100 10\n",
      "100 151 10\n",
      "110 140 90\n",
      "70\n"
     ]
    }
   ],
   "source": [
    "N, D = map(int, input().split())\n",
    "arr = []\n",
    "for _ in range(N):\n",
    "    s, e, leng = map(int, input().split())\n",
    "    if e <= D:\n",
    "        arr.append([s,e,leng])\n",
    "\n",
    "distance = [i for i in range(D+1)]\n",
    "\n",
    "for i in range(D+1):\n",
    "    if i:\n",
    "        distance[i] = min(distance[i], distance[i-1]+1)\n",
    "    for j in arr:\n",
    "        if j[0] == i:\n",
    "            distance[j[1]] = min(distance[j[0]]+j[2], distance[j[1]])\n",
    "\n",
    "print(distance[-1])"
   ]
  },
  {
   "cell_type": "code",
   "execution_count": null,
   "id": "4433782d",
   "metadata": {},
   "outputs": [],
   "source": []
  }
 ],
 "metadata": {
  "kernelspec": {
   "display_name": "Python 3 (ipykernel)",
   "language": "python",
   "name": "python3"
  },
  "language_info": {
   "codemirror_mode": {
    "name": "ipython",
    "version": 3
   },
   "file_extension": ".py",
   "mimetype": "text/x-python",
   "name": "python",
   "nbconvert_exporter": "python",
   "pygments_lexer": "ipython3",
   "version": "3.8.11"
  }
 },
 "nbformat": 4,
 "nbformat_minor": 5
}
