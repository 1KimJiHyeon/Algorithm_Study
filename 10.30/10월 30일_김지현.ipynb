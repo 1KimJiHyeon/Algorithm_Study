{
 "cells": [
  {
   "cell_type": "markdown",
   "id": "8316543e",
   "metadata": {},
   "source": [
    "### 11729번 하노이 탑 이동 순서\n",
    "#### https://www.acmicpc.net/problem/11729"
   ]
  },
  {
   "cell_type": "code",
   "execution_count": 1,
   "id": "d3ee49f0",
   "metadata": {},
   "outputs": [
    {
     "name": "stdout",
     "output_type": "stream",
     "text": [
      "3\n",
      "7\n",
      "1 3\n",
      "1 2\n",
      "3 2\n",
      "1 3\n",
      "2 1\n",
      "2 3\n",
      "1 3\n"
     ]
    }
   ],
   "source": [
    "# 11729번\n",
    "def hanoi(n, p1, p2, p3):\n",
    "    if n == 1:\n",
    "        print(p1, p3)\n",
    "    else:\n",
    "        hanoi(n-1, p1, p3, p2)\n",
    "        print(p1, p3)\n",
    "        hanoi(n-1, p2, p1, p3)\n",
    "x = int(input())\n",
    "print(2**x-1)\n",
    "hanoi(x, 1, 2, 3)"
   ]
  },
  {
   "cell_type": "markdown",
   "id": "7450afe7",
   "metadata": {},
   "source": [
    "### 13907번 세금\n",
    "#### https://www.acmicpc.net/problem/13907"
   ]
  },
  {
   "cell_type": "code",
   "execution_count": 31,
   "id": "a32b4869",
   "metadata": {},
   "outputs": [
    {
     "name": "stdout",
     "output_type": "stream",
     "text": [
      "3 3 2\n",
      "1 3\n",
      "1 3 5\n",
      "1 2 1\n",
      "2 3 2\n",
      "cost 5\n",
      "cost 1\n",
      "cost 3\n",
      "3\n",
      "1\n",
      "cost 6\n",
      "cost 2\n",
      "3\n",
      "2\n",
      "cost 7\n",
      "cost 3\n",
      "3\n"
     ]
    }
   ],
   "source": [
    "# 13907번\n",
    "\n",
    "import heapq\n",
    "\n",
    "INF = int(1e9)  #무한을 의미하는 값으로 10억을 설정.\n",
    "\n",
    "# 도시의수, 도로의수, 세금인상횟수\n",
    "n, m, k = map(int, input().split())\n",
    "\n",
    "# 출발 도시 번호, 도착 도시 번호\n",
    "s, d = map(int, input().split())\n",
    "\n",
    "#각 도시에 연결되어 있는 도시에 대한 정보를 담는 리스트를 만들기\n",
    "graph = [[] for i in range(n + 1)]\n",
    "\n",
    "#최단 거리 테이블을 모두 무한으로 초기화\n",
    "distance = [INF] * (n + 1)\n",
    "\n",
    "#모든 도시 정보를 입력받기\n",
    "for _ in range(m):\n",
    "    # a,b 도시 / w 통행료\n",
    "    a, b, w = map(int, input().split())\n",
    "    #a번 노드에서 b번 노드로 가는 비용이 c라는 의미\n",
    "    graph[a].append((b, w))\n",
    "    global q\n",
    "    q = []\n",
    "\n",
    "def dijkstra(s,p):\n",
    "    global q\n",
    "    #시작 노드로 가기 위한 최단 경로는 0으로 설정하여, 큐에 삽입\n",
    "    heapq.heappush(q, (0, s))\n",
    "    distance[s] = 0\n",
    "    while q:    #큐가 비어있지 않다면\n",
    "        #가장 최단 거리가 짧은 노드에 대한 정보 꺼내기\n",
    "        dist, now = heapq.heappop(q)\n",
    "        # 현재 노드가 이미 처리된 적이 있는 노드라면 무시\n",
    "        if distance[now] < dist:\n",
    "            continue\n",
    "        # 현재 노드와 연결된 다른 인접한 노드들을 확인\n",
    "        for i in graph[now]:\n",
    "            cost = dist + i[1]\n",
    "            #현재 노드를 거쳐서, 다른 노드로 이동하는 거리가 더 짧은 경우\n",
    "            if cost < distance[i[0]]:\n",
    "                distance[i[0]] = cost +p\n",
    "                print(\"cost\",distance[i[0]])\n",
    "                heapq.heappush(q, (cost, i[0]))\n",
    "\n",
    "for k in range(k+1):\n",
    "    if k==0:\n",
    "        dijkstra(start,0)\n",
    "        print(distance[d])\n",
    "    else:   \n",
    "        # 인상되는 세금\n",
    "        p = int(input())\n",
    "        dijkstra(start,p)\n",
    "        print(distance[d])"
   ]
  },
  {
   "cell_type": "markdown",
   "id": "c99d151c",
   "metadata": {},
   "source": [
    "### 1446번 지름길\n",
    "#### https://www.acmicpc.net/problem/1446"
   ]
  },
  {
   "cell_type": "code",
   "execution_count": 2,
   "id": "60e763b1",
   "metadata": {},
   "outputs": [
    {
     "name": "stdout",
     "output_type": "stream",
     "text": [
      "5 150\n",
      "0 50 10\n",
      "0 50 20\n",
      "50 100 10\n",
      "100 151 10\n",
      "110 140 90\n",
      "70\n"
     ]
    }
   ],
   "source": [
    "# 1446번\n",
    "N, D = map(int, input().split())\n",
    "arr = []\n",
    "for _ in range(N):\n",
    "    s, e, leng = map(int, input().split())\n",
    "    if e <= D:\n",
    "        arr.append([s,e,leng])\n",
    "\n",
    "distance = [i for i in range(D+1)]\n",
    "\n",
    "for i in range(D+1):\n",
    "    if i:\n",
    "        distance[i] = min(distance[i], distance[i-1]+1)\n",
    "    for j in arr:\n",
    "        if j[0] == i:\n",
    "            distance[j[1]] = min(distance[j[0]]+j[2], distance[j[1]])\n",
    "\n",
    "print(distance[-1])"
   ]
  }
 ],
 "metadata": {
  "kernelspec": {
   "display_name": "Python 3 (ipykernel)",
   "language": "python",
   "name": "python3"
  },
  "language_info": {
   "codemirror_mode": {
    "name": "ipython",
    "version": 3
   },
   "file_extension": ".py",
   "mimetype": "text/x-python",
   "name": "python",
   "nbconvert_exporter": "python",
   "pygments_lexer": "ipython3",
   "version": "3.8.11"
  }
 },
 "nbformat": 4,
 "nbformat_minor": 5
}
