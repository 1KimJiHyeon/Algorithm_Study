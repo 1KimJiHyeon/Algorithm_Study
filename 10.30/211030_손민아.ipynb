{
 "cells": [
  {
   "cell_type": "markdown",
   "metadata": {},
   "source": [
    "# 11729번 하노이 탑 이동 순서 \n",
    "- https://www.acmicpc.net/problem/11729"
   ]
  },
  {
   "cell_type": "code",
   "execution_count": null,
   "metadata": {},
   "outputs": [],
   "source": [
    "n = int(input())\n",
    "def hanoi(n, a, b, c):\n",
    "    if n == 1:\n",
    "        print(a, c)\n",
    "    else:\n",
    "        hanoi(n - 1, a, c, b)\n",
    "        print(a, c)\n",
    "        hanoi(n - 1, b, a, c)\n",
    "sum = 1\n",
    "for i in range(n - 1):\n",
    "    sum = sum * 2 + 1\n",
    "print(sum)\n",
    "hanoi(n, 1, 2, 3)"
   ]
  },
  {
   "cell_type": "markdown",
   "metadata": {},
   "source": [
    "# 13907번 세금\n",
    "- https://www.acmicpc.net/problem/13907"
   ]
  },
  {
   "cell_type": "code",
   "execution_count": null,
   "metadata": {},
   "outputs": [],
   "source": [
    "import sys, heapq\n",
    "\n",
    "vertex, edges, taxes = map(int, sys.stdin.readline().split())\n",
    "start, end = map(int, sys.stdin.readline().split())\n",
    "\n",
    "adj = [[] for _ in range(vertex)]\n",
    "INF = 10000000000000000000\n",
    "tax_rate = []\n",
    "d = [[INF] * vertex for _ in range(vertex)]\n",
    "\n",
    "ans = INF\n",
    "def dijstra(v):\n",
    "    global ans\n",
    "    d[v][0] = 0\n",
    "    min_q = []\n",
    "    min_q.append((d[v][0], v, 0))\n",
    "    while len(min_q) != 0:\n",
    "        distance = min_q[0][0]\n",
    "        current = min_q[0][1]\n",
    "        visited = min_q[0][2]\n",
    "        heapq.heappop(min_q)\n",
    "        flag = False\n",
    "\n",
    "        for i in range(visited):\n",
    "            if d[current][i] < distance:\n",
    "                flag = True\n",
    "                break\n",
    "\n",
    "        if flag or d[current][visited] < distance:\n",
    "            continue\n",
    "        if current == end - 1:\n",
    "            ans = min(ans, d[current][visited])\n",
    "            continue\n",
    "        for i in range(len(adj[current])):\n",
    "            next = adj[current][i][0]\n",
    "            nextdistance = adj[current][i][1] + distance\n",
    "        \n",
    "        if visited + 1 < vertex and nextdistance < d[next][visited + 1]:\n",
    "                d[next][visited + 1] = nextdistance\n",
    "                heapq.heappush(min_q, (nextdistance, next, visited + 1))\n",
    "\n",
    "        for i in range(edges):\n",
    "            a, b, w = map(int, sys.stdin.readline().split())\n",
    "            adj[a - 1].append([b - 1, w])\n",
    "            adj[b - 1].append([a - 1, w])\n",
    "\n",
    "      \n",
    "        for i in range(taxes):\n",
    "            tax_rate.append(int(sys.stdin.readline()))\n",
    "\n",
    "     \n",
    "        dijstra(start - 1)\n",
    "\n",
    " \n",
    "        print(ans)\n",
    "\n",
    "      \n",
    "        for i in tax_rate:\n",
    "            for j in range(vertex):\n",
    "                if d[end - 1][j] != INF:\n",
    "                    d[end - 1][j] = d[end - 1][j] + i * j\n",
    "   \n",
    "            print(min(d[end - 1]))"
   ]
  },
  {
   "cell_type": "markdown",
   "metadata": {},
   "source": [
    "# 1446번 지름길\n",
    "- https://www.acmicpc.net/problem/1446"
   ]
  },
  {
   "cell_type": "code",
   "execution_count": null,
   "metadata": {},
   "outputs": [],
   "source": [
    "N, D = map(int, input().split())\n",
    "arr = []\n",
    "for _ in range(N):\n",
    "    s, e, leng = map(int, input().split())\n",
    "    if e <= D:\n",
    "        arr.append([s,e,leng])\n",
    "\n",
    "distance = [i for i in range(D+1)]\n",
    "\n",
    "for i in range(D+1):\n",
    "    if i:\n",
    "        distance[i] = min(distance[i], distance[i-1]+1)\n",
    "    for j in arr:\n",
    "        if j[0] == i:\n",
    "            distance[j[1]] = min(distance[j[0]]+j[2], distance[j[1]])\n",
    "\n",
    "print(distance[-1])"
   ]
  }
 ],
 "metadata": {
  "interpreter": {
   "hash": "838183ee7b8555b431a91736167a55b3c95bb59a44782dde488817f7776386cb"
  },
  "kernelspec": {
   "display_name": "Python 3.8.8 64-bit ('base': conda)",
   "name": "python3"
  },
  "language_info": {
   "name": "python",
   "version": "3.8.8"
  },
  "orig_nbformat": 4
 },
 "nbformat": 4,
 "nbformat_minor": 2
}
