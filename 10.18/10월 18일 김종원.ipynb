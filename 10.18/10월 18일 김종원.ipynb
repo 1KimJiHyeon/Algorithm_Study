{
 "cells": [
  {
   "cell_type": "markdown",
   "id": "86a11030",
   "metadata": {},
   "source": [
    "* **작성자** : 김종원\n",
    "* 작성일지 : 2021.10.18"
   ]
  },
  {
   "cell_type": "markdown",
   "id": "13f02820",
   "metadata": {},
   "source": [
    "## 스택 10828번\n",
    "\n",
    "* https://www.acmicpc.net/problem/10828\n"
   ]
  },
  {
   "cell_type": "code",
   "execution_count": 1,
   "id": "d19c3035",
   "metadata": {},
   "outputs": [
    {
     "name": "stdout",
     "output_type": "stream",
     "text": [
      "14\n",
      "push 1\n",
      "push 2\n",
      "top\n",
      "size\n",
      "empty\n",
      "pop\n",
      "pop\n",
      "pop\n",
      "size\n",
      "empty\n",
      "pop\n",
      "push 3\n",
      "empty\n",
      "top\n",
      "2\n",
      "2\n",
      "0\n",
      "2\n",
      "1\n",
      "-1\n",
      "0\n",
      "1\n",
      "-1\n",
      "0\n",
      "3\n"
     ]
    }
   ],
   "source": [
    "class Stack:\n",
    "    def __init__(self):\n",
    "        self.stackList = []\n",
    "    \n",
    "    def push(self,x):\n",
    "        self.stackList.append(x)\n",
    "    def pop(self,):\n",
    "        try:\n",
    "            return print(self.stackList.pop())\n",
    "        except IndexError:\n",
    "            return print(-1)\n",
    "    def size(self,):\n",
    "        return print(len(self.stackList))\n",
    "    def empty(self,):\n",
    "        return print(0) if len(self.stackList) >=1 else print(1)\n",
    "    \n",
    "    def top(self,):\n",
    "        return print(self.stackList[-1])\n",
    "\n",
    "N = int(input())\n",
    "flag =True\n",
    "commandList = []\n",
    "for i in range(N):\n",
    "    command = input()\n",
    "    commandList.append(command)\n",
    "    \n",
    "st = Stack()\n",
    "for command in commandList:\n",
    "    if command.split()[0] == \"push\":\n",
    "        st.push(int(command.split()[1]))\n",
    "    elif command.split()[0] == \"pop\":\n",
    "        st.pop()\n",
    "    elif command.split()[0] == \"size\":\n",
    "        st.size()\n",
    "    elif command.split()[0] == \"empty\":\n",
    "        st.empty()\n",
    "    elif command.split()[0] == \"top\":\n",
    "        st.top()"
   ]
  },
  {
   "cell_type": "markdown",
   "id": "9fae04e8",
   "metadata": {},
   "source": [
    "## 큐 10845번\n",
    "\n",
    "* https://www.acmicpc.net/problem/10845"
   ]
  },
  {
   "cell_type": "code",
   "execution_count": null,
   "id": "5cff462c",
   "metadata": {},
   "outputs": [],
   "source": [
    "class Queen:\n",
    "    def __init__(self):\n",
    "        self.queenkList = []\n",
    "    \n",
    "    def push(self,x):\n",
    "        self.queenkList.append(x)\n",
    "    def pop(self,):\n",
    "        try:\n",
    "            return print(self.queenkList.pop(0))\n",
    "        except IndexError:\n",
    "            return print(-1)\n",
    "    def size(self,):\n",
    "        return print(len(self.queenkList))\n",
    "    def empty(self,):\n",
    "        return print(0) if len(self.queenkList) >=1 else print(1)\n",
    "    \n",
    "    def front(self,):\n",
    "        try:\n",
    "            return print(self.queenkList[0])\n",
    "        except:\n",
    "            return print(-1)\n",
    "    def back(self,):        \n",
    "        try:\n",
    "            return print(self.queenkList[-1])\n",
    "        except:\n",
    "            return print(-1)\n",
    "\n",
    "N = int(input())\n",
    "flag =True\n",
    "c = 0\n",
    "commandList = []\n",
    "for i in range(N):\n",
    "    command = input()\n",
    "    commandList.append(command)\n",
    "\n",
    "qu = Queen()\n",
    "for com in commandList:\n",
    "    if com.split()[0] == \"push\":\n",
    "        qu.push(int(com.split()[1]))\n",
    "    elif com.split()[0] == \"pop\":\n",
    "        qu.pop()\n",
    "    elif com.split()[0] == \"size\":\n",
    "        qu.size()\n",
    "    elif com.split()[0] == \"empty\":\n",
    "        qu.empty()\n",
    "    elif com.split()[0] == \"front\":\n",
    "        qu.front()\n",
    "    elif com.split()[0] == \"back\":\n",
    "        qu.back()"
   ]
  },
  {
   "cell_type": "code",
   "execution_count": null,
   "id": "08fa6ee5",
   "metadata": {},
   "outputs": [],
   "source": []
  }
 ],
 "metadata": {
  "kernelspec": {
   "display_name": "Python 3 (ipykernel)",
   "language": "python",
   "name": "python3"
  },
  "language_info": {
   "codemirror_mode": {
    "name": "ipython",
    "version": 3
   },
   "file_extension": ".py",
   "mimetype": "text/x-python",
   "name": "python",
   "nbconvert_exporter": "python",
   "pygments_lexer": "ipython3",
   "version": "3.8.11"
  }
 },
 "nbformat": 4,
 "nbformat_minor": 5
}
