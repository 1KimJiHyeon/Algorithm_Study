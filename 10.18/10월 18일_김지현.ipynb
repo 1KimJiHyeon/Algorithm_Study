{
 "cells": [
  {
   "cell_type": "markdown",
   "id": "079d830f",
   "metadata": {},
   "source": [
    "### 10828번 스택\n",
    "#### https://www.acmicpc.net/problem/10828"
   ]
  },
  {
   "cell_type": "code",
   "execution_count": 1,
   "id": "8e2071f5",
   "metadata": {},
   "outputs": [
    {
     "name": "stdout",
     "output_type": "stream",
     "text": [
      "14\n",
      "push 1\n",
      "push 2\n",
      "top\n",
      "2\n",
      "size\n",
      "2\n",
      "empty\n",
      "0\n",
      "pop\n",
      "2\n",
      "pop\n",
      "1\n",
      "pop\n",
      "-1\n",
      "size\n",
      "0\n",
      "empty\n",
      "1\n",
      "pop\n",
      "-1\n",
      "push 3\n",
      "empty\n",
      "0\n",
      "top\n",
      "3\n"
     ]
    }
   ],
   "source": [
    "#10828\n",
    "\n",
    "n = int(input())\n",
    "\n",
    "stack=[]\n",
    "for i in range(n):\n",
    "    stack_line = input().split()\n",
    "\n",
    "    if stack_line[0]=='push':\n",
    "        stack.append(stack_line[1])\n",
    "    elif stack_line[0]=='pop':\n",
    "        if len(stack)==0:\n",
    "            print(-1)\n",
    "        else:\n",
    "            print(stack.pop())\n",
    "    elif stack_line[0] == 'size':\n",
    "        print(len(stack))\n",
    "    elif stack_line[0] == 'empty':\n",
    "        if len(stack)==0:\n",
    "            print(1)\n",
    "        else:\n",
    "            print(0)\n",
    "    elif stack_line[0] == 'top':\n",
    "        if len(stack)==0:\n",
    "            print(-1)\n",
    "        else:\n",
    "            print(stack[-1])"
   ]
  },
  {
   "cell_type": "markdown",
   "id": "c5c12b98",
   "metadata": {},
   "source": [
    "### 10845번 큐\n",
    "#### https://www.acmicpc.net/problem/10845"
   ]
  },
  {
   "cell_type": "code",
   "execution_count": 3,
   "id": "7b117564",
   "metadata": {},
   "outputs": [
    {
     "name": "stdout",
     "output_type": "stream",
     "text": [
      "15\n",
      "push 1\n",
      "push 2\n",
      "front\n",
      "1\n",
      "back\n",
      "2\n",
      "size\n",
      "2\n",
      "empty\n",
      "0\n",
      "pop\n",
      "1\n",
      "pop\n",
      "2\n",
      "pop\n",
      "-1\n",
      "size\n",
      "0\n",
      "empty\n",
      "1\n",
      "pop\n",
      "-1\n",
      "push 3\n",
      "empty\n",
      "0\n",
      "front\n",
      "3\n"
     ]
    }
   ],
   "source": [
    "#10845\n",
    "\n",
    "n = int(input())\n",
    "que=[]\n",
    "\n",
    "for i in range(n):\n",
    "    que_line = input().split()\n",
    "\n",
    "    if que_line[0]=='push':\n",
    "        que.append(que_line[1])\n",
    "    elif que_line[0]=='pop':\n",
    "        if len(que)==0:\n",
    "            print(-1)\n",
    "        else:\n",
    "            print(que.pop(0))\n",
    "    elif que_line[0] == 'size':\n",
    "        print(len(que))\n",
    "    elif que_line[0] == 'empty':\n",
    "        if len(que)==0:\n",
    "            print(1)\n",
    "        else:\n",
    "            print(0)\n",
    "    elif que_line[0] == 'front':\n",
    "        if len(que)==0:\n",
    "            print(-1)\n",
    "        else:\n",
    "            print(que[0])\n",
    "    elif que_line[0] == 'back':\n",
    "        if len(que)==0:\n",
    "            print(-1)\n",
    "        else:\n",
    "            print(que[-1])"
   ]
  }
 ],
 "metadata": {
  "kernelspec": {
   "display_name": "Python 3 (ipykernel)",
   "language": "python",
   "name": "python3"
  },
  "language_info": {
   "codemirror_mode": {
    "name": "ipython",
    "version": 3
   },
   "file_extension": ".py",
   "mimetype": "text/x-python",
   "name": "python",
   "nbconvert_exporter": "python",
   "pygments_lexer": "ipython3",
   "version": "3.8.11"
  }
 },
 "nbformat": 4,
 "nbformat_minor": 5
}
