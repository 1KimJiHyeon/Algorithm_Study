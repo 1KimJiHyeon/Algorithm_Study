{
 "cells": [
  {
   "cell_type": "markdown",
   "metadata": {},
   "source": [
    "# 10828번 스택\n",
    "- https://www.acmicpc.net/problem/10828"
   ]
  },
  {
   "cell_type": "code",
   "execution_count": null,
   "metadata": {},
   "outputs": [],
   "source": [
    "import sys\n",
    "n = int(sys.stdin.readline())\n",
    "\n",
    "stack=[]\n",
    "for i in range(n):\n",
    "    command = sys.stdin.readline().split()\n",
    "\n",
    "    if command[0]=='push':\n",
    "        stack.append(command[1])\n",
    "    elif command[0]=='pop':\n",
    "        if len(stack)==0:\n",
    "            print(-1)\n",
    "        else:\n",
    "            print(stack.pop())\n",
    "    elif command[0] == 'size':\n",
    "        print(len(stack))\n",
    "    elif command[0] == 'empty':\n",
    "        if len(stack)==0:\n",
    "            print(1)\n",
    "        else:\n",
    "            print(0)\n",
    "    elif command[0] == 'top':\n",
    "        if len(stack)==0:\n",
    "            print(-1)\n",
    "        else:\n",
    "            print(stack[-1])"
   ]
  },
  {
   "cell_type": "markdown",
   "metadata": {},
   "source": [
    "# 10845번 큐\n",
    "- https://www.acmicpc.net/problem/10845"
   ]
  },
  {
   "cell_type": "code",
   "execution_count": null,
   "metadata": {},
   "outputs": [],
   "source": [
    "import sys\n",
    "\n",
    "N = int(sys.stdin.readline())\n",
    "\n",
    "queue = []\n",
    "\n",
    "for i in range(N):\n",
    "    cmd = sys.stdin.readline().split()\n",
    "\n",
    "    if cmd[0] == \"push\":\n",
    "        queue.insert(0, cmd[1])\n",
    "        ##print(queue)\n",
    "\n",
    "    elif cmd[0] == \"pop\":\n",
    "        if len(queue) != 0: print(queue.pop())\n",
    "        else: print(-1)\n",
    "\n",
    "    elif cmd[0] == \"size\":\n",
    "        print(len(queue))\n",
    "\n",
    "    elif cmd[0] == \"empty\":\n",
    "        if len(queue) == 0: print(1)\n",
    "        else : print(0)\n",
    "\n",
    "    elif cmd[0] == \"front\":\n",
    "        if len(queue) == 0: print(-1)\n",
    "        else: print(queue[len(queue) -1])\n",
    "\n",
    "    elif cmd[0] == \"back\":\n",
    "        if len(queue) == 0: print(-1)\n",
    "        else: print(queue[0])"
   ]
  }
 ],
 "metadata": {
  "interpreter": {
   "hash": "838183ee7b8555b431a91736167a55b3c95bb59a44782dde488817f7776386cb"
  },
  "kernelspec": {
   "display_name": "Python 3.8.8 64-bit ('base': conda)",
   "name": "python3"
  },
  "language_info": {
   "codemirror_mode": {
    "name": "ipython",
    "version": 3
   },
   "file_extension": ".py",
   "mimetype": "text/x-python",
   "name": "python",
   "nbconvert_exporter": "python",
   "pygments_lexer": "ipython3",
   "version": "3.8.8"
  },
  "orig_nbformat": 4
 },
 "nbformat": 4,
 "nbformat_minor": 2
}
