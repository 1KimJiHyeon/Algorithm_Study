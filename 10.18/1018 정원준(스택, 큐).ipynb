{
 "cells": [
  {
   "cell_type": "code",
   "execution_count": null,
   "id": "09eb5f17",
   "metadata": {},
   "outputs": [],
   "source": [
    "https://www.acmicpc.net/problem/10828"
   ]
  },
  {
   "cell_type": "code",
   "execution_count": 14,
   "id": "77904826",
   "metadata": {},
   "outputs": [
    {
     "name": "stdout",
     "output_type": "stream",
     "text": [
      "3\n",
      "push 1\n",
      "push 2\n",
      "top\n"
     ]
    },
    {
     "data": {
      "text/plain": [
       "[['push', '1'], ['push', '2'], ['top']]"
      ]
     },
     "execution_count": 14,
     "metadata": {},
     "output_type": "execute_result"
    }
   ],
   "source": [
    "num = int(input())\n",
    "order_ls = []\n",
    "for i in range(num):\n",
    "    order_ls.append(input().split())\n",
    "order_ls"
   ]
  },
  {
   "cell_type": "code",
   "execution_count": 16,
   "id": "554c9a69",
   "metadata": {},
   "outputs": [
    {
     "name": "stdout",
     "output_type": "stream",
     "text": [
      "push\n",
      "1\n",
      "push\n",
      "2\n",
      "top\n"
     ]
    }
   ],
   "source": []
  },
  {
   "cell_type": "code",
   "execution_count": null,
   "id": "5b487346",
   "metadata": {},
   "outputs": [],
   "source": []
  },
  {
   "cell_type": "code",
   "execution_count": 17,
   "id": "5af35152",
   "metadata": {},
   "outputs": [],
   "source": [
    "num = int(input())\n",
    "order_ls = []\n",
    "for i in range(num):\n",
    "    order_ls.append(input().split())\n",
    "order_ls\n",
    "\n",
    "ls = []\n",
    "def push(n):\n",
    "    ls.append(n)\n",
    "    \n",
    "def pop():\n",
    "    if len(ls) > 0:\n",
    "        print(ls.pop())\n",
    "    else:\n",
    "        print(-1)\n",
    "\n",
    "def size():\n",
    "    print(len(ls))\n",
    "\n",
    "def empty():\n",
    "    print( 0 if len(ls) > 0 else 1)\n",
    "\n",
    "def top():\n",
    "    print( ls[-1] if len(ls) > 0 else -1)\n",
    "\n",
    "dic = {'push':push, 'pop':pop, 'size':size, 'empty':empty, 'top':top}\n",
    "\n",
    "for i in order_ls:\n",
    "    if i[0] == 'push':\n",
    "        push(i[1])\n",
    "    else:\n",
    "        dic[i[0]]()"
   ]
  },
  {
   "cell_type": "code",
   "execution_count": 20,
   "id": "68a2aaf8",
   "metadata": {},
   "outputs": [
    {
     "name": "stdout",
     "output_type": "stream",
     "text": [
      "2\n"
     ]
    }
   ],
   "source": [
    "for i in order_ls:\n",
    "    if i[0] == 'push':\n",
    "        push(i[1])\n",
    "    else:\n",
    "        dic[i[0]]()\n",
    "        "
   ]
  },
  {
   "cell_type": "code",
   "execution_count": 5,
   "id": "0feee590",
   "metadata": {},
   "outputs": [
    {
     "data": {
      "text/plain": [
       "[1]"
      ]
     },
     "execution_count": 5,
     "metadata": {},
     "output_type": "execute_result"
    }
   ],
   "source": [
    "ls"
   ]
  },
  {
   "cell_type": "code",
   "execution_count": 6,
   "id": "5e83b672",
   "metadata": {},
   "outputs": [
    {
     "data": {
      "text/plain": [
       "1"
      ]
     },
     "execution_count": 6,
     "metadata": {},
     "output_type": "execute_result"
    }
   ],
   "source": [
    "ls.pop()"
   ]
  },
  {
   "cell_type": "code",
   "execution_count": 9,
   "id": "a1e91b4d",
   "metadata": {},
   "outputs": [
    {
     "name": "stdout",
     "output_type": "stream",
     "text": [
      "0\n"
     ]
    }
   ],
   "source": [
    "print( 0 if len(ls) > 0 else 1)"
   ]
  },
  {
   "cell_type": "code",
   "execution_count": 11,
   "id": "a6d3bc74",
   "metadata": {},
   "outputs": [
    {
     "ename": "ValueError",
     "evalue": "not enough values to unpack (expected 2, got 1)",
     "output_type": "error",
     "traceback": [
      "\u001b[0;31m---------------------------------------------------------------------------\u001b[0m",
      "\u001b[0;31mValueError\u001b[0m                                Traceback (most recent call last)",
      "\u001b[0;32m/var/folders/st/8lydz3r17dn57k_gtcwrrc380000gn/T/ipykernel_2126/3828888277.py\u001b[0m in \u001b[0;36m<module>\u001b[0;34m\u001b[0m\n\u001b[0;32m----> 1\u001b[0;31m \u001b[0ma\u001b[0m\u001b[0;34m,\u001b[0m \u001b[0mb\u001b[0m \u001b[0;34m=\u001b[0m \u001b[0;34m'top'\u001b[0m\u001b[0;34m.\u001b[0m\u001b[0msplit\u001b[0m\u001b[0;34m(\u001b[0m\u001b[0;34m)\u001b[0m\u001b[0;34m\u001b[0m\u001b[0;34m\u001b[0m\u001b[0m\n\u001b[0m",
      "\u001b[0;31mValueError\u001b[0m: not enough values to unpack (expected 2, got 1)"
     ]
    }
   ],
   "source": [
    "a, b = 'top'.split()"
   ]
  },
  {
   "cell_type": "code",
   "execution_count": null,
   "id": "0f47bc78",
   "metadata": {},
   "outputs": [],
   "source": []
  }
 ],
 "metadata": {
  "kernelspec": {
   "display_name": "Python 3.8.11 64-bit ('ds_study': conda)",
   "language": "python",
   "name": "python3811jvsc74a57bd0a10808f447772974824511a6b5cb5e14477e09133452cf9a8171d160635b28f4"
  },
  "language_info": {
   "codemirror_mode": {
    "name": "ipython",
    "version": 3
   },
   "file_extension": ".py",
   "mimetype": "text/x-python",
   "name": "python",
   "nbconvert_exporter": "python",
   "pygments_lexer": "ipython3",
   "version": "3.8.11"
  }
 },
 "nbformat": 4,
 "nbformat_minor": 5
}
